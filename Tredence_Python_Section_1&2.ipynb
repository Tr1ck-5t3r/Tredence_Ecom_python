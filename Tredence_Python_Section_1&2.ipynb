{
 "cells": [
  {
   "cell_type": "code",
   "execution_count": 1,
   "id": "0e3215f7",
   "metadata": {},
   "outputs": [],
   "source": [
    "import pandas as pd"
   ]
  },
  {
   "cell_type": "markdown",
   "id": "e73ad41f",
   "metadata": {},
   "source": [
    "## Section 1: Data Preprocessing and Descriptive Statistics"
   ]
  },
  {
   "cell_type": "markdown",
   "id": "2aeb5916",
   "metadata": {},
   "source": [
    "### 1.1 Data Loading and Inspection "
   ]
  },
  {
   "cell_type": "code",
   "execution_count": 2,
   "id": "6d07b24f",
   "metadata": {},
   "outputs": [
    {
     "ename": "FileNotFoundError",
     "evalue": "[Errno 2] No such file or directory: 'df_Orders.csv'",
     "output_type": "error",
     "traceback": [
      "\u001b[1;31m---------------------------------------------------------------------------\u001b[0m",
      "\u001b[1;31mFileNotFoundError\u001b[0m                         Traceback (most recent call last)",
      "Cell \u001b[1;32mIn[2], line 1\u001b[0m\n\u001b[1;32m----> 1\u001b[0m orders \u001b[38;5;241m=\u001b[39m \u001b[43mpd\u001b[49m\u001b[38;5;241;43m.\u001b[39;49m\u001b[43mread_csv\u001b[49m\u001b[43m(\u001b[49m\u001b[38;5;124;43m\"\u001b[39;49m\u001b[38;5;124;43mdf_Orders.csv\u001b[39;49m\u001b[38;5;124;43m\"\u001b[39;49m\u001b[43m)\u001b[49m\n\u001b[0;32m      2\u001b[0m customers \u001b[38;5;241m=\u001b[39m pd\u001b[38;5;241m.\u001b[39mread_csv(\u001b[38;5;124m\"\u001b[39m\u001b[38;5;124mEcommerce Order Dataset/df_Customers.csv\u001b[39m\u001b[38;5;124m\"\u001b[39m)\n\u001b[0;32m      3\u001b[0m payments \u001b[38;5;241m=\u001b[39m pd\u001b[38;5;241m.\u001b[39mread_csv(\u001b[38;5;124m\"\u001b[39m\u001b[38;5;124mdf_Payments_new.csv\u001b[39m\u001b[38;5;124m\"\u001b[39m)\n",
      "File \u001b[1;32mc:\\Users\\tarun\\AppData\\Local\\Programs\\Python\\Python312\\Lib\\site-packages\\pandas\\io\\parsers\\readers.py:1026\u001b[0m, in \u001b[0;36mread_csv\u001b[1;34m(filepath_or_buffer, sep, delimiter, header, names, index_col, usecols, dtype, engine, converters, true_values, false_values, skipinitialspace, skiprows, skipfooter, nrows, na_values, keep_default_na, na_filter, verbose, skip_blank_lines, parse_dates, infer_datetime_format, keep_date_col, date_parser, date_format, dayfirst, cache_dates, iterator, chunksize, compression, thousands, decimal, lineterminator, quotechar, quoting, doublequote, escapechar, comment, encoding, encoding_errors, dialect, on_bad_lines, delim_whitespace, low_memory, memory_map, float_precision, storage_options, dtype_backend)\u001b[0m\n\u001b[0;32m   1013\u001b[0m kwds_defaults \u001b[38;5;241m=\u001b[39m _refine_defaults_read(\n\u001b[0;32m   1014\u001b[0m     dialect,\n\u001b[0;32m   1015\u001b[0m     delimiter,\n\u001b[1;32m   (...)\u001b[0m\n\u001b[0;32m   1022\u001b[0m     dtype_backend\u001b[38;5;241m=\u001b[39mdtype_backend,\n\u001b[0;32m   1023\u001b[0m )\n\u001b[0;32m   1024\u001b[0m kwds\u001b[38;5;241m.\u001b[39mupdate(kwds_defaults)\n\u001b[1;32m-> 1026\u001b[0m \u001b[38;5;28;01mreturn\u001b[39;00m \u001b[43m_read\u001b[49m\u001b[43m(\u001b[49m\u001b[43mfilepath_or_buffer\u001b[49m\u001b[43m,\u001b[49m\u001b[43m \u001b[49m\u001b[43mkwds\u001b[49m\u001b[43m)\u001b[49m\n",
      "File \u001b[1;32mc:\\Users\\tarun\\AppData\\Local\\Programs\\Python\\Python312\\Lib\\site-packages\\pandas\\io\\parsers\\readers.py:620\u001b[0m, in \u001b[0;36m_read\u001b[1;34m(filepath_or_buffer, kwds)\u001b[0m\n\u001b[0;32m    617\u001b[0m _validate_names(kwds\u001b[38;5;241m.\u001b[39mget(\u001b[38;5;124m\"\u001b[39m\u001b[38;5;124mnames\u001b[39m\u001b[38;5;124m\"\u001b[39m, \u001b[38;5;28;01mNone\u001b[39;00m))\n\u001b[0;32m    619\u001b[0m \u001b[38;5;66;03m# Create the parser.\u001b[39;00m\n\u001b[1;32m--> 620\u001b[0m parser \u001b[38;5;241m=\u001b[39m \u001b[43mTextFileReader\u001b[49m\u001b[43m(\u001b[49m\u001b[43mfilepath_or_buffer\u001b[49m\u001b[43m,\u001b[49m\u001b[43m \u001b[49m\u001b[38;5;241;43m*\u001b[39;49m\u001b[38;5;241;43m*\u001b[39;49m\u001b[43mkwds\u001b[49m\u001b[43m)\u001b[49m\n\u001b[0;32m    622\u001b[0m \u001b[38;5;28;01mif\u001b[39;00m chunksize \u001b[38;5;129;01mor\u001b[39;00m iterator:\n\u001b[0;32m    623\u001b[0m     \u001b[38;5;28;01mreturn\u001b[39;00m parser\n",
      "File \u001b[1;32mc:\\Users\\tarun\\AppData\\Local\\Programs\\Python\\Python312\\Lib\\site-packages\\pandas\\io\\parsers\\readers.py:1620\u001b[0m, in \u001b[0;36mTextFileReader.__init__\u001b[1;34m(self, f, engine, **kwds)\u001b[0m\n\u001b[0;32m   1617\u001b[0m     \u001b[38;5;28mself\u001b[39m\u001b[38;5;241m.\u001b[39moptions[\u001b[38;5;124m\"\u001b[39m\u001b[38;5;124mhas_index_names\u001b[39m\u001b[38;5;124m\"\u001b[39m] \u001b[38;5;241m=\u001b[39m kwds[\u001b[38;5;124m\"\u001b[39m\u001b[38;5;124mhas_index_names\u001b[39m\u001b[38;5;124m\"\u001b[39m]\n\u001b[0;32m   1619\u001b[0m \u001b[38;5;28mself\u001b[39m\u001b[38;5;241m.\u001b[39mhandles: IOHandles \u001b[38;5;241m|\u001b[39m \u001b[38;5;28;01mNone\u001b[39;00m \u001b[38;5;241m=\u001b[39m \u001b[38;5;28;01mNone\u001b[39;00m\n\u001b[1;32m-> 1620\u001b[0m \u001b[38;5;28mself\u001b[39m\u001b[38;5;241m.\u001b[39m_engine \u001b[38;5;241m=\u001b[39m \u001b[38;5;28;43mself\u001b[39;49m\u001b[38;5;241;43m.\u001b[39;49m\u001b[43m_make_engine\u001b[49m\u001b[43m(\u001b[49m\u001b[43mf\u001b[49m\u001b[43m,\u001b[49m\u001b[43m \u001b[49m\u001b[38;5;28;43mself\u001b[39;49m\u001b[38;5;241;43m.\u001b[39;49m\u001b[43mengine\u001b[49m\u001b[43m)\u001b[49m\n",
      "File \u001b[1;32mc:\\Users\\tarun\\AppData\\Local\\Programs\\Python\\Python312\\Lib\\site-packages\\pandas\\io\\parsers\\readers.py:1880\u001b[0m, in \u001b[0;36mTextFileReader._make_engine\u001b[1;34m(self, f, engine)\u001b[0m\n\u001b[0;32m   1878\u001b[0m     \u001b[38;5;28;01mif\u001b[39;00m \u001b[38;5;124m\"\u001b[39m\u001b[38;5;124mb\u001b[39m\u001b[38;5;124m\"\u001b[39m \u001b[38;5;129;01mnot\u001b[39;00m \u001b[38;5;129;01min\u001b[39;00m mode:\n\u001b[0;32m   1879\u001b[0m         mode \u001b[38;5;241m+\u001b[39m\u001b[38;5;241m=\u001b[39m \u001b[38;5;124m\"\u001b[39m\u001b[38;5;124mb\u001b[39m\u001b[38;5;124m\"\u001b[39m\n\u001b[1;32m-> 1880\u001b[0m \u001b[38;5;28mself\u001b[39m\u001b[38;5;241m.\u001b[39mhandles \u001b[38;5;241m=\u001b[39m \u001b[43mget_handle\u001b[49m\u001b[43m(\u001b[49m\n\u001b[0;32m   1881\u001b[0m \u001b[43m    \u001b[49m\u001b[43mf\u001b[49m\u001b[43m,\u001b[49m\n\u001b[0;32m   1882\u001b[0m \u001b[43m    \u001b[49m\u001b[43mmode\u001b[49m\u001b[43m,\u001b[49m\n\u001b[0;32m   1883\u001b[0m \u001b[43m    \u001b[49m\u001b[43mencoding\u001b[49m\u001b[38;5;241;43m=\u001b[39;49m\u001b[38;5;28;43mself\u001b[39;49m\u001b[38;5;241;43m.\u001b[39;49m\u001b[43moptions\u001b[49m\u001b[38;5;241;43m.\u001b[39;49m\u001b[43mget\u001b[49m\u001b[43m(\u001b[49m\u001b[38;5;124;43m\"\u001b[39;49m\u001b[38;5;124;43mencoding\u001b[39;49m\u001b[38;5;124;43m\"\u001b[39;49m\u001b[43m,\u001b[49m\u001b[43m \u001b[49m\u001b[38;5;28;43;01mNone\u001b[39;49;00m\u001b[43m)\u001b[49m\u001b[43m,\u001b[49m\n\u001b[0;32m   1884\u001b[0m \u001b[43m    \u001b[49m\u001b[43mcompression\u001b[49m\u001b[38;5;241;43m=\u001b[39;49m\u001b[38;5;28;43mself\u001b[39;49m\u001b[38;5;241;43m.\u001b[39;49m\u001b[43moptions\u001b[49m\u001b[38;5;241;43m.\u001b[39;49m\u001b[43mget\u001b[49m\u001b[43m(\u001b[49m\u001b[38;5;124;43m\"\u001b[39;49m\u001b[38;5;124;43mcompression\u001b[39;49m\u001b[38;5;124;43m\"\u001b[39;49m\u001b[43m,\u001b[49m\u001b[43m \u001b[49m\u001b[38;5;28;43;01mNone\u001b[39;49;00m\u001b[43m)\u001b[49m\u001b[43m,\u001b[49m\n\u001b[0;32m   1885\u001b[0m \u001b[43m    \u001b[49m\u001b[43mmemory_map\u001b[49m\u001b[38;5;241;43m=\u001b[39;49m\u001b[38;5;28;43mself\u001b[39;49m\u001b[38;5;241;43m.\u001b[39;49m\u001b[43moptions\u001b[49m\u001b[38;5;241;43m.\u001b[39;49m\u001b[43mget\u001b[49m\u001b[43m(\u001b[49m\u001b[38;5;124;43m\"\u001b[39;49m\u001b[38;5;124;43mmemory_map\u001b[39;49m\u001b[38;5;124;43m\"\u001b[39;49m\u001b[43m,\u001b[49m\u001b[43m \u001b[49m\u001b[38;5;28;43;01mFalse\u001b[39;49;00m\u001b[43m)\u001b[49m\u001b[43m,\u001b[49m\n\u001b[0;32m   1886\u001b[0m \u001b[43m    \u001b[49m\u001b[43mis_text\u001b[49m\u001b[38;5;241;43m=\u001b[39;49m\u001b[43mis_text\u001b[49m\u001b[43m,\u001b[49m\n\u001b[0;32m   1887\u001b[0m \u001b[43m    \u001b[49m\u001b[43merrors\u001b[49m\u001b[38;5;241;43m=\u001b[39;49m\u001b[38;5;28;43mself\u001b[39;49m\u001b[38;5;241;43m.\u001b[39;49m\u001b[43moptions\u001b[49m\u001b[38;5;241;43m.\u001b[39;49m\u001b[43mget\u001b[49m\u001b[43m(\u001b[49m\u001b[38;5;124;43m\"\u001b[39;49m\u001b[38;5;124;43mencoding_errors\u001b[39;49m\u001b[38;5;124;43m\"\u001b[39;49m\u001b[43m,\u001b[49m\u001b[43m \u001b[49m\u001b[38;5;124;43m\"\u001b[39;49m\u001b[38;5;124;43mstrict\u001b[39;49m\u001b[38;5;124;43m\"\u001b[39;49m\u001b[43m)\u001b[49m\u001b[43m,\u001b[49m\n\u001b[0;32m   1888\u001b[0m \u001b[43m    \u001b[49m\u001b[43mstorage_options\u001b[49m\u001b[38;5;241;43m=\u001b[39;49m\u001b[38;5;28;43mself\u001b[39;49m\u001b[38;5;241;43m.\u001b[39;49m\u001b[43moptions\u001b[49m\u001b[38;5;241;43m.\u001b[39;49m\u001b[43mget\u001b[49m\u001b[43m(\u001b[49m\u001b[38;5;124;43m\"\u001b[39;49m\u001b[38;5;124;43mstorage_options\u001b[39;49m\u001b[38;5;124;43m\"\u001b[39;49m\u001b[43m,\u001b[49m\u001b[43m \u001b[49m\u001b[38;5;28;43;01mNone\u001b[39;49;00m\u001b[43m)\u001b[49m\u001b[43m,\u001b[49m\n\u001b[0;32m   1889\u001b[0m \u001b[43m\u001b[49m\u001b[43m)\u001b[49m\n\u001b[0;32m   1890\u001b[0m \u001b[38;5;28;01massert\u001b[39;00m \u001b[38;5;28mself\u001b[39m\u001b[38;5;241m.\u001b[39mhandles \u001b[38;5;129;01mis\u001b[39;00m \u001b[38;5;129;01mnot\u001b[39;00m \u001b[38;5;28;01mNone\u001b[39;00m\n\u001b[0;32m   1891\u001b[0m f \u001b[38;5;241m=\u001b[39m \u001b[38;5;28mself\u001b[39m\u001b[38;5;241m.\u001b[39mhandles\u001b[38;5;241m.\u001b[39mhandle\n",
      "File \u001b[1;32mc:\\Users\\tarun\\AppData\\Local\\Programs\\Python\\Python312\\Lib\\site-packages\\pandas\\io\\common.py:873\u001b[0m, in \u001b[0;36mget_handle\u001b[1;34m(path_or_buf, mode, encoding, compression, memory_map, is_text, errors, storage_options)\u001b[0m\n\u001b[0;32m    868\u001b[0m \u001b[38;5;28;01melif\u001b[39;00m \u001b[38;5;28misinstance\u001b[39m(handle, \u001b[38;5;28mstr\u001b[39m):\n\u001b[0;32m    869\u001b[0m     \u001b[38;5;66;03m# Check whether the filename is to be opened in binary mode.\u001b[39;00m\n\u001b[0;32m    870\u001b[0m     \u001b[38;5;66;03m# Binary mode does not support 'encoding' and 'newline'.\u001b[39;00m\n\u001b[0;32m    871\u001b[0m     \u001b[38;5;28;01mif\u001b[39;00m ioargs\u001b[38;5;241m.\u001b[39mencoding \u001b[38;5;129;01mand\u001b[39;00m \u001b[38;5;124m\"\u001b[39m\u001b[38;5;124mb\u001b[39m\u001b[38;5;124m\"\u001b[39m \u001b[38;5;129;01mnot\u001b[39;00m \u001b[38;5;129;01min\u001b[39;00m ioargs\u001b[38;5;241m.\u001b[39mmode:\n\u001b[0;32m    872\u001b[0m         \u001b[38;5;66;03m# Encoding\u001b[39;00m\n\u001b[1;32m--> 873\u001b[0m         handle \u001b[38;5;241m=\u001b[39m \u001b[38;5;28;43mopen\u001b[39;49m\u001b[43m(\u001b[49m\n\u001b[0;32m    874\u001b[0m \u001b[43m            \u001b[49m\u001b[43mhandle\u001b[49m\u001b[43m,\u001b[49m\n\u001b[0;32m    875\u001b[0m \u001b[43m            \u001b[49m\u001b[43mioargs\u001b[49m\u001b[38;5;241;43m.\u001b[39;49m\u001b[43mmode\u001b[49m\u001b[43m,\u001b[49m\n\u001b[0;32m    876\u001b[0m \u001b[43m            \u001b[49m\u001b[43mencoding\u001b[49m\u001b[38;5;241;43m=\u001b[39;49m\u001b[43mioargs\u001b[49m\u001b[38;5;241;43m.\u001b[39;49m\u001b[43mencoding\u001b[49m\u001b[43m,\u001b[49m\n\u001b[0;32m    877\u001b[0m \u001b[43m            \u001b[49m\u001b[43merrors\u001b[49m\u001b[38;5;241;43m=\u001b[39;49m\u001b[43merrors\u001b[49m\u001b[43m,\u001b[49m\n\u001b[0;32m    878\u001b[0m \u001b[43m            \u001b[49m\u001b[43mnewline\u001b[49m\u001b[38;5;241;43m=\u001b[39;49m\u001b[38;5;124;43m\"\u001b[39;49m\u001b[38;5;124;43m\"\u001b[39;49m\u001b[43m,\u001b[49m\n\u001b[0;32m    879\u001b[0m \u001b[43m        \u001b[49m\u001b[43m)\u001b[49m\n\u001b[0;32m    880\u001b[0m     \u001b[38;5;28;01melse\u001b[39;00m:\n\u001b[0;32m    881\u001b[0m         \u001b[38;5;66;03m# Binary mode\u001b[39;00m\n\u001b[0;32m    882\u001b[0m         handle \u001b[38;5;241m=\u001b[39m \u001b[38;5;28mopen\u001b[39m(handle, ioargs\u001b[38;5;241m.\u001b[39mmode)\n",
      "\u001b[1;31mFileNotFoundError\u001b[0m: [Errno 2] No such file or directory: 'df_Orders.csv'"
     ]
    }
   ],
   "source": [
    "orders = pd.read_csv(\"df_Orders.csv\")\n",
    "customers = pd.read_csv(\"Ecommerce Order Dataset/df_Customers.csv\")\n",
    "payments = pd.read_csv(\"df_Payments_new.csv\")\n",
    "order_items = pd.read_csv(\"df_OrderItems_new.csv\")\n",
    "products=pd.read_csv(\"df_Products_new.csv\")"
   ]
  },
  {
   "cell_type": "code",
   "execution_count": null,
   "id": "fe66a600",
   "metadata": {},
   "outputs": [
    {
     "name": "stdout",
     "output_type": "stream",
     "text": [
      "<class 'pandas.core.frame.DataFrame'>\n",
      "RangeIndex: 89316 entries, 0 to 89315\n",
      "Data columns (total 7 columns):\n",
      " #   Column                         Non-Null Count  Dtype \n",
      "---  ------                         --------------  ----- \n",
      " 0   order_id                       89316 non-null  object\n",
      " 1   customer_id                    89316 non-null  object\n",
      " 2   order_status                   89316 non-null  object\n",
      " 3   order_purchase_timestamp       89316 non-null  object\n",
      " 4   order_approved_at              89307 non-null  object\n",
      " 5   order_delivered_timestamp      87427 non-null  object\n",
      " 6   order_estimated_delivery_date  89316 non-null  object\n",
      "dtypes: object(7)\n",
      "memory usage: 4.8+ MB\n",
      "<class 'pandas.core.frame.DataFrame'>\n",
      "RangeIndex: 89316 entries, 0 to 89315\n",
      "Data columns (total 4 columns):\n",
      " #   Column                    Non-Null Count  Dtype \n",
      "---  ------                    --------------  ----- \n",
      " 0   customer_id               89316 non-null  object\n",
      " 1   customer_zip_code_prefix  89316 non-null  int64 \n",
      " 2   customer_city             89316 non-null  object\n",
      " 3   customer_state            89316 non-null  object\n",
      "dtypes: int64(1), object(3)\n",
      "memory usage: 2.7+ MB\n",
      "<class 'pandas.core.frame.DataFrame'>\n",
      "RangeIndex: 89316 entries, 0 to 89315\n",
      "Data columns (total 6 columns):\n",
      " #   Column              Non-Null Count  Dtype  \n",
      "---  ------              --------------  -----  \n",
      " 0   order_id            89316 non-null  object \n",
      " 1   payment_sequential  89316 non-null  int64  \n",
      " 2   payment_type        89316 non-null  object \n",
      " 3   installments        89316 non-null  int64  \n",
      " 4   payment_value       89316 non-null  float64\n",
      " 5   payment_status      89316 non-null  object \n",
      "dtypes: float64(1), int64(2), object(3)\n",
      "memory usage: 4.1+ MB\n",
      "<class 'pandas.core.frame.DataFrame'>\n",
      "RangeIndex: 89316 entries, 0 to 89315\n",
      "Data columns (total 6 columns):\n",
      " #   Column         Non-Null Count  Dtype  \n",
      "---  ------         --------------  -----  \n",
      " 0   order_id       89316 non-null  object \n",
      " 1   product_id     89316 non-null  object \n",
      " 2   seller_id      89316 non-null  object \n",
      " 3   price          89316 non-null  float64\n",
      " 4   freight_value  89316 non-null  float64\n",
      " 5   quantity       89316 non-null  int64  \n",
      "dtypes: float64(2), int64(1), object(3)\n",
      "memory usage: 4.1+ MB\n",
      "<class 'pandas.core.frame.DataFrame'>\n",
      "RangeIndex: 89316 entries, 0 to 89315\n",
      "Data columns (total 4 columns):\n",
      " #   Column          Non-Null Count  Dtype \n",
      "---  ------          --------------  ----- \n",
      " 0   product_id      89316 non-null  object\n",
      " 1   category        89316 non-null  object\n",
      " 2   sub_category    89316 non-null  object\n",
      " 3   stock_quantity  89316 non-null  int64 \n",
      "dtypes: int64(1), object(3)\n",
      "memory usage: 2.7+ MB\n"
     ]
    }
   ],
   "source": [
    "orders.info()\n",
    "customers.info()\n",
    "payments.info()\n",
    "order_items.info()\n",
    "products.info()"
   ]
  },
  {
   "cell_type": "code",
   "execution_count": null,
   "id": "f7f9d0cf",
   "metadata": {},
   "outputs": [
    {
     "data": {
      "text/plain": [
       "product_id        0\n",
       "category          0\n",
       "sub_category      0\n",
       "stock_quantity    0\n",
       "dtype: int64"
      ]
     },
     "execution_count": 4,
     "metadata": {},
     "output_type": "execute_result"
    }
   ],
   "source": [
    "orders.isnull().sum()\n",
    "customers.isnull().sum()\n",
    "payments.isnull().sum()\n",
    "order_items.isnull().sum()\n",
    "products.isnull().sum()"
   ]
  },
  {
   "cell_type": "markdown",
   "id": "4f4cf838",
   "metadata": {},
   "source": [
    "### 1.2 Data Type Conversion and Parsing Dates "
   ]
  },
  {
   "cell_type": "code",
   "execution_count": null,
   "id": "fe1b7819",
   "metadata": {},
   "outputs": [],
   "source": [
    "orders['order_purchase_timestamp'] = pd.to_datetime(orders['order_purchase_timestamp'])\n",
    "orders['order_approved_at'] = pd.to_datetime(orders['order_approved_at'])\n",
    "orders['order_delivered_timestamp'] = pd.to_datetime(orders['order_delivered_timestamp'])\n",
    "orders['order_estimated_delivery_date'] = pd.to_datetime(orders['order_estimated_delivery_date'])"
   ]
  },
  {
   "cell_type": "code",
   "execution_count": null,
   "id": "25c4b36c",
   "metadata": {},
   "outputs": [],
   "source": [
    "payments['payment_value'] = payments['payment_value'].astype(float)\n",
    "order_items['price'] = order_items['price'].astype(float)"
   ]
  },
  {
   "cell_type": "code",
   "execution_count": null,
   "id": "90f1d46a",
   "metadata": {},
   "outputs": [
    {
     "name": "stdout",
     "output_type": "stream",
     "text": [
      "<class 'pandas.core.frame.DataFrame'>\n",
      "RangeIndex: 89316 entries, 0 to 89315\n",
      "Data columns (total 7 columns):\n",
      " #   Column                         Non-Null Count  Dtype         \n",
      "---  ------                         --------------  -----         \n",
      " 0   order_id                       89316 non-null  object        \n",
      " 1   customer_id                    89316 non-null  object        \n",
      " 2   order_status                   89316 non-null  object        \n",
      " 3   order_purchase_timestamp       89316 non-null  datetime64[ns]\n",
      " 4   order_approved_at              89307 non-null  datetime64[ns]\n",
      " 5   order_delivered_timestamp      87427 non-null  datetime64[ns]\n",
      " 6   order_estimated_delivery_date  89316 non-null  datetime64[ns]\n",
      "dtypes: datetime64[ns](4), object(3)\n",
      "memory usage: 4.8+ MB\n",
      "<class 'pandas.core.frame.DataFrame'>\n",
      "RangeIndex: 89316 entries, 0 to 89315\n",
      "Data columns (total 4 columns):\n",
      " #   Column                    Non-Null Count  Dtype \n",
      "---  ------                    --------------  ----- \n",
      " 0   customer_id               89316 non-null  object\n",
      " 1   customer_zip_code_prefix  89316 non-null  int64 \n",
      " 2   customer_city             89316 non-null  object\n",
      " 3   customer_state            89316 non-null  object\n",
      "dtypes: int64(1), object(3)\n",
      "memory usage: 2.7+ MB\n",
      "<class 'pandas.core.frame.DataFrame'>\n",
      "RangeIndex: 89316 entries, 0 to 89315\n",
      "Data columns (total 6 columns):\n",
      " #   Column              Non-Null Count  Dtype  \n",
      "---  ------              --------------  -----  \n",
      " 0   order_id            89316 non-null  object \n",
      " 1   payment_sequential  89316 non-null  int64  \n",
      " 2   payment_type        89316 non-null  object \n",
      " 3   installments        89316 non-null  int64  \n",
      " 4   payment_value       89316 non-null  float64\n",
      " 5   payment_status      89316 non-null  object \n",
      "dtypes: float64(1), int64(2), object(3)\n",
      "memory usage: 4.1+ MB\n",
      "<class 'pandas.core.frame.DataFrame'>\n",
      "RangeIndex: 89316 entries, 0 to 89315\n",
      "Data columns (total 6 columns):\n",
      " #   Column         Non-Null Count  Dtype  \n",
      "---  ------         --------------  -----  \n",
      " 0   order_id       89316 non-null  object \n",
      " 1   product_id     89316 non-null  object \n",
      " 2   seller_id      89316 non-null  object \n",
      " 3   price          89316 non-null  float64\n",
      " 4   freight_value  89316 non-null  float64\n",
      " 5   quantity       89316 non-null  int64  \n",
      "dtypes: float64(2), int64(1), object(3)\n",
      "memory usage: 4.1+ MB\n",
      "<class 'pandas.core.frame.DataFrame'>\n",
      "RangeIndex: 89316 entries, 0 to 89315\n",
      "Data columns (total 4 columns):\n",
      " #   Column          Non-Null Count  Dtype \n",
      "---  ------          --------------  ----- \n",
      " 0   product_id      89316 non-null  object\n",
      " 1   category        89316 non-null  object\n",
      " 2   sub_category    89316 non-null  object\n",
      " 3   stock_quantity  89316 non-null  int64 \n",
      "dtypes: int64(1), object(3)\n",
      "memory usage: 2.7+ MB\n"
     ]
    }
   ],
   "source": [
    "orders.info()\n",
    "customers.info()\n",
    "payments.info()\n",
    "order_items.info()\n",
    "products.info()"
   ]
  },
  {
   "cell_type": "markdown",
   "id": "b9e1f9f0",
   "metadata": {},
   "source": [
    "### 1.3 Data Integration "
   ]
  },
  {
   "cell_type": "code",
   "execution_count": null,
   "id": "a70972d4",
   "metadata": {},
   "outputs": [],
   "source": [
    "orders_full = orders.merge(customers, on='customer_id', how='left')  \n",
    "orders_full= orders_full.merge(payments, on='order_id', how='left') \n",
    "orders_full=orders_full.merge(order_items, on='order_id', how='left') \n",
    "orders_full=orders_full.merge(products, on='product_id', how='left') "
   ]
  },
  {
   "cell_type": "code",
   "execution_count": null,
   "id": "d49a9177",
   "metadata": {},
   "outputs": [
    {
     "name": "stdout",
     "output_type": "stream",
     "text": [
      "<class 'pandas.core.frame.DataFrame'>\n",
      "RangeIndex: 2529486 entries, 0 to 2529485\n",
      "Data columns (total 23 columns):\n",
      " #   Column                         Dtype         \n",
      "---  ------                         -----         \n",
      " 0   order_id                       object        \n",
      " 1   customer_id                    object        \n",
      " 2   order_status                   object        \n",
      " 3   order_purchase_timestamp       datetime64[ns]\n",
      " 4   order_approved_at              datetime64[ns]\n",
      " 5   order_delivered_timestamp      datetime64[ns]\n",
      " 6   order_estimated_delivery_date  datetime64[ns]\n",
      " 7   customer_zip_code_prefix       int64         \n",
      " 8   customer_city                  object        \n",
      " 9   customer_state                 object        \n",
      " 10  payment_sequential             int64         \n",
      " 11  payment_type                   object        \n",
      " 12  installments                   int64         \n",
      " 13  payment_value                  float64       \n",
      " 14  payment_status                 object        \n",
      " 15  product_id                     object        \n",
      " 16  seller_id                      object        \n",
      " 17  price                          float64       \n",
      " 18  freight_value                  float64       \n",
      " 19  quantity                       int64         \n",
      " 20  category                       object        \n",
      " 21  sub_category                   object        \n",
      " 22  stock_quantity                 int64         \n",
      "dtypes: datetime64[ns](4), float64(3), int64(5), object(11)\n",
      "memory usage: 443.9+ MB\n"
     ]
    }
   ],
   "source": [
    "orders_full.info()"
   ]
  },
  {
   "cell_type": "markdown",
   "id": "4a0e038d",
   "metadata": {},
   "source": [
    "### 1.4 Feature Engineering "
   ]
  },
  {
   "cell_type": "code",
   "execution_count": null,
   "id": "4cf4c8d7",
   "metadata": {},
   "outputs": [],
   "source": [
    "orders_full['order_date'] = pd.to_datetime(orders_full['order_purchase_timestamp'])\n",
    "orders_full['order_month'] = orders_full['order_date'].dt.month\n",
    "orders_full['order_day'] = orders_full['order_date'].dt.day\n",
    "orders_full['order_hour'] = orders_full['order_date'].dt.hour"
   ]
  },
  {
   "cell_type": "code",
   "execution_count": null,
   "id": "d1141f7f",
   "metadata": {},
   "outputs": [],
   "source": [
    "orders_full['order_value'] = orders_full['price'] * orders_full['quantity']"
   ]
  },
  {
   "cell_type": "code",
   "execution_count": null,
   "id": "26180e9a",
   "metadata": {},
   "outputs": [],
   "source": [
    "orders_full['shipping_cost_ratio'] = orders_full['freight_value'] / orders_full['order_value']\n"
   ]
  },
  {
   "cell_type": "code",
   "execution_count": null,
   "id": "b67d24e1",
   "metadata": {},
   "outputs": [],
   "source": [
    "orders_full['delivery_time'] = (orders_full['order_delivered_timestamp'] - orders_full['order_approved_at']).dt.days"
   ]
  },
  {
   "cell_type": "code",
   "execution_count": null,
   "id": "019bf720",
   "metadata": {},
   "outputs": [],
   "source": [
    "orders['estimated_vs_actual_delivery'] = orders['order_estimated_delivery_date'] - orders['order_delivered_timestamp'] "
   ]
  },
  {
   "cell_type": "markdown",
   "id": "a25f398e",
   "metadata": {},
   "source": [
    "### 1.5 Descriptive Statistics "
   ]
  },
  {
   "cell_type": "code",
   "execution_count": null,
   "id": "14d9902e",
   "metadata": {},
   "outputs": [
    {
     "name": "stdout",
     "output_type": "stream",
     "text": [
      "Mean Order Value: 547.4749439767602\n",
      "Median Order Value: 153.75\n",
      "Mode Order Value: 0    692.0\n",
      "Name: order_value, dtype: float64\n"
     ]
    }
   ],
   "source": [
    "print(\"Mean Order Value:\", orders_full['order_value'].mean())\n",
    "print(\"Median Order Value:\", orders_full['order_value'].median())\n",
    "print(\"Mode Order Value:\", orders_full['order_value'].mode())"
   ]
  },
  {
   "cell_type": "code",
   "execution_count": null,
   "id": "044379cf",
   "metadata": {},
   "outputs": [
    {
     "name": "stdout",
     "output_type": "stream",
     "text": [
      "Mean Payment Value: 282.8276905268503\n",
      "Median Payment Value: 174.36\n",
      "Mode Payment Value: 0    665.87\n",
      "Name: payment_value, dtype: float64\n"
     ]
    }
   ],
   "source": [
    "print(\"Mean Payment Value:\", orders_full['payment_value'].mean())\n",
    "print(\"Median Payment Value:\", orders_full['payment_value'].median())\n",
    "print(\"Mode Payment Value:\", orders_full['payment_value'].mode())"
   ]
  },
  {
   "cell_type": "code",
   "execution_count": null,
   "id": "34cd835f",
   "metadata": {},
   "outputs": [
    {
     "name": "stdout",
     "output_type": "stream",
     "text": [
      "Min Freight Value: 0.0\n",
      "Max Freight Value: 409.68\n",
      "Freight Range: 409.68\n"
     ]
    }
   ],
   "source": [
    "print(\"Min Freight Value:\", orders_full['freight_value'].min())\n",
    "print(\"Max Freight Value:\", orders_full['freight_value'].max())\n",
    "print(\"Freight Range:\", orders_full['freight_value'].max() - orders_full['freight_value'].min())\n"
   ]
  },
  {
   "cell_type": "code",
   "execution_count": null,
   "id": "d66323c7",
   "metadata": {},
   "outputs": [
    {
     "name": "stdout",
     "output_type": "stream",
     "text": [
      "Min Quantity: 0\n",
      "Max Quantity: 24\n",
      "Quantity Range: 24\n"
     ]
    }
   ],
   "source": [
    "print(\"Min Quantity:\", orders_full['installments'].min())\n",
    "print(\"Max Quantity:\", orders_full['installments'].max())\n",
    "print(\"Quantity Range:\", orders_full['installments'].max() - orders_full['installments'].min())\n"
   ]
  },
  {
   "cell_type": "code",
   "execution_count": null,
   "id": "82d54770",
   "metadata": {},
   "outputs": [
    {
     "name": "stdout",
     "output_type": "stream",
     "text": [
      "Std of Freight Value: 37.068425555228664\n",
      "Variance of Freight Value: 1374.0681731435297\n"
     ]
    }
   ],
   "source": [
    "print(\"Std of Freight Value:\", orders_full['freight_value'].std())\n",
    "print(\"Variance of Freight Value:\", orders_full['freight_value'].var())"
   ]
  },
  {
   "cell_type": "code",
   "execution_count": null,
   "id": "4a969315",
   "metadata": {},
   "outputs": [
    {
     "name": "stdout",
     "output_type": "stream",
     "text": [
      "Std of Payment Value: 363.8869053273351\n",
      "Variance of Payment Value: 132413.67986870496\n"
     ]
    }
   ],
   "source": [
    "print(\"Std of Payment Value:\", orders_full['payment_value'].std())\n",
    "print(\"Variance of Payment Value:\", orders_full['payment_value'].var())"
   ]
  },
  {
   "cell_type": "code",
   "execution_count": null,
   "id": "c80e9ecb",
   "metadata": {},
   "outputs": [
    {
     "name": "stdout",
     "output_type": "stream",
     "text": [
      "Std of Delivery Time: 9.242350475350339\n",
      "Variance of Delivery Time: 85.42104230920864\n"
     ]
    }
   ],
   "source": [
    "print(\"Std of Delivery Time:\", orders_full['delivery_time'].std())\n",
    "print(\"Variance of Delivery Time:\", orders_full['delivery_time'].var())"
   ]
  },
  {
   "cell_type": "code",
   "execution_count": null,
   "id": "63d22187",
   "metadata": {},
   "outputs": [
    {
     "name": "stdout",
     "output_type": "stream",
     "text": [
      "Unique Products: 27451\n",
      "Unique Categories: 51\n",
      "Unique Payment Types: 4\n",
      "Unique Order Statuses: 7\n"
     ]
    }
   ],
   "source": [
    "print(\"Unique Products:\", orders_full['product_id'].nunique())\n",
    "print(\"Unique Categories:\", orders_full['category'].nunique())\n",
    "print(\"Unique Payment Types:\", orders_full['payment_type'].nunique())\n",
    "print(\"Unique Order Statuses:\", orders_full['order_status'].nunique())"
   ]
  },
  {
   "cell_type": "code",
   "execution_count": null,
   "id": "404348ab",
   "metadata": {},
   "outputs": [
    {
     "name": "stdout",
     "output_type": "stream",
     "text": [
      "Payment Type Frequency:\n",
      " payment_type\n",
      "credit_card    1822547\n",
      "wallet          544164\n",
      "voucher         131220\n",
      "debit_card       31555\n",
      "Name: count, dtype: int64\n",
      "Order Status Frequency:\n",
      " order_status\n",
      "delivered      2493462\n",
      "shipped          27355\n",
      "canceled          4199\n",
      "invoiced          2623\n",
      "processing        1823\n",
      "unavailable         22\n",
      "approved             2\n",
      "Name: count, dtype: int64\n"
     ]
    }
   ],
   "source": [
    "print(\"Payment Type Frequency:\\n\", orders_full['payment_type'].value_counts())\n",
    "print(\"Order Status Frequency:\\n\", orders_full['order_status'].value_counts())"
   ]
  },
  {
   "cell_type": "code",
   "execution_count": null,
   "id": "1b08444e",
   "metadata": {},
   "outputs": [
    {
     "name": "stdout",
     "output_type": "stream",
     "text": [
      "Skewness - Payment Value: 3.751765246579947\n",
      "Kurtosis - Payment Value: 21.57112013829063\n"
     ]
    }
   ],
   "source": [
    "print(\"Skewness - Payment Value:\", orders_full['payment_value'].skew())\n",
    "print(\"Kurtosis - Payment Value:\", orders_full['payment_value'].kurtosis())"
   ]
  },
  {
   "cell_type": "code",
   "execution_count": null,
   "id": "e4b62e62",
   "metadata": {},
   "outputs": [
    {
     "name": "stdout",
     "output_type": "stream",
     "text": [
      "Skewness - Order Value: 2.7206963324548816\n",
      "Kurtosis - Order Value: 6.7224609416768075\n"
     ]
    }
   ],
   "source": [
    "print(\"Skewness - Order Value:\", orders_full['order_value'].skew())\n",
    "print(\"Kurtosis - Order Value:\", orders_full['order_value'].kurtosis())"
   ]
  },
  {
   "cell_type": "markdown",
   "id": "285d38c2",
   "metadata": {},
   "source": [
    "### 1.6 Handling Missing Values "
   ]
  },
  {
   "cell_type": "code",
   "execution_count": null,
   "id": "6ae37298",
   "metadata": {},
   "outputs": [
    {
     "data": {
      "text/plain": [
       "order_id                             0\n",
       "customer_id                          0\n",
       "order_status                         0\n",
       "order_purchase_timestamp             0\n",
       "order_approved_at                  199\n",
       "order_delivered_timestamp        36051\n",
       "order_estimated_delivery_date        0\n",
       "customer_zip_code_prefix             0\n",
       "customer_city                        0\n",
       "customer_state                       0\n",
       "payment_sequential                   0\n",
       "payment_type                         0\n",
       "installments                         0\n",
       "payment_value                        0\n",
       "payment_status                       0\n",
       "product_id                           0\n",
       "seller_id                            0\n",
       "price                                0\n",
       "freight_value                        0\n",
       "quantity                             0\n",
       "category                             0\n",
       "sub_category                         0\n",
       "stock_quantity                       0\n",
       "order_date                           0\n",
       "order_month                          0\n",
       "order_day                            0\n",
       "order_hour                           0\n",
       "order_value                          0\n",
       "shipping_cost_ratio                  0\n",
       "delivery_time                    36250\n",
       "dtype: int64"
      ]
     },
     "execution_count": 26,
     "metadata": {},
     "output_type": "execute_result"
    }
   ],
   "source": [
    "orders_full.isnull().sum()"
   ]
  },
  {
   "cell_type": "code",
   "execution_count": null,
   "id": "c7376c78",
   "metadata": {},
   "outputs": [],
   "source": [
    "orders_full['order_approved_at'] = orders_full['order_approved_at'].fillna(orders_full['order_purchase_timestamp'])"
   ]
  },
  {
   "cell_type": "code",
   "execution_count": null,
   "id": "9f0105b6",
   "metadata": {},
   "outputs": [],
   "source": [
    "import numpy as np\n",
    "\n",
    "orders_full['order_delivered_timestamp'] = orders_full['order_delivered_timestamp'].fillna(np.nan)"
   ]
  },
  {
   "cell_type": "code",
   "execution_count": null,
   "id": "af628188",
   "metadata": {},
   "outputs": [
    {
     "data": {
      "text/plain": [
       "36051"
      ]
     },
     "execution_count": 29,
     "metadata": {},
     "output_type": "execute_result"
    }
   ],
   "source": [
    "orders_full['order_delivered_timestamp'].isna().sum()"
   ]
  },
  {
   "cell_type": "code",
   "execution_count": null,
   "id": "17e3530e",
   "metadata": {},
   "outputs": [],
   "source": [
    "orders_full['delivery_time'] = (orders_full['order_delivered_timestamp'] - orders_full['order_approved_at']).dt.days"
   ]
  },
  {
   "cell_type": "code",
   "execution_count": null,
   "id": "d298ba99",
   "metadata": {},
   "outputs": [
    {
     "data": {
      "text/plain": [
       "36051"
      ]
     },
     "execution_count": 31,
     "metadata": {},
     "output_type": "execute_result"
    }
   ],
   "source": [
    "orders_full['delivery_time'].isna().sum()"
   ]
  },
  {
   "cell_type": "code",
   "execution_count": null,
   "id": "32773554-1e26-4a73-8fcb-9ecf70468c26",
   "metadata": {},
   "outputs": [
    {
     "name": "stdout",
     "output_type": "stream",
     "text": [
      "<class 'pandas.core.frame.DataFrame'>\n",
      "RangeIndex: 2529486 entries, 0 to 2529485\n",
      "Data columns (total 30 columns):\n",
      " #   Column                         Dtype         \n",
      "---  ------                         -----         \n",
      " 0   order_id                       object        \n",
      " 1   customer_id                    object        \n",
      " 2   order_status                   object        \n",
      " 3   order_purchase_timestamp       datetime64[ns]\n",
      " 4   order_approved_at              datetime64[ns]\n",
      " 5   order_delivered_timestamp      datetime64[ns]\n",
      " 6   order_estimated_delivery_date  datetime64[ns]\n",
      " 7   customer_zip_code_prefix       int64         \n",
      " 8   customer_city                  object        \n",
      " 9   customer_state                 object        \n",
      " 10  payment_sequential             int64         \n",
      " 11  payment_type                   object        \n",
      " 12  installments                   int64         \n",
      " 13  payment_value                  float64       \n",
      " 14  payment_status                 object        \n",
      " 15  product_id                     object        \n",
      " 16  seller_id                      object        \n",
      " 17  price                          float64       \n",
      " 18  freight_value                  float64       \n",
      " 19  quantity                       int64         \n",
      " 20  category                       object        \n",
      " 21  sub_category                   object        \n",
      " 22  stock_quantity                 int64         \n",
      " 23  order_date                     datetime64[ns]\n",
      " 24  order_month                    int32         \n",
      " 25  order_day                      int32         \n",
      " 26  order_hour                     int32         \n",
      " 27  order_value                    float64       \n",
      " 28  shipping_cost_ratio            float64       \n",
      " 29  delivery_time                  float64       \n",
      "dtypes: datetime64[ns](5), float64(6), int32(3), int64(5), object(11)\n",
      "memory usage: 550.0+ MB\n"
     ]
    }
   ],
   "source": [
    "orders_full.info()"
   ]
  },
  {
   "cell_type": "markdown",
   "id": "42132984-3f6b-4e0d-acab-0784afb7f2ec",
   "metadata": {},
   "source": [
    "# Section 2 Exploratory Data Analysis (EDA) for Data Understanding "
   ]
  },
  {
   "cell_type": "markdown",
   "id": "ced15e60-e1c2-47d8-b718-1f5ca261b166",
   "metadata": {},
   "source": [
    "## 2.1 Univariate Aalysis"
   ]
  },
  {
   "cell_type": "code",
   "execution_count": null,
   "id": "f36790c2-845e-4dbf-b516-028c13a934d4",
   "metadata": {},
   "outputs": [
    {
     "data": {
      "text/plain": [
       "count    2529486\n",
       "mean         547\n",
       "std          938\n",
       "min            0\n",
       "25%           71\n",
       "50%          153\n",
       "75%          517\n",
       "max         6735\n",
       "Name: order_value, dtype: int32"
      ]
     },
     "execution_count": 33,
     "metadata": {},
     "output_type": "execute_result"
    }
   ],
   "source": [
    "import numpy as np\n",
    "from matplotlib import pyplot as plt\n",
    "import seaborn as sns\n",
    "orders_full['order_value'].describe().astype('int')"
   ]
  },
  {
   "cell_type": "code",
   "execution_count": null,
   "id": "7970dbeb-7c4b-4d07-9143-4a56fcc6b68f",
   "metadata": {},
   "outputs": [
    {
     "data": {
      "text/plain": [
       "count    2529486\n",
       "mean         282\n",
       "std          363\n",
       "min            0\n",
       "25%           82\n",
       "50%          174\n",
       "75%          326\n",
       "max         7274\n",
       "Name: payment_value, dtype: int32"
      ]
     },
     "execution_count": 34,
     "metadata": {},
     "output_type": "execute_result"
    }
   ],
   "source": [
    "orders_full['payment_value'].describe().astype('int')"
   ]
  },
  {
   "cell_type": "code",
   "execution_count": null,
   "id": "47ef1985-a6df-4674-b5ec-5ffc5d72a966",
   "metadata": {},
   "outputs": [
    {
     "data": {
      "text/plain": [
       "(array([1.181754e+06, 3.390420e+05, 1.676530e+05, 2.290220e+05,\n",
       "        2.617400e+04, 2.352920e+05, 5.053100e+04, 1.552600e+04,\n",
       "        1.789300e+04, 1.821000e+03, 2.131000e+03, 2.101500e+04,\n",
       "        2.552000e+03, 1.193000e+03, 1.370300e+04, 4.034500e+04,\n",
       "        1.964000e+03, 4.530000e+02, 1.040000e+02, 4.031000e+03,\n",
       "        3.781000e+03, 7.030500e+04, 9.250000e+02, 1.100000e+01,\n",
       "        0.000000e+00, 6.100000e+01, 1.000000e+00, 6.800000e+01,\n",
       "        1.800000e+01, 5.420000e+02, 1.012840e+05, 0.000000e+00,\n",
       "        3.000000e+00, 0.000000e+00, 2.740000e+02, 1.100000e+01,\n",
       "        0.000000e+00, 0.000000e+00, 0.000000e+00, 0.000000e+00,\n",
       "        0.000000e+00, 0.000000e+00, 0.000000e+00, 0.000000e+00,\n",
       "        0.000000e+00, 0.000000e+00, 0.000000e+00, 0.000000e+00,\n",
       "        1.000000e+00, 2.000000e+00]),\n",
       " array([8.500000e-01, 1.355330e+02, 2.702160e+02, 4.048990e+02,\n",
       "        5.395820e+02, 6.742650e+02, 8.089480e+02, 9.436310e+02,\n",
       "        1.078314e+03, 1.212997e+03, 1.347680e+03, 1.482363e+03,\n",
       "        1.617046e+03, 1.751729e+03, 1.886412e+03, 2.021095e+03,\n",
       "        2.155778e+03, 2.290461e+03, 2.425144e+03, 2.559827e+03,\n",
       "        2.694510e+03, 2.829193e+03, 2.963876e+03, 3.098559e+03,\n",
       "        3.233242e+03, 3.367925e+03, 3.502608e+03, 3.637291e+03,\n",
       "        3.771974e+03, 3.906657e+03, 4.041340e+03, 4.176023e+03,\n",
       "        4.310706e+03, 4.445389e+03, 4.580072e+03, 4.714755e+03,\n",
       "        4.849438e+03, 4.984121e+03, 5.118804e+03, 5.253487e+03,\n",
       "        5.388170e+03, 5.522853e+03, 5.657536e+03, 5.792219e+03,\n",
       "        5.926902e+03, 6.061585e+03, 6.196268e+03, 6.330951e+03,\n",
       "        6.465634e+03, 6.600317e+03, 6.735000e+03]),\n",
       " <BarContainer object of 50 artists>)"
      ]
     },
     "execution_count": 35,
     "metadata": {},
     "output_type": "execute_result"
    },
    {
     "data": {
      "image/png": "[encoded data removed]",
      "text/plain": [
       "<Figure size 640x480 with 1 Axes>"
      ]
     },
     "metadata": {},
     "output_type": "display_data"
    }
   ],
   "source": [
    "plt.hist(orders_full['order_value'], bins=50)"
   ]
  },
  {
   "cell_type": "code",
   "execution_count": null,
   "id": "0f97f476-5388-4a3d-a60c-e0c0388ccfb9",
   "metadata": {},
   "outputs": [
    {
     "data": {
      "text/plain": [
       "count    2.529486e+06\n",
       "mean     4.273112e+01\n",
       "std      3.706843e+01\n",
       "min      0.000000e+00\n",
       "25%      1.840000e+01\n",
       "50%      3.391000e+01\n",
       "75%      5.442000e+01\n",
       "max      4.096800e+02\n",
       "Name: freight_value, dtype: float64"
      ]
     },
     "execution_count": 36,
     "metadata": {},
     "output_type": "execute_result"
    }
   ],
   "source": [
    "orders_full['freight_value'].describe()"
   ]
  },
  {
   "cell_type": "code",
   "execution_count": null,
   "id": "c9a019db-5a53-42f1-b09b-c5a89089e592",
   "metadata": {},
   "outputs": [
    {
     "data": {
      "image/png": "[encoded data removed]",
      "text/plain": [
       "<Figure size 640x480 with 1 Axes>"
      ]
     },
     "metadata": {},
     "output_type": "display_data"
    }
   ],
   "source": [
    "plt.boxplot(orders_full['freight_value'])\n",
    "plt.title('Freight Charge Distribution')\n",
    "plt.show()"
   ]
  },
  {
   "cell_type": "code",
   "execution_count": null,
   "id": "71511f3e-6c66-43f9-8035-ebcb04c97880",
   "metadata": {},
   "outputs": [
    {
     "data": {
      "text/plain": [
       "order_status\n",
       "approved       56.655000\n",
       "unavailable    52.898182\n",
       "invoiced       46.237545\n",
       "processing     45.589281\n",
       "shipped        44.252075\n",
       "delivered      42.723240\n",
       "canceled       34.011238\n",
       "Name: freight_value, dtype: float64"
      ]
     },
     "execution_count": 38,
     "metadata": {},
     "output_type": "execute_result"
    }
   ],
   "source": [
    "orders_full.groupby('order_status')['freight_value'].mean().sort_values(ascending=False)"
   ]
  },
  {
   "cell_type": "markdown",
   "id": "2a746769-fbec-49d5-8fa2-44b14984d989",
   "metadata": {},
   "source": [
    "This suggests freight cost alone is not causing order cancellation."
   ]
  },
  {
   "cell_type": "code",
   "execution_count": null,
   "id": "fe0c4a4e-6077-49f1-9c44-ae29d95a0fbe",
   "metadata": {},
   "outputs": [
    {
     "data": {
      "text/plain": [
       "<Axes: xlabel='items_per_order', ylabel='Count'>"
      ]
     },
     "execution_count": 39,
     "metadata": {},
     "output_type": "execute_result"
    },
    {
     "data": {
      "image/png": "[encoded data removed]",
      "text/plain": [
       "<Figure size 640x480 with 1 Axes>"
      ]
     },
     "metadata": {},
     "output_type": "display_data"
    }
   ],
   "source": [
    "order_qty = orders_full.groupby('order_id')['product_id'].count().reset_index(name='items_per_order')\n",
    "order_qty['items_per_order'].value_counts().sort_index()\n",
    "sns.histplot(order_qty['items_per_order'], bins=30)"
   ]
  },
  {
   "cell_type": "code",
   "execution_count": null,
   "id": "ff0962ac-a0da-420a-a733-b7ad0f715c5e",
   "metadata": {},
   "outputs": [
    {
     "data": {
      "text/plain": [
       "customer_state\n",
       "SP    37879\n",
       "RJ    11578\n",
       "MG    10334\n",
       "RS     4921\n",
       "PR     4523\n",
       "SC     3213\n",
       "BA     3088\n",
       "GO     1868\n",
       "ES     1798\n",
       "DF     1793\n",
       "PE     1493\n",
       "CE     1141\n",
       "MT      848\n",
       "PA      817\n",
       "MS      637\n",
       "MA      623\n",
       "PB      497\n",
       "PI      423\n",
       "RN      381\n",
       "AL      342\n",
       "SE      305\n",
       "TO      247\n",
       "RO      241\n",
       "AM      140\n",
       "AC       75\n",
       "AP       68\n",
       "RR       43\n",
       "Name: order_id, dtype: int64"
      ]
     },
     "execution_count": 40,
     "metadata": {},
     "output_type": "execute_result"
    }
   ],
   "source": [
    "orders_full.groupby('customer_state')['order_id'].nunique().sort_values(ascending=False)"
   ]
  },
  {
   "cell_type": "code",
   "execution_count": null,
   "id": "1093fb7f-dcac-484e-af1f-777c286476fe",
   "metadata": {},
   "outputs": [
    {
     "data": {
      "text/plain": [
       "<Axes: xlabel='customer_state'>"
      ]
     },
     "execution_count": 41,
     "metadata": {},
     "output_type": "execute_result"
    },
    {
     "data": {
      "image/png": "[encoded data removed]",
      "text/plain": [
       "<Figure size 1200x500 with 1 Axes>"
      ]
     },
     "metadata": {},
     "output_type": "display_data"
    }
   ],
   "source": [
    "orders_full['customer_state'].value_counts().plot(kind='bar', figsize=(12, 5))"
   ]
  },
  {
   "cell_type": "code",
   "execution_count": null,
   "id": "bef454e3-ca63-45f9-a044-45751ec7f802",
   "metadata": {},
   "outputs": [
    {
     "data": {
      "text/plain": [
       "category\n",
       "toys         1869621\n",
       "health        161543\n",
       "computers     103222\n",
       "garden         96819\n",
       "watches        81796\n",
       "Name: count, dtype: int64"
      ]
     },
     "execution_count": 42,
     "metadata": {},
     "output_type": "execute_result"
    }
   ],
   "source": [
    "orders_full['category'].value_counts().head()"
   ]
  },
  {
   "cell_type": "code",
   "execution_count": null,
   "id": "e674f0b2-846a-459c-9657-4ef666f1ad8c",
   "metadata": {},
   "outputs": [
    {
     "data": {
      "text/plain": [
       "<Axes: xlabel='count', ylabel='category'>"
      ]
     },
     "execution_count": 43,
     "metadata": {},
     "output_type": "execute_result"
    },
    {
     "data": {
      "image/png": "[encoded data removed]",
      "text/plain": [
       "<Figure size 640x480 with 1 Axes>"
      ]
     },
     "metadata": {},
     "output_type": "display_data"
    }
   ],
   "source": [
    "sns.countplot(y='category', data=orders_full, order=orders_full['category'].value_counts().index[:10])"
   ]
  },
  {
   "cell_type": "code",
   "execution_count": null,
   "id": "7f282670-1e9f-4da6-851b-1fca64897e12",
   "metadata": {},
   "outputs": [
    {
     "data": {
      "text/plain": [
       "order_status\n",
       "approved             2\n",
       "canceled          4199\n",
       "delivered      2493462\n",
       "invoiced          2623\n",
       "processing        1823\n",
       "shipped          27355\n",
       "unavailable         22\n",
       "Name: count, dtype: int64"
      ]
     },
     "execution_count": 44,
     "metadata": {},
     "output_type": "execute_result"
    }
   ],
   "source": [
    "orders_full.groupby('order_status')['order_status'].value_counts()"
   ]
  },
  {
   "cell_type": "code",
   "execution_count": null,
   "id": "0d0b3953-e46a-4a2a-bcb1-600ff1921112",
   "metadata": {},
   "outputs": [
    {
     "data": {
      "image/png": "[encoded data removed]",
      "text/plain": [
       "<Figure size 640x480 with 1 Axes>"
      ]
     },
     "metadata": {},
     "output_type": "display_data"
    }
   ],
   "source": [
    "sns.countplot(data = orders_full, y = 'order_status')\n",
    "plt.show()"
   ]
  },
  {
   "cell_type": "code",
   "execution_count": null,
   "id": "bf260464-b6d3-4fcd-84b9-680cb4924b57",
   "metadata": {},
   "outputs": [
    {
     "data": {
      "text/plain": [
       "payment_type\n",
       "credit_card    1822547\n",
       "debit_card       31555\n",
       "voucher         131220\n",
       "wallet          544164\n",
       "Name: count, dtype: int64"
      ]
     },
     "execution_count": 46,
     "metadata": {},
     "output_type": "execute_result"
    }
   ],
   "source": [
    "orders_full.groupby('payment_type')['payment_type'].value_counts()"
   ]
  },
  {
   "cell_type": "markdown",
   "id": "dbc83145-7164-46cd-b302-53a20d54114e",
   "metadata": {},
   "source": [
    "## 2.2 Bivariate Analysis"
   ]
  },
  {
   "cell_type": "code",
   "execution_count": null,
   "id": "573f53e4-07c9-4482-a111-8f4bab76cb1c",
   "metadata": {},
   "outputs": [
    {
     "data": {
      "text/html": [
       "<div>\n",
       "<style scoped>\n",
       "    .dataframe tbody tr th:only-of-type {\n",
       "        vertical-align: middle;\n",
       "    }\n",
       "\n",
       "    .dataframe tbody tr th {\n",
       "        vertical-align: top;\n",
       "    }\n",
       "\n",
       "    .dataframe thead th {\n",
       "        text-align: right;\n",
       "    }\n",
       "</style>\n",
       "<table border=\"1\" class=\"dataframe\">\n",
       "  <thead>\n",
       "    <tr style=\"text-align: right;\">\n",
       "      <th></th>\n",
       "      <th>payment_difference</th>\n",
       "      <th>payment_value</th>\n",
       "      <th>order_value</th>\n",
       "    </tr>\n",
       "  </thead>\n",
       "  <tbody>\n",
       "    <tr>\n",
       "      <th>count</th>\n",
       "      <td>2529486</td>\n",
       "      <td>2529486</td>\n",
       "      <td>2529486</td>\n",
       "    </tr>\n",
       "    <tr>\n",
       "      <th>mean</th>\n",
       "      <td>-264</td>\n",
       "      <td>282</td>\n",
       "      <td>547</td>\n",
       "    </tr>\n",
       "    <tr>\n",
       "      <th>std</th>\n",
       "      <td>998</td>\n",
       "      <td>363</td>\n",
       "      <td>938</td>\n",
       "    </tr>\n",
       "    <tr>\n",
       "      <th>min</th>\n",
       "      <td>-6669</td>\n",
       "      <td>0</td>\n",
       "      <td>0</td>\n",
       "    </tr>\n",
       "    <tr>\n",
       "      <th>25%</th>\n",
       "      <td>-344</td>\n",
       "      <td>82</td>\n",
       "      <td>71</td>\n",
       "    </tr>\n",
       "    <tr>\n",
       "      <th>50%</th>\n",
       "      <td>-17</td>\n",
       "      <td>174</td>\n",
       "      <td>153</td>\n",
       "    </tr>\n",
       "    <tr>\n",
       "      <th>75%</th>\n",
       "      <td>144</td>\n",
       "      <td>326</td>\n",
       "      <td>517</td>\n",
       "    </tr>\n",
       "    <tr>\n",
       "      <th>max</th>\n",
       "      <td>7049</td>\n",
       "      <td>7274</td>\n",
       "      <td>6735</td>\n",
       "    </tr>\n",
       "  </tbody>\n",
       "</table>\n",
       "</div>"
      ],
      "text/plain": [
       "       payment_difference  payment_value  order_value\n",
       "count             2529486        2529486      2529486\n",
       "mean                 -264            282          547\n",
       "std                   998            363          938\n",
       "min                 -6669              0            0\n",
       "25%                  -344             82           71\n",
       "50%                   -17            174          153\n",
       "75%                   144            326          517\n",
       "max                  7049           7274         6735"
      ]
     },
     "execution_count": 47,
     "metadata": {},
     "output_type": "execute_result"
    }
   ],
   "source": [
    "orders_full['payment_difference'] = orders_full['payment_value'] - orders_full['order_value']\n",
    "orders_full[['payment_difference', 'payment_value', 'order_value']].describe().astype('int')"
   ]
  },
  {
   "cell_type": "markdown",
   "id": "7b390b32-1b2b-4f51-b758-ed5aacc353cc",
   "metadata": {},
   "source": [
    "In 50% of transactions, payment value is less than order_value. It may be due to discount coupons"
   ]
  },
  {
   "cell_type": "code",
   "execution_count": null,
   "id": "307bb22c-ae2d-4192-92ad-f663d47e08a0",
   "metadata": {},
   "outputs": [
    {
     "data": {
      "text/html": [
       "<div>\n",
       "<style scoped>\n",
       "    .dataframe tbody tr th:only-of-type {\n",
       "        vertical-align: middle;\n",
       "    }\n",
       "\n",
       "    .dataframe tbody tr th {\n",
       "        vertical-align: top;\n",
       "    }\n",
       "\n",
       "    .dataframe thead th {\n",
       "        text-align: right;\n",
       "    }\n",
       "</style>\n",
       "<table border=\"1\" class=\"dataframe\">\n",
       "  <thead>\n",
       "    <tr style=\"text-align: right;\">\n",
       "      <th></th>\n",
       "      <th>order_value</th>\n",
       "      <th>freight_value</th>\n",
       "    </tr>\n",
       "  </thead>\n",
       "  <tbody>\n",
       "    <tr>\n",
       "      <th>order_value</th>\n",
       "      <td>1.000000</td>\n",
       "      <td>0.010179</td>\n",
       "    </tr>\n",
       "    <tr>\n",
       "      <th>freight_value</th>\n",
       "      <td>0.010179</td>\n",
       "      <td>1.000000</td>\n",
       "    </tr>\n",
       "  </tbody>\n",
       "</table>\n",
       "</div>"
      ],
      "text/plain": [
       "               order_value  freight_value\n",
       "order_value       1.000000       0.010179\n",
       "freight_value     0.010179       1.000000"
      ]
     },
     "execution_count": 48,
     "metadata": {},
     "output_type": "execute_result"
    }
   ],
   "source": [
    "orders_full[['order_value', 'freight_value']].corr()\n"
   ]
  },
  {
   "cell_type": "markdown",
   "id": "be60f772-cee7-43cb-b553-c8778be3bf4d",
   "metadata": {},
   "source": [
    "There is no relationship between order_value and freight_value"
   ]
  },
  {
   "cell_type": "code",
   "execution_count": null,
   "id": "85d61132-a69b-4164-ae9f-0ddc25575ccd",
   "metadata": {},
   "outputs": [
    {
     "data": {
      "image/png": "[encoded data removed]",
      "text/plain": [
       "<Figure size 640x480 with 1 Axes>"
      ]
     },
     "metadata": {},
     "output_type": "display_data"
    }
   ],
   "source": [
    "## Doubt\n",
    "sns.scatterplot(data=orders_full, x='price', y='quantity')\n",
    "plt.show()"
   ]
  },
  {
   "cell_type": "code",
   "execution_count": null,
   "id": "50e44857-ffb3-4bde-876c-ef40b13162b8",
   "metadata": {},
   "outputs": [
    {
     "name": "stdout",
     "output_type": "stream",
     "text": [
      "<class 'pandas.core.frame.DataFrame'>\n",
      "RangeIndex: 2529486 entries, 0 to 2529485\n",
      "Data columns (total 31 columns):\n",
      " #   Column                         Dtype         \n",
      "---  ------                         -----         \n",
      " 0   order_id                       object        \n",
      " 1   customer_id                    object        \n",
      " 2   order_status                   object        \n",
      " 3   order_purchase_timestamp       datetime64[ns]\n",
      " 4   order_approved_at              datetime64[ns]\n",
      " 5   order_delivered_timestamp      datetime64[ns]\n",
      " 6   order_estimated_delivery_date  datetime64[ns]\n",
      " 7   customer_zip_code_prefix       int64         \n",
      " 8   customer_city                  object        \n",
      " 9   customer_state                 object        \n",
      " 10  payment_sequential             int64         \n",
      " 11  payment_type                   object        \n",
      " 12  installments                   int64         \n",
      " 13  payment_value                  float64       \n",
      " 14  payment_status                 object        \n",
      " 15  product_id                     object        \n",
      " 16  seller_id                      object        \n",
      " 17  price                          float64       \n",
      " 18  freight_value                  float64       \n",
      " 19  quantity                       int64         \n",
      " 20  category                       object        \n",
      " 21  sub_category                   object        \n",
      " 22  stock_quantity                 int64         \n",
      " 23  order_date                     datetime64[ns]\n",
      " 24  order_month                    int32         \n",
      " 25  order_day                      int32         \n",
      " 26  order_hour                     int32         \n",
      " 27  order_value                    float64       \n",
      " 28  shipping_cost_ratio            float64       \n",
      " 29  delivery_time                  float64       \n",
      " 30  payment_difference             float64       \n",
      "dtypes: datetime64[ns](5), float64(7), int32(3), int64(5), object(11)\n",
      "memory usage: 569.3+ MB\n"
     ]
    }
   ],
   "source": [
    "orders_full.info()"
   ]
  },
  {
   "cell_type": "code",
   "execution_count": null,
   "id": "791d9e5c-aee3-463a-9357-fb9407226d90",
   "metadata": {},
   "outputs": [
    {
     "data": {
      "text/html": [
       "<div>\n",
       "<style scoped>\n",
       "    .dataframe tbody tr th:only-of-type {\n",
       "        vertical-align: middle;\n",
       "    }\n",
       "\n",
       "    .dataframe tbody tr th {\n",
       "        vertical-align: top;\n",
       "    }\n",
       "\n",
       "    .dataframe thead th {\n",
       "        text-align: right;\n",
       "    }\n",
       "</style>\n",
       "<table border=\"1\" class=\"dataframe\">\n",
       "  <thead>\n",
       "    <tr style=\"text-align: right;\">\n",
       "      <th></th>\n",
       "      <th>order_value</th>\n",
       "    </tr>\n",
       "    <tr>\n",
       "      <th>customer_state</th>\n",
       "      <th></th>\n",
       "    </tr>\n",
       "  </thead>\n",
       "  <tbody>\n",
       "    <tr>\n",
       "      <th>RO</th>\n",
       "      <td>1057.724223</td>\n",
       "    </tr>\n",
       "    <tr>\n",
       "      <th>GO</th>\n",
       "      <td>833.458587</td>\n",
       "    </tr>\n",
       "    <tr>\n",
       "      <th>TO</th>\n",
       "      <td>785.179072</td>\n",
       "    </tr>\n",
       "    <tr>\n",
       "      <th>MT</th>\n",
       "      <td>700.932127</td>\n",
       "    </tr>\n",
       "    <tr>\n",
       "      <th>CE</th>\n",
       "      <td>686.361349</td>\n",
       "    </tr>\n",
       "    <tr>\n",
       "      <th>PA</th>\n",
       "      <td>646.969246</td>\n",
       "    </tr>\n",
       "    <tr>\n",
       "      <th>SE</th>\n",
       "      <td>639.754731</td>\n",
       "    </tr>\n",
       "    <tr>\n",
       "      <th>MG</th>\n",
       "      <td>614.014693</td>\n",
       "    </tr>\n",
       "    <tr>\n",
       "      <th>BA</th>\n",
       "      <td>606.047372</td>\n",
       "    </tr>\n",
       "    <tr>\n",
       "      <th>RN</th>\n",
       "      <td>593.334718</td>\n",
       "    </tr>\n",
       "    <tr>\n",
       "      <th>RJ</th>\n",
       "      <td>571.639194</td>\n",
       "    </tr>\n",
       "    <tr>\n",
       "      <th>ES</th>\n",
       "      <td>568.662032</td>\n",
       "    </tr>\n",
       "    <tr>\n",
       "      <th>PR</th>\n",
       "      <td>567.617248</td>\n",
       "    </tr>\n",
       "    <tr>\n",
       "      <th>AL</th>\n",
       "      <td>517.910658</td>\n",
       "    </tr>\n",
       "    <tr>\n",
       "      <th>PE</th>\n",
       "      <td>511.929612</td>\n",
       "    </tr>\n",
       "    <tr>\n",
       "      <th>SP</th>\n",
       "      <td>511.267972</td>\n",
       "    </tr>\n",
       "    <tr>\n",
       "      <th>MA</th>\n",
       "      <td>495.686111</td>\n",
       "    </tr>\n",
       "    <tr>\n",
       "      <th>SC</th>\n",
       "      <td>487.572170</td>\n",
       "    </tr>\n",
       "    <tr>\n",
       "      <th>RS</th>\n",
       "      <td>480.725790</td>\n",
       "    </tr>\n",
       "    <tr>\n",
       "      <th>MS</th>\n",
       "      <td>441.043241</td>\n",
       "    </tr>\n",
       "    <tr>\n",
       "      <th>PB</th>\n",
       "      <td>432.842050</td>\n",
       "    </tr>\n",
       "    <tr>\n",
       "      <th>AP</th>\n",
       "      <td>358.520210</td>\n",
       "    </tr>\n",
       "    <tr>\n",
       "      <th>DF</th>\n",
       "      <td>311.947413</td>\n",
       "    </tr>\n",
       "    <tr>\n",
       "      <th>PI</th>\n",
       "      <td>292.221843</td>\n",
       "    </tr>\n",
       "    <tr>\n",
       "      <th>RR</th>\n",
       "      <td>191.882049</td>\n",
       "    </tr>\n",
       "    <tr>\n",
       "      <th>AC</th>\n",
       "      <td>181.356853</td>\n",
       "    </tr>\n",
       "    <tr>\n",
       "      <th>AM</th>\n",
       "      <td>178.296693</td>\n",
       "    </tr>\n",
       "  </tbody>\n",
       "</table>\n",
       "</div>"
      ],
      "text/plain": [
       "                order_value\n",
       "customer_state             \n",
       "RO              1057.724223\n",
       "GO               833.458587\n",
       "TO               785.179072\n",
       "MT               700.932127\n",
       "CE               686.361349\n",
       "PA               646.969246\n",
       "SE               639.754731\n",
       "MG               614.014693\n",
       "BA               606.047372\n",
       "RN               593.334718\n",
       "RJ               571.639194\n",
       "ES               568.662032\n",
       "PR               567.617248\n",
       "AL               517.910658\n",
       "PE               511.929612\n",
       "SP               511.267972\n",
       "MA               495.686111\n",
       "SC               487.572170\n",
       "RS               480.725790\n",
       "MS               441.043241\n",
       "PB               432.842050\n",
       "AP               358.520210\n",
       "DF               311.947413\n",
       "PI               292.221843\n",
       "RR               191.882049\n",
       "AC               181.356853\n",
       "AM               178.296693"
      ]
     },
     "execution_count": 76,
     "metadata": {},
     "output_type": "execute_result"
    }
   ],
   "source": [
    "orders_full.pivot_table(values='order_value', aggfunc='mean', index = 'customer_state').sort_values(by='order_value', ascending = False)"
   ]
  },
  {
   "cell_type": "code",
   "execution_count": null,
   "id": "9812985c-7185-4b6c-b491-fdd38ed1368b",
   "metadata": {},
   "outputs": [
    {
     "data": {
      "text/html": [
       "<div>\n",
       "<style scoped>\n",
       "    .dataframe tbody tr th:only-of-type {\n",
       "        vertical-align: middle;\n",
       "    }\n",
       "\n",
       "    .dataframe tbody tr th {\n",
       "        vertical-align: top;\n",
       "    }\n",
       "\n",
       "    .dataframe thead th {\n",
       "        text-align: right;\n",
       "    }\n",
       "</style>\n",
       "<table border=\"1\" class=\"dataframe\">\n",
       "  <thead>\n",
       "    <tr style=\"text-align: right;\">\n",
       "      <th>order_status</th>\n",
       "      <th>approved</th>\n",
       "      <th>canceled</th>\n",
       "      <th>delivered</th>\n",
       "      <th>invoiced</th>\n",
       "      <th>processing</th>\n",
       "      <th>shipped</th>\n",
       "      <th>unavailable</th>\n",
       "    </tr>\n",
       "    <tr>\n",
       "      <th>category</th>\n",
       "      <th></th>\n",
       "      <th></th>\n",
       "      <th></th>\n",
       "      <th></th>\n",
       "      <th></th>\n",
       "      <th></th>\n",
       "      <th></th>\n",
       "    </tr>\n",
       "  </thead>\n",
       "  <tbody>\n",
       "    <tr>\n",
       "      <th>agro</th>\n",
       "      <td>0.000000</td>\n",
       "      <td>0.000000</td>\n",
       "      <td>99.735799</td>\n",
       "      <td>0.000000</td>\n",
       "      <td>0.000000</td>\n",
       "      <td>0.264201</td>\n",
       "      <td>0.000000</td>\n",
       "    </tr>\n",
       "    <tr>\n",
       "      <th>air</th>\n",
       "      <td>0.000000</td>\n",
       "      <td>1.075269</td>\n",
       "      <td>98.924731</td>\n",
       "      <td>0.000000</td>\n",
       "      <td>0.000000</td>\n",
       "      <td>0.000000</td>\n",
       "      <td>0.000000</td>\n",
       "    </tr>\n",
       "    <tr>\n",
       "      <th>art</th>\n",
       "      <td>0.000000</td>\n",
       "      <td>0.000000</td>\n",
       "      <td>100.000000</td>\n",
       "      <td>0.000000</td>\n",
       "      <td>0.000000</td>\n",
       "      <td>0.000000</td>\n",
       "      <td>0.000000</td>\n",
       "    </tr>\n",
       "    <tr>\n",
       "      <th>arts</th>\n",
       "      <td>0.000000</td>\n",
       "      <td>0.000000</td>\n",
       "      <td>100.000000</td>\n",
       "      <td>0.000000</td>\n",
       "      <td>0.000000</td>\n",
       "      <td>0.000000</td>\n",
       "      <td>0.000000</td>\n",
       "    </tr>\n",
       "    <tr>\n",
       "      <th>audio</th>\n",
       "      <td>0.000000</td>\n",
       "      <td>1.306185</td>\n",
       "      <td>98.386477</td>\n",
       "      <td>0.000000</td>\n",
       "      <td>0.000000</td>\n",
       "      <td>0.307338</td>\n",
       "      <td>0.000000</td>\n",
       "    </tr>\n",
       "    <tr>\n",
       "      <th>auto</th>\n",
       "      <td>0.000000</td>\n",
       "      <td>0.038063</td>\n",
       "      <td>98.220573</td>\n",
       "      <td>0.009516</td>\n",
       "      <td>0.076125</td>\n",
       "      <td>1.655724</td>\n",
       "      <td>0.000000</td>\n",
       "    </tr>\n",
       "    <tr>\n",
       "      <th>baby</th>\n",
       "      <td>0.000000</td>\n",
       "      <td>0.325362</td>\n",
       "      <td>96.583699</td>\n",
       "      <td>0.097609</td>\n",
       "      <td>0.065072</td>\n",
       "      <td>2.911990</td>\n",
       "      <td>0.016268</td>\n",
       "    </tr>\n",
       "    <tr>\n",
       "      <th>bed</th>\n",
       "      <td>0.000000</td>\n",
       "      <td>0.003303</td>\n",
       "      <td>99.081842</td>\n",
       "      <td>0.122201</td>\n",
       "      <td>0.013211</td>\n",
       "      <td>0.779444</td>\n",
       "      <td>0.000000</td>\n",
       "    </tr>\n",
       "    <tr>\n",
       "      <th>books</th>\n",
       "      <td>0.000000</td>\n",
       "      <td>0.120773</td>\n",
       "      <td>97.222222</td>\n",
       "      <td>0.301932</td>\n",
       "      <td>0.241546</td>\n",
       "      <td>2.113527</td>\n",
       "      <td>0.000000</td>\n",
       "    </tr>\n",
       "    <tr>\n",
       "      <th>christmas</th>\n",
       "      <td>0.000000</td>\n",
       "      <td>0.000000</td>\n",
       "      <td>100.000000</td>\n",
       "      <td>0.000000</td>\n",
       "      <td>0.000000</td>\n",
       "      <td>0.000000</td>\n",
       "      <td>0.000000</td>\n",
       "    </tr>\n",
       "    <tr>\n",
       "      <th>cine</th>\n",
       "      <td>0.000000</td>\n",
       "      <td>0.000000</td>\n",
       "      <td>100.000000</td>\n",
       "      <td>0.000000</td>\n",
       "      <td>0.000000</td>\n",
       "      <td>0.000000</td>\n",
       "      <td>0.000000</td>\n",
       "    </tr>\n",
       "    <tr>\n",
       "      <th>computers</th>\n",
       "      <td>0.000000</td>\n",
       "      <td>0.558021</td>\n",
       "      <td>97.509252</td>\n",
       "      <td>0.113348</td>\n",
       "      <td>0.004844</td>\n",
       "      <td>1.814536</td>\n",
       "      <td>0.000000</td>\n",
       "    </tr>\n",
       "    <tr>\n",
       "      <th>consoles</th>\n",
       "      <td>0.000000</td>\n",
       "      <td>2.130682</td>\n",
       "      <td>97.017045</td>\n",
       "      <td>0.710227</td>\n",
       "      <td>0.142045</td>\n",
       "      <td>0.000000</td>\n",
       "      <td>0.000000</td>\n",
       "    </tr>\n",
       "    <tr>\n",
       "      <th>construction</th>\n",
       "      <td>0.000000</td>\n",
       "      <td>0.000000</td>\n",
       "      <td>100.000000</td>\n",
       "      <td>0.000000</td>\n",
       "      <td>0.000000</td>\n",
       "      <td>0.000000</td>\n",
       "      <td>0.000000</td>\n",
       "    </tr>\n",
       "    <tr>\n",
       "      <th>cool</th>\n",
       "      <td>0.000000</td>\n",
       "      <td>0.013316</td>\n",
       "      <td>99.329783</td>\n",
       "      <td>0.004439</td>\n",
       "      <td>0.013316</td>\n",
       "      <td>0.639148</td>\n",
       "      <td>0.000000</td>\n",
       "    </tr>\n",
       "    <tr>\n",
       "      <th>costruction</th>\n",
       "      <td>0.000000</td>\n",
       "      <td>0.989011</td>\n",
       "      <td>99.010989</td>\n",
       "      <td>0.000000</td>\n",
       "      <td>0.000000</td>\n",
       "      <td>0.000000</td>\n",
       "      <td>0.000000</td>\n",
       "    </tr>\n",
       "    <tr>\n",
       "      <th>diapers</th>\n",
       "      <td>0.000000</td>\n",
       "      <td>0.000000</td>\n",
       "      <td>100.000000</td>\n",
       "      <td>0.000000</td>\n",
       "      <td>0.000000</td>\n",
       "      <td>0.000000</td>\n",
       "      <td>0.000000</td>\n",
       "    </tr>\n",
       "    <tr>\n",
       "      <th>drinks</th>\n",
       "      <td>0.000000</td>\n",
       "      <td>0.000000</td>\n",
       "      <td>93.859649</td>\n",
       "      <td>6.140351</td>\n",
       "      <td>0.000000</td>\n",
       "      <td>0.000000</td>\n",
       "      <td>0.000000</td>\n",
       "    </tr>\n",
       "    <tr>\n",
       "      <th>dvds</th>\n",
       "      <td>0.000000</td>\n",
       "      <td>0.000000</td>\n",
       "      <td>91.666667</td>\n",
       "      <td>0.000000</td>\n",
       "      <td>0.000000</td>\n",
       "      <td>8.333333</td>\n",
       "      <td>0.000000</td>\n",
       "    </tr>\n",
       "    <tr>\n",
       "      <th>electronics</th>\n",
       "      <td>0.000000</td>\n",
       "      <td>0.090407</td>\n",
       "      <td>99.186339</td>\n",
       "      <td>0.000000</td>\n",
       "      <td>0.010045</td>\n",
       "      <td>0.713209</td>\n",
       "      <td>0.000000</td>\n",
       "    </tr>\n",
       "    <tr>\n",
       "      <th>fashio</th>\n",
       "      <td>0.000000</td>\n",
       "      <td>0.000000</td>\n",
       "      <td>100.000000</td>\n",
       "      <td>0.000000</td>\n",
       "      <td>0.000000</td>\n",
       "      <td>0.000000</td>\n",
       "      <td>0.000000</td>\n",
       "    </tr>\n",
       "    <tr>\n",
       "      <th>fashion</th>\n",
       "      <td>0.000000</td>\n",
       "      <td>0.739452</td>\n",
       "      <td>96.389735</td>\n",
       "      <td>0.739452</td>\n",
       "      <td>0.521966</td>\n",
       "      <td>1.609395</td>\n",
       "      <td>0.000000</td>\n",
       "    </tr>\n",
       "    <tr>\n",
       "      <th>fixed</th>\n",
       "      <td>0.000000</td>\n",
       "      <td>1.652893</td>\n",
       "      <td>98.347107</td>\n",
       "      <td>0.000000</td>\n",
       "      <td>0.000000</td>\n",
       "      <td>0.000000</td>\n",
       "      <td>0.000000</td>\n",
       "    </tr>\n",
       "    <tr>\n",
       "      <th>flowers</th>\n",
       "      <td>0.000000</td>\n",
       "      <td>0.000000</td>\n",
       "      <td>100.000000</td>\n",
       "      <td>0.000000</td>\n",
       "      <td>0.000000</td>\n",
       "      <td>0.000000</td>\n",
       "      <td>0.000000</td>\n",
       "    </tr>\n",
       "    <tr>\n",
       "      <th>food</th>\n",
       "      <td>0.000000</td>\n",
       "      <td>0.000000</td>\n",
       "      <td>97.923875</td>\n",
       "      <td>0.000000</td>\n",
       "      <td>0.000000</td>\n",
       "      <td>2.076125</td>\n",
       "      <td>0.000000</td>\n",
       "    </tr>\n",
       "    <tr>\n",
       "      <th>furniture</th>\n",
       "      <td>0.000000</td>\n",
       "      <td>0.089022</td>\n",
       "      <td>99.109780</td>\n",
       "      <td>0.024279</td>\n",
       "      <td>0.279205</td>\n",
       "      <td>0.497714</td>\n",
       "      <td>0.000000</td>\n",
       "    </tr>\n",
       "    <tr>\n",
       "      <th>garden</th>\n",
       "      <td>0.000000</td>\n",
       "      <td>0.000000</td>\n",
       "      <td>99.425733</td>\n",
       "      <td>0.112581</td>\n",
       "      <td>0.001033</td>\n",
       "      <td>0.460653</td>\n",
       "      <td>0.000000</td>\n",
       "    </tr>\n",
       "    <tr>\n",
       "      <th>health</th>\n",
       "      <td>0.000000</td>\n",
       "      <td>0.283516</td>\n",
       "      <td>97.551735</td>\n",
       "      <td>0.014238</td>\n",
       "      <td>0.006809</td>\n",
       "      <td>2.143702</td>\n",
       "      <td>0.000000</td>\n",
       "    </tr>\n",
       "    <tr>\n",
       "      <th>home</th>\n",
       "      <td>0.000000</td>\n",
       "      <td>0.170275</td>\n",
       "      <td>97.567502</td>\n",
       "      <td>0.072975</td>\n",
       "      <td>0.000000</td>\n",
       "      <td>2.189248</td>\n",
       "      <td>0.000000</td>\n",
       "    </tr>\n",
       "    <tr>\n",
       "      <th>housewares</th>\n",
       "      <td>0.000000</td>\n",
       "      <td>0.368514</td>\n",
       "      <td>98.820755</td>\n",
       "      <td>0.294811</td>\n",
       "      <td>0.250590</td>\n",
       "      <td>0.265330</td>\n",
       "      <td>0.000000</td>\n",
       "    </tr>\n",
       "    <tr>\n",
       "      <th>industry</th>\n",
       "      <td>0.000000</td>\n",
       "      <td>0.000000</td>\n",
       "      <td>100.000000</td>\n",
       "      <td>0.000000</td>\n",
       "      <td>0.000000</td>\n",
       "      <td>0.000000</td>\n",
       "      <td>0.000000</td>\n",
       "    </tr>\n",
       "    <tr>\n",
       "      <th>kitchen</th>\n",
       "      <td>0.000000</td>\n",
       "      <td>0.000000</td>\n",
       "      <td>100.000000</td>\n",
       "      <td>0.000000</td>\n",
       "      <td>0.000000</td>\n",
       "      <td>0.000000</td>\n",
       "      <td>0.000000</td>\n",
       "    </tr>\n",
       "    <tr>\n",
       "      <th>la</th>\n",
       "      <td>0.000000</td>\n",
       "      <td>0.000000</td>\n",
       "      <td>100.000000</td>\n",
       "      <td>0.000000</td>\n",
       "      <td>0.000000</td>\n",
       "      <td>0.000000</td>\n",
       "      <td>0.000000</td>\n",
       "    </tr>\n",
       "    <tr>\n",
       "      <th>luggage</th>\n",
       "      <td>0.000000</td>\n",
       "      <td>0.107759</td>\n",
       "      <td>99.892241</td>\n",
       "      <td>0.000000</td>\n",
       "      <td>0.000000</td>\n",
       "      <td>0.000000</td>\n",
       "      <td>0.000000</td>\n",
       "    </tr>\n",
       "    <tr>\n",
       "      <th>market</th>\n",
       "      <td>0.000000</td>\n",
       "      <td>0.000000</td>\n",
       "      <td>98.611111</td>\n",
       "      <td>0.154321</td>\n",
       "      <td>0.617284</td>\n",
       "      <td>0.617284</td>\n",
       "      <td>0.000000</td>\n",
       "    </tr>\n",
       "    <tr>\n",
       "      <th>music</th>\n",
       "      <td>0.000000</td>\n",
       "      <td>0.000000</td>\n",
       "      <td>100.000000</td>\n",
       "      <td>0.000000</td>\n",
       "      <td>0.000000</td>\n",
       "      <td>0.000000</td>\n",
       "      <td>0.000000</td>\n",
       "    </tr>\n",
       "    <tr>\n",
       "      <th>musical</th>\n",
       "      <td>0.000000</td>\n",
       "      <td>0.000000</td>\n",
       "      <td>98.735632</td>\n",
       "      <td>0.459770</td>\n",
       "      <td>0.000000</td>\n",
       "      <td>0.804598</td>\n",
       "      <td>0.000000</td>\n",
       "    </tr>\n",
       "    <tr>\n",
       "      <th>office</th>\n",
       "      <td>0.000000</td>\n",
       "      <td>0.029233</td>\n",
       "      <td>99.064533</td>\n",
       "      <td>0.285025</td>\n",
       "      <td>0.007308</td>\n",
       "      <td>0.613900</td>\n",
       "      <td>0.000000</td>\n",
       "    </tr>\n",
       "    <tr>\n",
       "      <th>party</th>\n",
       "      <td>0.000000</td>\n",
       "      <td>0.000000</td>\n",
       "      <td>100.000000</td>\n",
       "      <td>0.000000</td>\n",
       "      <td>0.000000</td>\n",
       "      <td>0.000000</td>\n",
       "      <td>0.000000</td>\n",
       "    </tr>\n",
       "    <tr>\n",
       "      <th>perfumery</th>\n",
       "      <td>0.000000</td>\n",
       "      <td>0.140347</td>\n",
       "      <td>95.565037</td>\n",
       "      <td>0.729804</td>\n",
       "      <td>0.028069</td>\n",
       "      <td>3.418851</td>\n",
       "      <td>0.117891</td>\n",
       "    </tr>\n",
       "    <tr>\n",
       "      <th>pet</th>\n",
       "      <td>0.000000</td>\n",
       "      <td>0.242887</td>\n",
       "      <td>99.340736</td>\n",
       "      <td>0.000000</td>\n",
       "      <td>0.034698</td>\n",
       "      <td>0.381679</td>\n",
       "      <td>0.000000</td>\n",
       "    </tr>\n",
       "    <tr>\n",
       "      <th>security</th>\n",
       "      <td>0.000000</td>\n",
       "      <td>0.000000</td>\n",
       "      <td>100.000000</td>\n",
       "      <td>0.000000</td>\n",
       "      <td>0.000000</td>\n",
       "      <td>0.000000</td>\n",
       "      <td>0.000000</td>\n",
       "    </tr>\n",
       "    <tr>\n",
       "      <th>signaling</th>\n",
       "      <td>0.000000</td>\n",
       "      <td>0.000000</td>\n",
       "      <td>100.000000</td>\n",
       "      <td>0.000000</td>\n",
       "      <td>0.000000</td>\n",
       "      <td>0.000000</td>\n",
       "      <td>0.000000</td>\n",
       "    </tr>\n",
       "    <tr>\n",
       "      <th>small</th>\n",
       "      <td>0.000000</td>\n",
       "      <td>0.000000</td>\n",
       "      <td>97.735849</td>\n",
       "      <td>0.377358</td>\n",
       "      <td>1.886792</td>\n",
       "      <td>0.000000</td>\n",
       "      <td>0.000000</td>\n",
       "    </tr>\n",
       "    <tr>\n",
       "      <th>sports</th>\n",
       "      <td>0.000000</td>\n",
       "      <td>0.092123</td>\n",
       "      <td>99.028516</td>\n",
       "      <td>0.062811</td>\n",
       "      <td>0.125623</td>\n",
       "      <td>0.690926</td>\n",
       "      <td>0.000000</td>\n",
       "    </tr>\n",
       "    <tr>\n",
       "      <th>stationery</th>\n",
       "      <td>0.000000</td>\n",
       "      <td>2.221325</td>\n",
       "      <td>97.697900</td>\n",
       "      <td>0.000000</td>\n",
       "      <td>0.040388</td>\n",
       "      <td>0.040388</td>\n",
       "      <td>0.000000</td>\n",
       "    </tr>\n",
       "    <tr>\n",
       "      <th>tablets</th>\n",
       "      <td>0.000000</td>\n",
       "      <td>0.000000</td>\n",
       "      <td>100.000000</td>\n",
       "      <td>0.000000</td>\n",
       "      <td>0.000000</td>\n",
       "      <td>0.000000</td>\n",
       "      <td>0.000000</td>\n",
       "    </tr>\n",
       "    <tr>\n",
       "      <th>telephony</th>\n",
       "      <td>0.000000</td>\n",
       "      <td>0.064795</td>\n",
       "      <td>98.876890</td>\n",
       "      <td>0.086393</td>\n",
       "      <td>0.316775</td>\n",
       "      <td>0.655148</td>\n",
       "      <td>0.000000</td>\n",
       "    </tr>\n",
       "    <tr>\n",
       "      <th>toys</th>\n",
       "      <td>0.000107</td>\n",
       "      <td>0.149870</td>\n",
       "      <td>98.656038</td>\n",
       "      <td>0.108097</td>\n",
       "      <td>0.083546</td>\n",
       "      <td>1.002342</td>\n",
       "      <td>0.000000</td>\n",
       "    </tr>\n",
       "    <tr>\n",
       "      <th>unknown</th>\n",
       "      <td>0.000000</td>\n",
       "      <td>0.710227</td>\n",
       "      <td>92.471591</td>\n",
       "      <td>0.497159</td>\n",
       "      <td>0.071023</td>\n",
       "      <td>6.250000</td>\n",
       "      <td>0.000000</td>\n",
       "    </tr>\n",
       "    <tr>\n",
       "      <th>watches</th>\n",
       "      <td>0.000000</td>\n",
       "      <td>0.039122</td>\n",
       "      <td>99.201672</td>\n",
       "      <td>0.001223</td>\n",
       "      <td>0.008558</td>\n",
       "      <td>0.749425</td>\n",
       "      <td>0.000000</td>\n",
       "    </tr>\n",
       "  </tbody>\n",
       "</table>\n",
       "</div>"
      ],
      "text/plain": [
       "order_status  approved  canceled   delivered  invoiced  processing   shipped  \\\n",
       "category                                                                       \n",
       "agro          0.000000  0.000000   99.735799  0.000000    0.000000  0.264201   \n",
       "air           0.000000  1.075269   98.924731  0.000000    0.000000  0.000000   \n",
       "art           0.000000  0.000000  100.000000  0.000000    0.000000  0.000000   \n",
       "arts          0.000000  0.000000  100.000000  0.000000    0.000000  0.000000   \n",
       "audio         0.000000  1.306185   98.386477  0.000000    0.000000  0.307338   \n",
       "auto          0.000000  0.038063   98.220573  0.009516    0.076125  1.655724   \n",
       "baby          0.000000  0.325362   96.583699  0.097609    0.065072  2.911990   \n",
       "bed           0.000000  0.003303   99.081842  0.122201    0.013211  0.779444   \n",
       "books         0.000000  0.120773   97.222222  0.301932    0.241546  2.113527   \n",
       "christmas     0.000000  0.000000  100.000000  0.000000    0.000000  0.000000   \n",
       "cine          0.000000  0.000000  100.000000  0.000000    0.000000  0.000000   \n",
       "computers     0.000000  0.558021   97.509252  0.113348    0.004844  1.814536   \n",
       "consoles      0.000000  2.130682   97.017045  0.710227    0.142045  0.000000   \n",
       "construction  0.000000  0.000000  100.000000  0.000000    0.000000  0.000000   \n",
       "cool          0.000000  0.013316   99.329783  0.004439    0.013316  0.639148   \n",
       "costruction   0.000000  0.989011   99.010989  0.000000    0.000000  0.000000   \n",
       "diapers       0.000000  0.000000  100.000000  0.000000    0.000000  0.000000   \n",
       "drinks        0.000000  0.000000   93.859649  6.140351    0.000000  0.000000   \n",
       "dvds          0.000000  0.000000   91.666667  0.000000    0.000000  8.333333   \n",
       "electronics   0.000000  0.090407   99.186339  0.000000    0.010045  0.713209   \n",
       "fashio        0.000000  0.000000  100.000000  0.000000    0.000000  0.000000   \n",
       "fashion       0.000000  0.739452   96.389735  0.739452    0.521966  1.609395   \n",
       "fixed         0.000000  1.652893   98.347107  0.000000    0.000000  0.000000   \n",
       "flowers       0.000000  0.000000  100.000000  0.000000    0.000000  0.000000   \n",
       "food          0.000000  0.000000   97.923875  0.000000    0.000000  2.076125   \n",
       "furniture     0.000000  0.089022   99.109780  0.024279    0.279205  0.497714   \n",
       "garden        0.000000  0.000000   99.425733  0.112581    0.001033  0.460653   \n",
       "health        0.000000  0.283516   97.551735  0.014238    0.006809  2.143702   \n",
       "home          0.000000  0.170275   97.567502  0.072975    0.000000  2.189248   \n",
       "housewares    0.000000  0.368514   98.820755  0.294811    0.250590  0.265330   \n",
       "industry      0.000000  0.000000  100.000000  0.000000    0.000000  0.000000   \n",
       "kitchen       0.000000  0.000000  100.000000  0.000000    0.000000  0.000000   \n",
       "la            0.000000  0.000000  100.000000  0.000000    0.000000  0.000000   \n",
       "luggage       0.000000  0.107759   99.892241  0.000000    0.000000  0.000000   \n",
       "market        0.000000  0.000000   98.611111  0.154321    0.617284  0.617284   \n",
       "music         0.000000  0.000000  100.000000  0.000000    0.000000  0.000000   \n",
       "musical       0.000000  0.000000   98.735632  0.459770    0.000000  0.804598   \n",
       "office        0.000000  0.029233   99.064533  0.285025    0.007308  0.613900   \n",
       "party         0.000000  0.000000  100.000000  0.000000    0.000000  0.000000   \n",
       "perfumery     0.000000  0.140347   95.565037  0.729804    0.028069  3.418851   \n",
       "pet           0.000000  0.242887   99.340736  0.000000    0.034698  0.381679   \n",
       "security      0.000000  0.000000  100.000000  0.000000    0.000000  0.000000   \n",
       "signaling     0.000000  0.000000  100.000000  0.000000    0.000000  0.000000   \n",
       "small         0.000000  0.000000   97.735849  0.377358    1.886792  0.000000   \n",
       "sports        0.000000  0.092123   99.028516  0.062811    0.125623  0.690926   \n",
       "stationery    0.000000  2.221325   97.697900  0.000000    0.040388  0.040388   \n",
       "tablets       0.000000  0.000000  100.000000  0.000000    0.000000  0.000000   \n",
       "telephony     0.000000  0.064795   98.876890  0.086393    0.316775  0.655148   \n",
       "toys          0.000107  0.149870   98.656038  0.108097    0.083546  1.002342   \n",
       "unknown       0.000000  0.710227   92.471591  0.497159    0.071023  6.250000   \n",
       "watches       0.000000  0.039122   99.201672  0.001223    0.008558  0.749425   \n",
       "\n",
       "order_status  unavailable  \n",
       "category                   \n",
       "agro             0.000000  \n",
       "air              0.000000  \n",
       "art              0.000000  \n",
       "arts             0.000000  \n",
       "audio            0.000000  \n",
       "auto             0.000000  \n",
       "baby             0.016268  \n",
       "bed              0.000000  \n",
       "books            0.000000  \n",
       "christmas        0.000000  \n",
       "cine             0.000000  \n",
       "computers        0.000000  \n",
       "consoles         0.000000  \n",
       "construction     0.000000  \n",
       "cool             0.000000  \n",
       "costruction      0.000000  \n",
       "diapers          0.000000  \n",
       "drinks           0.000000  \n",
       "dvds             0.000000  \n",
       "electronics      0.000000  \n",
       "fashio           0.000000  \n",
       "fashion          0.000000  \n",
       "fixed            0.000000  \n",
       "flowers          0.000000  \n",
       "food             0.000000  \n",
       "furniture        0.000000  \n",
       "garden           0.000000  \n",
       "health           0.000000  \n",
       "home             0.000000  \n",
       "housewares       0.000000  \n",
       "industry         0.000000  \n",
       "kitchen          0.000000  \n",
       "la               0.000000  \n",
       "luggage          0.000000  \n",
       "market           0.000000  \n",
       "music            0.000000  \n",
       "musical          0.000000  \n",
       "office           0.000000  \n",
       "party            0.000000  \n",
       "perfumery        0.117891  \n",
       "pet              0.000000  \n",
       "security         0.000000  \n",
       "signaling        0.000000  \n",
       "small            0.000000  \n",
       "sports           0.000000  \n",
       "stationery       0.000000  \n",
       "tablets          0.000000  \n",
       "telephony        0.000000  \n",
       "toys             0.000000  \n",
       "unknown          0.000000  \n",
       "watches          0.000000  "
      ]
     },
     "execution_count": 77,
     "metadata": {},
     "output_type": "execute_result"
    }
   ],
   "source": [
    "pd.crosstab(index = orders_full.category, columns=orders_full.order_status, normalize=\"index\") * 100"
   ]
  },
  {
   "cell_type": "markdown",
   "id": "f48c72bf-3510-4c4a-9cc8-6f6c4432a69d",
   "metadata": {},
   "source": [
    "Consoles and stationary are canceled more as compare to other product category"
   ]
  },
  {
   "cell_type": "markdown",
   "id": "e2d10b26-281f-4c01-8cea-01c7d6c1a7cc",
   "metadata": {},
   "source": [
    "## 2.3 Time based analysis"
   ]
  },
  {
   "cell_type": "code",
   "execution_count": null,
   "id": "41306baa-8248-43cd-bf19-0e52ccbbc92a",
   "metadata": {},
   "outputs": [
    {
     "data": {
      "image/png": "[encoded data removed]",
      "text/plain": [
       "<Figure size 1000x600 with 1 Axes>"
      ]
     },
     "metadata": {},
     "output_type": "display_data"
    }
   ],
   "source": [
    "monthly_orders = orders_full.groupby('order_month').size()\n",
    "monthly_orders.plot(kind='line', marker='o', figsize=(10, 6), title='Monthly Order Trends')\n",
    "plt.xlabel('Month')\n",
    "plt.ylabel('Number of Orders')\n",
    "plt.grid(True)\n",
    "plt.xticks([i for i in range(13)])\n",
    "plt.show()"
   ]
  },
  {
   "cell_type": "code",
   "execution_count": null,
   "id": "ee6ed3d9-62f3-4159-82e1-8ec99edba209",
   "metadata": {},
   "outputs": [
    {
     "data": {
      "image/png": "[encoded data removed]",
      "text/plain": [
       "<Figure size 1000x600 with 1 Axes>"
      ]
     },
     "metadata": {},
     "output_type": "display_data"
    }
   ],
   "source": [
    "monthly_orders = orders_full.groupby('order_day').size()\n",
    "monthly_orders.plot(kind='line', marker='o', figsize=(10, 6), title='Daily Order Trends')\n",
    "plt.xlabel('Day')\n",
    "plt.ylabel('Number of Orders')\n",
    "plt.grid(True)\n",
    "plt.xticks([i for i in range(31)])\n",
    "plt.show()"
   ]
  },
  {
   "cell_type": "code",
   "execution_count": null,
   "id": "428fb999-9eb0-4241-a49d-e6962ea1953a",
   "metadata": {},
   "outputs": [
    {
     "data": {
      "image/png": "[encoded data removed]",
      "text/plain": [
       "<Figure size 1000x600 with 1 Axes>"
      ]
     },
     "metadata": {},
     "output_type": "display_data"
    }
   ],
   "source": [
    "monthly_orders = orders_full.groupby('order_hour').size()\n",
    "monthly_orders.plot(kind='line', marker='o', figsize=(10, 6), title='Hourly Order Trends')\n",
    "plt.xlabel('Hour')\n",
    "plt.ylabel('Number of Orders')\n",
    "plt.grid(True)\n",
    "plt.xticks([i for i in range(25)])\n",
    "plt.show()"
   ]
  },
  {
   "cell_type": "code",
   "execution_count": null,
   "id": "3d2b7c89-fe06-4b87-b5f6-dd889f126e8d",
   "metadata": {},
   "outputs": [
    {
     "name": "stdout",
     "output_type": "stream",
     "text": [
      "Average delay (days): -11.414473206640638\n",
      "Median delay (days): -12.0\n",
      "Max delay (days): 188.0\n",
      "Min (earliest) delivery (days): -147.0\n"
     ]
    }
   ],
   "source": [
    "orders_full['delivery_performance'] = (orders_full['order_delivered_timestamp'] - orders_full['order_estimated_delivery_date']).dt.days\n",
    "print(\"Average delay (days):\", orders_full['delivery_performance'].mean())\n",
    "print(\"Median delay (days):\", orders_full['delivery_performance'].median())\n",
    "print(\"Max delay (days):\", orders_full['delivery_performance'].max())\n",
    "print(\"Min (earliest) delivery (days):\", orders_full['delivery_performance'].min())"
   ]
  },
  {
   "cell_type": "markdown",
   "id": "9cbb4770-2ed3-466f-9a4a-16b2fe0a32df",
   "metadata": {},
   "source": [
    "## 2.4 Segment-Specific Trend"
   ]
  },
  {
   "cell_type": "code",
   "execution_count": null,
   "id": "31bb44cf-0102-44b9-af6e-50c843211271",
   "metadata": {},
   "outputs": [
    {
     "name": "stdout",
     "output_type": "stream",
     "text": [
      "spend_segment     Low  Medium   High\n",
      "customer_state                      \n",
      "AC                 33      26     16\n",
      "AL                114     115    113\n",
      "AM                 44      50     46\n",
      "AP                 19      27     22\n",
      "BA               1006    1045   1037\n",
      "CE                356     390    395\n",
      "DF                615     614    564\n",
      "ES                601     598    599\n",
      "GO                599     594    675\n",
      "MA                193     217    213\n",
      "MG               3494    3355   3485\n",
      "MS                228     198    211\n",
      "MT                296     274    278\n",
      "PA                276     277    264\n",
      "PB                173     151    173\n",
      "PE                459     497    537\n",
      "PI                166     139    118\n",
      "PR               1529    1466   1528\n",
      "RJ               3867    3822   3889\n",
      "RN                114     127    140\n",
      "RO                 75      81     85\n",
      "RR                 12      22      9\n",
      "RS               1521    1673   1727\n",
      "SC               1099    1023   1091\n",
      "SE                107      95    103\n",
      "SP              12727   12771  12381\n",
      "TO                 83      94     70\n"
     ]
    },
    {
     "name": "stderr",
     "output_type": "stream",
     "text": [
      "C:\\Users\\panda\\AppData\\Local\\Temp\\ipykernel_28220\\1723446196.py:5: FutureWarning: The default of observed=False is deprecated and will be changed to True in a future version of pandas. Pass observed=False to retain current behavior or observed=True to adopt the future default and silence this warning.\n",
      "  segment_by_state = customer_spend.groupby(['customer_state', 'spend_segment']).size().unstack().fillna(0)\n"
     ]
    }
   ],
   "source": [
    "customer_spend = orders_full.groupby(['customer_id', 'customer_state'])['order_value'].sum().reset_index()\n",
    "customer_spend.rename(columns={'order_value': 'total_spend'}, inplace=True)\n",
    "# Cut into 3 tiers: Low, Medium, High\n",
    "customer_spend['spend_segment'] = pd.qcut(customer_spend['total_spend'], q=3, labels=['Low', 'Medium', 'High'])\n",
    "segment_by_state = customer_spend.groupby(['customer_state', 'spend_segment']).size().unstack().fillna(0)\n",
    "print(segment_by_state)"
   ]
  },
  {
   "cell_type": "code",
   "execution_count": null,
   "id": "5c82572e-53d1-4f70-bc53-0a2db6b3f5ad",
   "metadata": {},
   "outputs": [],
   "source": []
  }
 ],
 "metadata": {
  "kernelspec": {
   "display_name": "Python 3",
   "language": "python",
   "name": "python3"
  },
  "language_info": {
   "codemirror_mode": {
    "name": "ipython",
    "version": 3
   },
   "file_extension": ".py",
   "mimetype": "text/x-python",
   "name": "python",
   "nbconvert_exporter": "python",
   "pygments_lexer": "ipython3",
   "version": "3.12.8"
  }
 },
 "nbformat": 4,
 "nbformat_minor": 5
}
