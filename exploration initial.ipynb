{
 "cells": [
  {
   "cell_type": "code",
   "execution_count": 1,
   "id": "b0d17a71",
   "metadata": {},
   "outputs": [],
   "source": [
    "import pandas as pd \n",
    "import numpy as np"
   ]
  },
  {
   "cell_type": "code",
   "execution_count": 2,
   "id": "70f66d14",
   "metadata": {},
   "outputs": [
    {
     "data": {
      "application/vnd.microsoft.datawrangler.viewer.v0+json": {
       "columns": [
        {
         "name": "index",
         "rawType": "int64",
         "type": "integer"
        },
        {
         "name": "customer_id",
         "rawType": "object",
         "type": "string"
        },
        {
         "name": "customer_zip_code_prefix",
         "rawType": "int64",
         "type": "integer"
        },
        {
         "name": "customer_city",
         "rawType": "object",
         "type": "string"
        },
        {
         "name": "customer_state",
         "rawType": "object",
         "type": "string"
        }
       ],
       "conversionMethod": "pd.DataFrame",
       "ref": "9cba7b4e-34df-48ce-a370-19a686c0b148",
       "rows": [
        [
         "0",
         "hCT0x9JiGXBQ",
         "58125",
         "varzea paulista",
         "SP"
        ],
        [
         "1",
         "PxA7fv9spyhx",
         "3112",
         "armacao dos buzios",
         "RJ"
        ],
        [
         "2",
         "g3nXeJkGI0Qw",
         "4119",
         "jandira",
         "SP"
        ],
        [
         "3",
         "EOEsCQ6QlpIg",
         "18212",
         "uberlandia",
         "MG"
        ],
        [
         "4",
         "mVz5LO2Vd6cL",
         "88868",
         "ilhabela",
         "SP"
        ],
        [
         "5",
         "UkqnhxmX7YMP",
         "25902",
         "porto uniao",
         "SC"
        ],
        [
         "6",
         "85jiDiGSfhTu",
         "4762",
         "guarulhos",
         "SP"
        ],
        [
         "7",
         "gDdkaN8b9s1g",
         "75870",
         "mogi-guacu",
         "SP"
        ],
        [
         "8",
         "9Csx6oXlpLl1",
         "69068",
         "bebedouro",
         "SP"
        ],
        [
         "9",
         "gZTPKLPRnreg",
         "20921",
         "sao paulo",
         "SP"
        ],
        [
         "10",
         "TDEBQrhIwApB",
         "1223",
         "itaperuna",
         "RJ"
        ],
        [
         "11",
         "1k71TCYNFCzj",
         "11703",
         "serra",
         "ES"
        ],
        [
         "12",
         "IfWKDQHkjLDd",
         "32407",
         "sao goncalo",
         "RJ"
        ],
        [
         "13",
         "kZ0rkJCJ6N5y",
         "13843",
         "mogi das cruzes",
         "SP"
        ],
        [
         "14",
         "zsCKIdqYLV01",
         "2961",
         "caico",
         "RN"
        ],
        [
         "15",
         "FrEvnEiMKGpr",
         "28630",
         "sao paulo",
         "SP"
        ],
        [
         "16",
         "3zvaY9gUH9bO",
         "59020",
         "barra mansa",
         "RJ"
        ],
        [
         "17",
         "bUornDCZmRD4",
         "3440",
         "sao paulo",
         "SP"
        ],
        [
         "18",
         "qEVfsXFU3er9",
         "3936",
         "apora",
         "BA"
        ],
        [
         "19",
         "mPg90mQwmDOP",
         "85140",
         "brasilia",
         "DF"
        ],
        [
         "20",
         "v6GelvnCrAk5",
         "18500",
         "sao paulo",
         "SP"
        ],
        [
         "21",
         "lZ0pUFQvjZNA",
         "37589",
         "lorena",
         "SP"
        ],
        [
         "22",
         "ckZATUjYdFd3",
         "54070",
         "sao paulo",
         "SP"
        ],
        [
         "23",
         "GuxDt46GwQEd",
         "95912",
         "canoas",
         "RS"
        ],
        [
         "24",
         "SPV4UclettEh",
         "75132",
         "nova iguacu",
         "RJ"
        ],
        [
         "25",
         "GpdbWoJi61Qc",
         "20011",
         "caruaru",
         "PE"
        ],
        [
         "26",
         "KD8KlSTtIm3Z",
         "85155",
         "sao lourenco da mata",
         "PE"
        ],
        [
         "27",
         "QU7yWUgfIpJX",
         "35360",
         "novo hamburgo",
         "RS"
        ],
        [
         "28",
         "rgjb3WchpjHg",
         "57690",
         "goiania",
         "GO"
        ],
        [
         "29",
         "JyHhNu9cbCo1",
         "57180",
         "belo horizonte",
         "MG"
        ],
        [
         "30",
         "Jw0zo2CWiEs7",
         "95925",
         "sao paulo",
         "SP"
        ],
        [
         "31",
         "MXiUFyGLUs2Z",
         "89031",
         "nova serrana",
         "MG"
        ],
        [
         "32",
         "oiBrZODbJTvz",
         "17017",
         "guacui",
         "ES"
        ],
        [
         "33",
         "mcuPjOLRkNpR",
         "77807",
         "sao paulo",
         "SP"
        ],
        [
         "34",
         "yOjH9Exn64WQ",
         "11680",
         "sao paulo",
         "SP"
        ],
        [
         "35",
         "yca6TkmY4yQm",
         "50720",
         "sao joao de meriti",
         "RJ"
        ],
        [
         "36",
         "LooHWGt3K5gp",
         "88650",
         "sao pedro da uniao",
         "MG"
        ],
        [
         "37",
         "oZqYD7eyV1EJ",
         "93346",
         "brasilia",
         "DF"
        ],
        [
         "38",
         "0hj86xqZbYSV",
         "53610",
         "sao jose",
         "SC"
        ],
        [
         "39",
         "l2wCGNSY1l3Z",
         "58900",
         "itatiba",
         "SP"
        ],
        [
         "40",
         "ukZ709Rl8bdF",
         "3809",
         "sao paulo",
         "SP"
        ],
        [
         "41",
         "iFsAJRrzVaTS",
         "4932",
         "sao paulo",
         "SP"
        ],
        [
         "42",
         "tSG89uyaK6MS",
         "66040",
         "ribeirao preto",
         "SP"
        ],
        [
         "43",
         "Ex7BhwPvrGyQ",
         "4551",
         "santana do acarau",
         "CE"
        ],
        [
         "44",
         "f4Frm4WEvj1g",
         "45890",
         "sao paulo",
         "SP"
        ],
        [
         "45",
         "ORO4ADUB1jHd",
         "83075",
         "curitiba",
         "PR"
        ],
        [
         "46",
         "jQ0u9oBPe3Mg",
         "79620",
         "sao paulo",
         "SP"
        ],
        [
         "47",
         "0I8vL0BlM1p1",
         "2943",
         "atibaia",
         "SP"
        ],
        [
         "48",
         "JtX09eqY5lk3",
         "74943",
         "sao paulo",
         "SP"
        ],
        [
         "49",
         "sk3z82bQhZAO",
         "25651",
         "recife",
         "PE"
        ]
       ],
       "shape": {
        "columns": 4,
        "rows": 89316
       }
      },
      "text/html": [
       "<div>\n",
       "<style scoped>\n",
       "    .dataframe tbody tr th:only-of-type {\n",
       "        vertical-align: middle;\n",
       "    }\n",
       "\n",
       "    .dataframe tbody tr th {\n",
       "        vertical-align: top;\n",
       "    }\n",
       "\n",
       "    .dataframe thead th {\n",
       "        text-align: right;\n",
       "    }\n",
       "</style>\n",
       "<table border=\"1\" class=\"dataframe\">\n",
       "  <thead>\n",
       "    <tr style=\"text-align: right;\">\n",
       "      <th></th>\n",
       "      <th>customer_id</th>\n",
       "      <th>customer_zip_code_prefix</th>\n",
       "      <th>customer_city</th>\n",
       "      <th>customer_state</th>\n",
       "    </tr>\n",
       "  </thead>\n",
       "  <tbody>\n",
       "    <tr>\n",
       "      <th>0</th>\n",
       "      <td>hCT0x9JiGXBQ</td>\n",
       "      <td>58125</td>\n",
       "      <td>varzea paulista</td>\n",
       "      <td>SP</td>\n",
       "    </tr>\n",
       "    <tr>\n",
       "      <th>1</th>\n",
       "      <td>PxA7fv9spyhx</td>\n",
       "      <td>3112</td>\n",
       "      <td>armacao dos buzios</td>\n",
       "      <td>RJ</td>\n",
       "    </tr>\n",
       "    <tr>\n",
       "      <th>2</th>\n",
       "      <td>g3nXeJkGI0Qw</td>\n",
       "      <td>4119</td>\n",
       "      <td>jandira</td>\n",
       "      <td>SP</td>\n",
       "    </tr>\n",
       "    <tr>\n",
       "      <th>3</th>\n",
       "      <td>EOEsCQ6QlpIg</td>\n",
       "      <td>18212</td>\n",
       "      <td>uberlandia</td>\n",
       "      <td>MG</td>\n",
       "    </tr>\n",
       "    <tr>\n",
       "      <th>4</th>\n",
       "      <td>mVz5LO2Vd6cL</td>\n",
       "      <td>88868</td>\n",
       "      <td>ilhabela</td>\n",
       "      <td>SP</td>\n",
       "    </tr>\n",
       "    <tr>\n",
       "      <th>...</th>\n",
       "      <td>...</td>\n",
       "      <td>...</td>\n",
       "      <td>...</td>\n",
       "      <td>...</td>\n",
       "    </tr>\n",
       "    <tr>\n",
       "      <th>89311</th>\n",
       "      <td>bfJtzkBGksdY</td>\n",
       "      <td>94060</td>\n",
       "      <td>amparo</td>\n",
       "      <td>SP</td>\n",
       "    </tr>\n",
       "    <tr>\n",
       "      <th>89312</th>\n",
       "      <td>4hjsCpj6FC7g</td>\n",
       "      <td>99835</td>\n",
       "      <td>itapevi</td>\n",
       "      <td>SP</td>\n",
       "    </tr>\n",
       "    <tr>\n",
       "      <th>89313</th>\n",
       "      <td>DLn56oKHl9bv</td>\n",
       "      <td>2540</td>\n",
       "      <td>sao paulo</td>\n",
       "      <td>SP</td>\n",
       "    </tr>\n",
       "    <tr>\n",
       "      <th>89314</th>\n",
       "      <td>auSfRYUQUOIq</td>\n",
       "      <td>12288</td>\n",
       "      <td>paulinia</td>\n",
       "      <td>SP</td>\n",
       "    </tr>\n",
       "    <tr>\n",
       "      <th>89315</th>\n",
       "      <td>rhevVNXYJnEs</td>\n",
       "      <td>93048</td>\n",
       "      <td>brasilia</td>\n",
       "      <td>DF</td>\n",
       "    </tr>\n",
       "  </tbody>\n",
       "</table>\n",
       "<p>89316 rows × 4 columns</p>\n",
       "</div>"
      ],
      "text/plain": [
       "        customer_id  customer_zip_code_prefix       customer_city  \\\n",
       "0      hCT0x9JiGXBQ                     58125     varzea paulista   \n",
       "1      PxA7fv9spyhx                      3112  armacao dos buzios   \n",
       "2      g3nXeJkGI0Qw                      4119             jandira   \n",
       "3      EOEsCQ6QlpIg                     18212          uberlandia   \n",
       "4      mVz5LO2Vd6cL                     88868            ilhabela   \n",
       "...             ...                       ...                 ...   \n",
       "89311  bfJtzkBGksdY                     94060              amparo   \n",
       "89312  4hjsCpj6FC7g                     99835             itapevi   \n",
       "89313  DLn56oKHl9bv                      2540           sao paulo   \n",
       "89314  auSfRYUQUOIq                     12288            paulinia   \n",
       "89315  rhevVNXYJnEs                     93048            brasilia   \n",
       "\n",
       "      customer_state  \n",
       "0                 SP  \n",
       "1                 RJ  \n",
       "2                 SP  \n",
       "3                 MG  \n",
       "4                 SP  \n",
       "...              ...  \n",
       "89311             SP  \n",
       "89312             SP  \n",
       "89313             SP  \n",
       "89314             SP  \n",
       "89315             DF  \n",
       "\n",
       "[89316 rows x 4 columns]"
      ]
     },
     "execution_count": 2,
     "metadata": {},
     "output_type": "execute_result"
    }
   ],
   "source": [
    "customers = pd.read_csv(\"base_data/df_Customers.csv\")\n",
    "customers"
   ]
  },
  {
   "cell_type": "code",
   "execution_count": 3,
   "id": "a0a0c2bb",
   "metadata": {},
   "outputs": [
    {
     "data": {
      "application/vnd.microsoft.datawrangler.viewer.v0+json": {
       "columns": [
        {
         "name": "index",
         "rawType": "int64",
         "type": "integer"
        },
        {
         "name": "order_id",
         "rawType": "object",
         "type": "string"
        },
        {
         "name": "customer_id",
         "rawType": "object",
         "type": "string"
        },
        {
         "name": "order_status",
         "rawType": "object",
         "type": "string"
        },
        {
         "name": "order_purchase_timestamp",
         "rawType": "object",
         "type": "string"
        },
        {
         "name": "order_approved_at",
         "rawType": "object",
         "type": "unknown"
        },
        {
         "name": "order_delivered_timestamp",
         "rawType": "object",
         "type": "unknown"
        },
        {
         "name": "order_estimated_delivery_date",
         "rawType": "object",
         "type": "string"
        }
       ],
       "conversionMethod": "pd.DataFrame",
       "ref": "c4cb81e6-2771-41ea-8fa0-1b36305281cd",
       "rows": [
        [
         "0",
         "Axfy13Hk4PIk",
         "hCT0x9JiGXBQ",
         "delivered",
         "2017-10-22 18:57:54",
         "2017-10-22 19:14:13",
         "2017-10-26 22:19:52",
         "2017-11-09"
        ],
        [
         "1",
         "v6px92oS8cLG",
         "PxA7fv9spyhx",
         "delivered",
         "2018-06-20 21:40:31",
         "2018-06-20 22:20:20",
         "2018-07-03 22:51:22",
         "2018-07-24"
        ],
        [
         "2",
         "Ulpf9skrhjfm",
         "g3nXeJkGI0Qw",
         "delivered",
         "2018-02-16 16:19:31",
         "2018-02-17 16:15:35",
         "2018-02-27 01:29:50",
         "2018-03-08"
        ],
        [
         "3",
         "bwJVWupf2keN",
         "EOEsCQ6QlpIg",
         "delivered",
         "2018-08-18 18:04:29",
         "2018-08-18 18:15:16",
         "2018-08-27 20:03:51",
         "2018-09-19"
        ],
        [
         "4",
         "Dd0QnrMk9Cj5",
         "mVz5LO2Vd6cL",
         "delivered",
         "2017-12-22 16:44:04",
         "2017-12-22 17:31:31",
         "2018-01-05 19:22:49",
         "2018-01-18"
        ],
        [
         "5",
         "VjTVGzqe8U6R",
         "UkqnhxmX7YMP",
         "delivered",
         "2017-09-01 14:38:16",
         "2017-09-01 14:50:24",
         "2017-09-15 18:57:50",
         "2017-09-26"
        ],
        [
         "6",
         "xNba906m4TM1",
         "85jiDiGSfhTu",
         "delivered",
         "2018-04-23 21:03:00",
         "2018-04-24 18:18:18",
         "2018-04-25 20:14:38",
         "2018-05-04"
        ],
        [
         "7",
         "VEDSMTavbQwk",
         "gDdkaN8b9s1g",
         "delivered",
         "2018-02-23 14:49:39",
         "2018-02-23 15:16:13",
         "2018-04-02 14:12:50",
         "2018-03-15"
        ],
        [
         "8",
         "DzNM8wrcMGFH",
         "9Csx6oXlpLl1",
         "delivered",
         "2017-11-24 19:12:37",
         "2017-11-25 04:54:03",
         "2017-12-11 13:09:32",
         "2017-12-14"
        ],
        [
         "9",
         "NpJz7zF9U1ae",
         "gZTPKLPRnreg",
         "delivered",
         "2017-11-30 11:48:21",
         "2017-11-30 13:31:19",
         "2017-12-14 16:38:47",
         "2018-01-03"
        ],
        [
         "10",
         "mHyhzcUeLGj2",
         "TDEBQrhIwApB",
         "delivered",
         "2018-04-02 22:39:59",
         "2018-04-03 22:35:18",
         "2018-04-13 18:12:30",
         "2018-04-23"
        ],
        [
         "11",
         "StM5K4TLyrt5",
         "1k71TCYNFCzj",
         "delivered",
         "2018-05-30 09:25:25",
         "2018-05-30 09:35:16",
         "2018-06-21 18:22:15",
         "2018-07-05"
        ],
        [
         "12",
         "Q97dFuo1kaq9",
         "IfWKDQHkjLDd",
         "delivered",
         "2018-04-10 00:17:56",
         "2018-04-10 00:35:11",
         "2018-04-20 18:03:58",
         "2018-05-04"
        ],
        [
         "13",
         "07j6mlMhSVtx",
         "kZ0rkJCJ6N5y",
         "delivered",
         "2018-05-02 22:52:10",
         "2018-05-03 00:13:21",
         "2018-05-09 23:48:32",
         "2018-05-18"
        ],
        [
         "14",
         "kxa1InBj9gwP",
         "zsCKIdqYLV01",
         "delivered",
         "2017-04-24 20:06:41",
         "2017-04-24 20:22:24",
         "2017-05-05 10:22:27",
         "2017-05-25"
        ],
        [
         "15",
         "P5R6jr1qZdh4",
         "FrEvnEiMKGpr",
         "canceled",
         "2017-07-24 11:38:43",
         "2017-07-24 11:50:18",
         null,
         "2017-08-07"
        ],
        [
         "16",
         "HqV5f8K2UYoA",
         "3zvaY9gUH9bO",
         "delivered",
         "2018-06-15 15:44:21",
         "2018-06-15 16:00:22",
         "2018-06-25 22:27:56",
         "2018-07-11"
        ],
        [
         "17",
         "j5rwgECNf14O",
         "bUornDCZmRD4",
         "delivered",
         "2018-03-15 11:13:23",
         "2018-03-15 11:29:14",
         "2018-04-09 18:54:36",
         "2018-04-03"
        ],
        [
         "18",
         "43It0OEHVyJe",
         "qEVfsXFU3er9",
         "delivered",
         "2017-03-05 16:10:01",
         "2017-03-05 16:25:11",
         "2017-04-18 15:28:21",
         "2017-04-06"
        ],
        [
         "19",
         "ddXx4T93MeaI",
         "mPg90mQwmDOP",
         "delivered",
         "2017-10-03 12:58:11",
         "2017-10-03 13:07:28",
         "2017-10-09 14:06:32",
         "2017-10-30"
        ],
        [
         "20",
         "NXDsEGbl1pUC",
         "v6GelvnCrAk5",
         "delivered",
         "2018-04-02 00:31:04",
         "2018-04-02 00:47:44",
         "2018-04-06 20:53:33",
         "2018-04-18"
        ],
        [
         "21",
         "MhDudBaAab78",
         "lZ0pUFQvjZNA",
         "delivered",
         "2017-08-16 19:36:38",
         "2017-08-18 02:35:25",
         "2017-08-24 21:47:56",
         "2017-09-05"
        ],
        [
         "22",
         "XupzjrovQeez",
         "ckZATUjYdFd3",
         "delivered",
         "2017-06-21 16:41:10",
         "2017-06-22 02:45:18",
         "2017-06-29 12:43:45",
         "2017-07-04"
        ],
        [
         "23",
         "YTztQOHlvuBg",
         "GuxDt46GwQEd",
         "delivered",
         "2017-07-02 21:10:38",
         "2017-07-02 21:25:15",
         "2017-07-13 19:19:52",
         "2017-07-27"
        ],
        [
         "24",
         "xfXLgLbCo5BC",
         "SPV4UclettEh",
         "delivered",
         "2018-02-18 12:03:25",
         "2018-02-18 12:10:25",
         "2018-02-28 20:06:27",
         "2018-03-13"
        ],
        [
         "25",
         "gVMP1bPDg69L",
         "GpdbWoJi61Qc",
         "delivered",
         "2017-12-30 02:36:20",
         "2018-01-04 23:17:35",
         "2018-01-23 20:28:38",
         "2018-02-05"
        ],
        [
         "26",
         "9G9EHbafs7NW",
         "KD8KlSTtIm3Z",
         "delivered",
         "2018-07-18 18:42:47",
         "2018-07-18 18:55:28",
         "2018-08-03 14:43:03",
         "2018-08-13"
        ],
        [
         "27",
         "INolFarYfmEO",
         "QU7yWUgfIpJX",
         "delivered",
         "2018-06-30 21:08:36",
         "2018-06-30 21:30:06",
         "2018-07-11 17:56:33",
         "2018-08-03"
        ],
        [
         "28",
         "LV0vJIDricq1",
         "rgjb3WchpjHg",
         "delivered",
         "2017-11-05 19:14:22",
         "2017-11-07 07:30:35",
         "2017-11-17 20:32:53",
         "2017-11-29"
        ],
        [
         "29",
         "VtQvdStc00Xd",
         "JyHhNu9cbCo1",
         "delivered",
         "2017-03-07 19:19:19",
         "2017-03-08 03:05:17",
         "2017-03-21 10:41:53",
         "2017-04-03"
        ],
        [
         "30",
         "tOTdnjpI8Udp",
         "Jw0zo2CWiEs7",
         "delivered",
         "2018-07-10 12:15:42",
         "2018-07-10 12:30:21",
         "2018-07-15 16:13:38",
         "2018-07-18"
        ],
        [
         "31",
         "ebR5efLCCpiq",
         "MXiUFyGLUs2Z",
         "delivered",
         "2018-02-03 17:08:22",
         "2018-02-03 17:30:03",
         "2018-03-06 07:14:36",
         "2018-03-13"
        ],
        [
         "32",
         "YOKYMSjKRCMN",
         "oiBrZODbJTvz",
         "delivered",
         "2018-04-10 08:42:53",
         "2018-04-10 08:55:33",
         "2018-04-20 10:59:02",
         "2018-05-02"
        ],
        [
         "33",
         "57XZHymoJ10l",
         "mcuPjOLRkNpR",
         "delivered",
         "2017-09-05 13:32:39",
         "2017-09-05 13:50:10",
         "2017-09-13 16:54:10",
         "2017-09-29"
        ],
        [
         "34",
         "yUz40ih0jYGt",
         "yOjH9Exn64WQ",
         "delivered",
         "2018-03-15 15:20:17",
         "2018-03-15 15:35:35",
         "2018-03-24 15:34:51",
         "2018-03-27"
        ],
        [
         "35",
         "IeZYtitws7WU",
         "yca6TkmY4yQm",
         "delivered",
         "2017-05-16 09:23:23",
         "2017-05-16 09:35:15",
         "2017-05-31 08:38:03",
         "2017-06-07"
        ],
        [
         "36",
         "ZPkh9QhjG7SK",
         "LooHWGt3K5gp",
         "delivered",
         "2017-08-05 18:13:21",
         "2017-08-08 03:55:47",
         "2017-08-17 17:05:57",
         "2017-08-25"
        ],
        [
         "37",
         "KJL5uJuZzKxr",
         "oZqYD7eyV1EJ",
         "delivered",
         "2018-07-17 15:21:10",
         "2018-07-18 03:01:44",
         "2018-08-20 12:08:32",
         "2018-08-14"
        ],
        [
         "38",
         "SelY2hgVvruM",
         "0hj86xqZbYSV",
         "delivered",
         "2017-05-05 17:23:59",
         "2017-05-06 06:35:18",
         "2017-05-25 16:30:12",
         "2017-06-05"
        ],
        [
         "39",
         "0QqNX4xLriht",
         "l2wCGNSY1l3Z",
         "delivered",
         "2017-05-15 19:39:50",
         "2017-05-15 19:55:17",
         "2017-05-22 12:25:54",
         "2017-06-02"
        ],
        [
         "40",
         "HNXQI2lmI4AR",
         "ukZ709Rl8bdF",
         "delivered",
         "2017-09-05 14:56:58",
         "2017-09-07 02:44:07",
         "2017-09-14 20:05:01",
         "2017-09-18"
        ],
        [
         "41",
         "C21fWds5zL0W",
         "iFsAJRrzVaTS",
         "shipped",
         "2017-02-04 12:58:55",
         "2017-02-04 13:10:38",
         null,
         "2017-03-15"
        ],
        [
         "42",
         "00NEIdaOTIgn",
         "tSG89uyaK6MS",
         "delivered",
         "2018-05-07 22:34:11",
         "2018-05-07 22:52:41",
         "2018-05-11 22:48:43",
         "2018-05-21"
        ],
        [
         "43",
         "XprtHqpLEddw",
         "Ex7BhwPvrGyQ",
         "delivered",
         "2017-06-08 20:25:53",
         "2017-06-09 20:30:15",
         "2017-06-28 13:17:43",
         "2017-07-11"
        ],
        [
         "44",
         "ph9ImXx6aMjl",
         "f4Frm4WEvj1g",
         "delivered",
         "2017-08-16 22:58:04",
         "2017-08-17 00:50:11",
         "2017-08-26 15:35:39",
         "2017-09-05"
        ],
        [
         "45",
         "x0fzGpICAZ0w",
         "ORO4ADUB1jHd",
         "delivered",
         "2018-04-27 23:54:06",
         "2018-04-28 00:10:51",
         "2018-05-02 17:32:25",
         "2018-05-14"
        ],
        [
         "46",
         "YUX432Je58GK",
         "jQ0u9oBPe3Mg",
         "delivered",
         "2018-07-25 09:02:36",
         "2018-07-25 09:15:13",
         "2018-07-30 10:49:54",
         "2018-08-02"
        ],
        [
         "47",
         "C3u0OwYQ8nuP",
         "0I8vL0BlM1p1",
         "delivered",
         "2017-03-20 21:35:37",
         "2017-03-20 21:35:37",
         "2017-03-24 12:17:55",
         "2017-04-10"
        ],
        [
         "48",
         "UaZKqhLFwRZP",
         "JtX09eqY5lk3",
         "delivered",
         "2018-03-27 17:27:57",
         "2018-03-27 17:48:39",
         "2018-03-31 16:12:11",
         "2018-04-09"
        ],
        [
         "49",
         "QOaNjVewOOTX",
         "sk3z82bQhZAO",
         "delivered",
         "2018-05-07 15:39:24",
         "2018-05-07 17:30:00",
         "2018-05-29 14:28:53",
         "2018-05-30"
        ]
       ],
       "shape": {
        "columns": 7,
        "rows": 89316
       }
      },
      "text/html": [
       "<div>\n",
       "<style scoped>\n",
       "    .dataframe tbody tr th:only-of-type {\n",
       "        vertical-align: middle;\n",
       "    }\n",
       "\n",
       "    .dataframe tbody tr th {\n",
       "        vertical-align: top;\n",
       "    }\n",
       "\n",
       "    .dataframe thead th {\n",
       "        text-align: right;\n",
       "    }\n",
       "</style>\n",
       "<table border=\"1\" class=\"dataframe\">\n",
       "  <thead>\n",
       "    <tr style=\"text-align: right;\">\n",
       "      <th></th>\n",
       "      <th>order_id</th>\n",
       "      <th>customer_id</th>\n",
       "      <th>order_status</th>\n",
       "      <th>order_purchase_timestamp</th>\n",
       "      <th>order_approved_at</th>\n",
       "      <th>order_delivered_timestamp</th>\n",
       "      <th>order_estimated_delivery_date</th>\n",
       "    </tr>\n",
       "  </thead>\n",
       "  <tbody>\n",
       "    <tr>\n",
       "      <th>0</th>\n",
       "      <td>Axfy13Hk4PIk</td>\n",
       "      <td>hCT0x9JiGXBQ</td>\n",
       "      <td>delivered</td>\n",
       "      <td>2017-10-22 18:57:54</td>\n",
       "      <td>2017-10-22 19:14:13</td>\n",
       "      <td>2017-10-26 22:19:52</td>\n",
       "      <td>2017-11-09</td>\n",
       "    </tr>\n",
       "    <tr>\n",
       "      <th>1</th>\n",
       "      <td>v6px92oS8cLG</td>\n",
       "      <td>PxA7fv9spyhx</td>\n",
       "      <td>delivered</td>\n",
       "      <td>2018-06-20 21:40:31</td>\n",
       "      <td>2018-06-20 22:20:20</td>\n",
       "      <td>2018-07-03 22:51:22</td>\n",
       "      <td>2018-07-24</td>\n",
       "    </tr>\n",
       "    <tr>\n",
       "      <th>2</th>\n",
       "      <td>Ulpf9skrhjfm</td>\n",
       "      <td>g3nXeJkGI0Qw</td>\n",
       "      <td>delivered</td>\n",
       "      <td>2018-02-16 16:19:31</td>\n",
       "      <td>2018-02-17 16:15:35</td>\n",
       "      <td>2018-02-27 01:29:50</td>\n",
       "      <td>2018-03-08</td>\n",
       "    </tr>\n",
       "    <tr>\n",
       "      <th>3</th>\n",
       "      <td>bwJVWupf2keN</td>\n",
       "      <td>EOEsCQ6QlpIg</td>\n",
       "      <td>delivered</td>\n",
       "      <td>2018-08-18 18:04:29</td>\n",
       "      <td>2018-08-18 18:15:16</td>\n",
       "      <td>2018-08-27 20:03:51</td>\n",
       "      <td>2018-09-19</td>\n",
       "    </tr>\n",
       "    <tr>\n",
       "      <th>4</th>\n",
       "      <td>Dd0QnrMk9Cj5</td>\n",
       "      <td>mVz5LO2Vd6cL</td>\n",
       "      <td>delivered</td>\n",
       "      <td>2017-12-22 16:44:04</td>\n",
       "      <td>2017-12-22 17:31:31</td>\n",
       "      <td>2018-01-05 19:22:49</td>\n",
       "      <td>2018-01-18</td>\n",
       "    </tr>\n",
       "    <tr>\n",
       "      <th>...</th>\n",
       "      <td>...</td>\n",
       "      <td>...</td>\n",
       "      <td>...</td>\n",
       "      <td>...</td>\n",
       "      <td>...</td>\n",
       "      <td>...</td>\n",
       "      <td>...</td>\n",
       "    </tr>\n",
       "    <tr>\n",
       "      <th>89311</th>\n",
       "      <td>zlcLnXGgAabl</td>\n",
       "      <td>bfJtzkBGksdY</td>\n",
       "      <td>delivered</td>\n",
       "      <td>2018-08-19 17:25:36</td>\n",
       "      <td>2018-08-21 04:35:30</td>\n",
       "      <td>2018-08-30 14:47:46</td>\n",
       "      <td>2018-09-04</td>\n",
       "    </tr>\n",
       "    <tr>\n",
       "      <th>89312</th>\n",
       "      <td>IlTAoIkILwrq</td>\n",
       "      <td>4hjsCpj6FC7g</td>\n",
       "      <td>delivered</td>\n",
       "      <td>2017-12-15 11:20:27</td>\n",
       "      <td>2017-12-16 02:37:32</td>\n",
       "      <td>2017-12-20 19:23:40</td>\n",
       "      <td>2018-01-04</td>\n",
       "    </tr>\n",
       "    <tr>\n",
       "      <th>89313</th>\n",
       "      <td>uA6oXfftGVmT</td>\n",
       "      <td>DLn56oKHl9bv</td>\n",
       "      <td>delivered</td>\n",
       "      <td>2018-07-24 06:39:14</td>\n",
       "      <td>2018-07-24 11:20:39</td>\n",
       "      <td>2018-07-27 01:41:40</td>\n",
       "      <td>2018-08-01</td>\n",
       "    </tr>\n",
       "    <tr>\n",
       "      <th>89314</th>\n",
       "      <td>v3QtU6xlGDJp</td>\n",
       "      <td>auSfRYUQUOIq</td>\n",
       "      <td>delivered</td>\n",
       "      <td>2018-08-11 08:04:22</td>\n",
       "      <td>2018-08-11 08:24:40</td>\n",
       "      <td>2018-08-14 21:43:51</td>\n",
       "      <td>2018-08-17</td>\n",
       "    </tr>\n",
       "    <tr>\n",
       "      <th>89315</th>\n",
       "      <td>Xo1fqyXOC6CR</td>\n",
       "      <td>rhevVNXYJnEs</td>\n",
       "      <td>delivered</td>\n",
       "      <td>2018-06-09 21:46:58</td>\n",
       "      <td>2018-06-09 22:19:00</td>\n",
       "      <td>2018-06-14 15:03:46</td>\n",
       "      <td>2018-07-05</td>\n",
       "    </tr>\n",
       "  </tbody>\n",
       "</table>\n",
       "<p>89316 rows × 7 columns</p>\n",
       "</div>"
      ],
      "text/plain": [
       "           order_id   customer_id order_status order_purchase_timestamp  \\\n",
       "0      Axfy13Hk4PIk  hCT0x9JiGXBQ    delivered      2017-10-22 18:57:54   \n",
       "1      v6px92oS8cLG  PxA7fv9spyhx    delivered      2018-06-20 21:40:31   \n",
       "2      Ulpf9skrhjfm  g3nXeJkGI0Qw    delivered      2018-02-16 16:19:31   \n",
       "3      bwJVWupf2keN  EOEsCQ6QlpIg    delivered      2018-08-18 18:04:29   \n",
       "4      Dd0QnrMk9Cj5  mVz5LO2Vd6cL    delivered      2017-12-22 16:44:04   \n",
       "...             ...           ...          ...                      ...   \n",
       "89311  zlcLnXGgAabl  bfJtzkBGksdY    delivered      2018-08-19 17:25:36   \n",
       "89312  IlTAoIkILwrq  4hjsCpj6FC7g    delivered      2017-12-15 11:20:27   \n",
       "89313  uA6oXfftGVmT  DLn56oKHl9bv    delivered      2018-07-24 06:39:14   \n",
       "89314  v3QtU6xlGDJp  auSfRYUQUOIq    delivered      2018-08-11 08:04:22   \n",
       "89315  Xo1fqyXOC6CR  rhevVNXYJnEs    delivered      2018-06-09 21:46:58   \n",
       "\n",
       "         order_approved_at order_delivered_timestamp  \\\n",
       "0      2017-10-22 19:14:13       2017-10-26 22:19:52   \n",
       "1      2018-06-20 22:20:20       2018-07-03 22:51:22   \n",
       "2      2018-02-17 16:15:35       2018-02-27 01:29:50   \n",
       "3      2018-08-18 18:15:16       2018-08-27 20:03:51   \n",
       "4      2017-12-22 17:31:31       2018-01-05 19:22:49   \n",
       "...                    ...                       ...   \n",
       "89311  2018-08-21 04:35:30       2018-08-30 14:47:46   \n",
       "89312  2017-12-16 02:37:32       2017-12-20 19:23:40   \n",
       "89313  2018-07-24 11:20:39       2018-07-27 01:41:40   \n",
       "89314  2018-08-11 08:24:40       2018-08-14 21:43:51   \n",
       "89315  2018-06-09 22:19:00       2018-06-14 15:03:46   \n",
       "\n",
       "      order_estimated_delivery_date  \n",
       "0                        2017-11-09  \n",
       "1                        2018-07-24  \n",
       "2                        2018-03-08  \n",
       "3                        2018-09-19  \n",
       "4                        2018-01-18  \n",
       "...                             ...  \n",
       "89311                    2018-09-04  \n",
       "89312                    2018-01-04  \n",
       "89313                    2018-08-01  \n",
       "89314                    2018-08-17  \n",
       "89315                    2018-07-05  \n",
       "\n",
       "[89316 rows x 7 columns]"
      ]
     },
     "execution_count": 3,
     "metadata": {},
     "output_type": "execute_result"
    }
   ],
   "source": [
    "orders = pd.read_csv(\"base_data/df_Orders.csv\")\n",
    "orders"
   ]
  },
  {
   "cell_type": "code",
   "execution_count": 4,
   "id": "3326d9f2",
   "metadata": {},
   "outputs": [
    {
     "data": {
      "application/vnd.microsoft.datawrangler.viewer.v0+json": {
       "columns": [
        {
         "name": "index",
         "rawType": "int64",
         "type": "integer"
        },
        {
         "name": "order_id",
         "rawType": "object",
         "type": "string"
        },
        {
         "name": "payment_sequential",
         "rawType": "int64",
         "type": "integer"
        },
        {
         "name": "payment_type",
         "rawType": "object",
         "type": "string"
        },
        {
         "name": "payment_installments",
         "rawType": "int64",
         "type": "integer"
        },
        {
         "name": "payment_value",
         "rawType": "float64",
         "type": "float"
        }
       ],
       "conversionMethod": "pd.DataFrame",
       "ref": "daf53a83-03c4-454f-9b7e-155a1fd0774b",
       "rows": [
        [
         "0",
         "Axfy13Hk4PIk",
         "1",
         "credit_card",
         "1",
         "259.14"
        ],
        [
         "1",
         "v6px92oS8cLG",
         "1",
         "credit_card",
         "8",
         "382.39"
        ],
        [
         "2",
         "Ulpf9skrhjfm",
         "1",
         "credit_card",
         "4",
         "249.25"
        ],
        [
         "3",
         "bwJVWupf2keN",
         "1",
         "credit_card",
         "2",
         "27.79"
        ],
        [
         "4",
         "Dd0QnrMk9Cj5",
         "1",
         "credit_card",
         "1",
         "76.15"
        ],
        [
         "5",
         "VjTVGzqe8U6R",
         "1",
         "credit_card",
         "4",
         "1014.75"
        ],
        [
         "6",
         "xNba906m4TM1",
         "1",
         "credit_card",
         "1",
         "123.79"
        ],
        [
         "7",
         "VEDSMTavbQwk",
         "1",
         "credit_card",
         "5",
         "146.51"
        ],
        [
         "8",
         "DzNM8wrcMGFH",
         "1",
         "wallet",
         "1",
         "1521.75"
        ],
        [
         "9",
         "NpJz7zF9U1ae",
         "1",
         "credit_card",
         "6",
         "87.3"
        ],
        [
         "10",
         "mHyhzcUeLGj2",
         "1",
         "credit_card",
         "2",
         "947.72"
        ],
        [
         "11",
         "StM5K4TLyrt5",
         "1",
         "credit_card",
         "1",
         "60.56"
        ],
        [
         "12",
         "Q97dFuo1kaq9",
         "1",
         "credit_card",
         "10",
         "110.32"
        ],
        [
         "13",
         "07j6mlMhSVtx",
         "1",
         "credit_card",
         "3",
         "818.35"
        ],
        [
         "14",
         "kxa1InBj9gwP",
         "1",
         "credit_card",
         "1",
         "254.94"
        ],
        [
         "15",
         "P5R6jr1qZdh4",
         "1",
         "credit_card",
         "10",
         "98.42"
        ],
        [
         "16",
         "HqV5f8K2UYoA",
         "1",
         "credit_card",
         "3",
         "281.52"
        ],
        [
         "17",
         "j5rwgECNf14O",
         "1",
         "credit_card",
         "2",
         "182.83"
        ],
        [
         "18",
         "43It0OEHVyJe",
         "1",
         "credit_card",
         "1",
         "38.35"
        ],
        [
         "19",
         "ddXx4T93MeaI",
         "1",
         "credit_card",
         "2",
         "107.01"
        ],
        [
         "20",
         "NXDsEGbl1pUC",
         "1",
         "credit_card",
         "8",
         "376.61"
        ],
        [
         "21",
         "MhDudBaAab78",
         "1",
         "wallet",
         "1",
         "298.17"
        ],
        [
         "22",
         "XupzjrovQeez",
         "1",
         "wallet",
         "1",
         "163.1"
        ],
        [
         "23",
         "YTztQOHlvuBg",
         "8",
         "voucher",
         "1",
         "120.04"
        ],
        [
         "24",
         "xfXLgLbCo5BC",
         "2",
         "credit_card",
         "1",
         "166.71"
        ],
        [
         "25",
         "gVMP1bPDg69L",
         "1",
         "wallet",
         "1",
         "97.19"
        ],
        [
         "26",
         "9G9EHbafs7NW",
         "1",
         "credit_card",
         "1",
         "966.48"
        ],
        [
         "27",
         "INolFarYfmEO",
         "1",
         "credit_card",
         "3",
         "50.88"
        ],
        [
         "28",
         "LV0vJIDricq1",
         "1",
         "wallet",
         "1",
         "27.16"
        ],
        [
         "29",
         "VtQvdStc00Xd",
         "1",
         "wallet",
         "1",
         "113.84"
        ],
        [
         "30",
         "tOTdnjpI8Udp",
         "1",
         "credit_card",
         "6",
         "283.61"
        ],
        [
         "31",
         "ebR5efLCCpiq",
         "1",
         "credit_card",
         "1",
         "242.59"
        ],
        [
         "32",
         "YOKYMSjKRCMN",
         "1",
         "credit_card",
         "8",
         "580.07"
        ],
        [
         "33",
         "57XZHymoJ10l",
         "1",
         "credit_card",
         "1",
         "38.51"
        ],
        [
         "34",
         "yUz40ih0jYGt",
         "1",
         "credit_card",
         "1",
         "212.78"
        ],
        [
         "35",
         "IeZYtitws7WU",
         "1",
         "credit_card",
         "2",
         "279.54"
        ],
        [
         "36",
         "ZPkh9QhjG7SK",
         "1",
         "wallet",
         "1",
         "211.11"
        ],
        [
         "37",
         "KJL5uJuZzKxr",
         "1",
         "wallet",
         "1",
         "192.92"
        ],
        [
         "38",
         "SelY2hgVvruM",
         "1",
         "wallet",
         "1",
         "416.64"
        ],
        [
         "39",
         "0QqNX4xLriht",
         "2",
         "voucher",
         "1",
         "1843.85"
        ],
        [
         "40",
         "HNXQI2lmI4AR",
         "1",
         "wallet",
         "1",
         "247.64"
        ],
        [
         "41",
         "C21fWds5zL0W",
         "1",
         "credit_card",
         "7",
         "107.82"
        ],
        [
         "42",
         "00NEIdaOTIgn",
         "1",
         "voucher",
         "1",
         "137.01"
        ],
        [
         "43",
         "XprtHqpLEddw",
         "1",
         "credit_card",
         "3",
         "358.53"
        ],
        [
         "44",
         "ph9ImXx6aMjl",
         "1",
         "voucher",
         "1",
         "98.89"
        ],
        [
         "45",
         "x0fzGpICAZ0w",
         "1",
         "credit_card",
         "3",
         "29.22"
        ],
        [
         "46",
         "YUX432Je58GK",
         "1",
         "credit_card",
         "1",
         "203.99"
        ],
        [
         "47",
         "C3u0OwYQ8nuP",
         "1",
         "credit_card",
         "1",
         "203.19"
        ],
        [
         "48",
         "UaZKqhLFwRZP",
         "1",
         "credit_card",
         "3",
         "167.37"
        ],
        [
         "49",
         "QOaNjVewOOTX",
         "1",
         "credit_card",
         "1",
         "44.82"
        ]
       ],
       "shape": {
        "columns": 5,
        "rows": 89316
       }
      },
      "text/html": [
       "<div>\n",
       "<style scoped>\n",
       "    .dataframe tbody tr th:only-of-type {\n",
       "        vertical-align: middle;\n",
       "    }\n",
       "\n",
       "    .dataframe tbody tr th {\n",
       "        vertical-align: top;\n",
       "    }\n",
       "\n",
       "    .dataframe thead th {\n",
       "        text-align: right;\n",
       "    }\n",
       "</style>\n",
       "<table border=\"1\" class=\"dataframe\">\n",
       "  <thead>\n",
       "    <tr style=\"text-align: right;\">\n",
       "      <th></th>\n",
       "      <th>order_id</th>\n",
       "      <th>payment_sequential</th>\n",
       "      <th>payment_type</th>\n",
       "      <th>payment_installments</th>\n",
       "      <th>payment_value</th>\n",
       "    </tr>\n",
       "  </thead>\n",
       "  <tbody>\n",
       "    <tr>\n",
       "      <th>0</th>\n",
       "      <td>Axfy13Hk4PIk</td>\n",
       "      <td>1</td>\n",
       "      <td>credit_card</td>\n",
       "      <td>1</td>\n",
       "      <td>259.14</td>\n",
       "    </tr>\n",
       "    <tr>\n",
       "      <th>1</th>\n",
       "      <td>v6px92oS8cLG</td>\n",
       "      <td>1</td>\n",
       "      <td>credit_card</td>\n",
       "      <td>8</td>\n",
       "      <td>382.39</td>\n",
       "    </tr>\n",
       "    <tr>\n",
       "      <th>2</th>\n",
       "      <td>Ulpf9skrhjfm</td>\n",
       "      <td>1</td>\n",
       "      <td>credit_card</td>\n",
       "      <td>4</td>\n",
       "      <td>249.25</td>\n",
       "    </tr>\n",
       "    <tr>\n",
       "      <th>3</th>\n",
       "      <td>bwJVWupf2keN</td>\n",
       "      <td>1</td>\n",
       "      <td>credit_card</td>\n",
       "      <td>2</td>\n",
       "      <td>27.79</td>\n",
       "    </tr>\n",
       "    <tr>\n",
       "      <th>4</th>\n",
       "      <td>Dd0QnrMk9Cj5</td>\n",
       "      <td>1</td>\n",
       "      <td>credit_card</td>\n",
       "      <td>1</td>\n",
       "      <td>76.15</td>\n",
       "    </tr>\n",
       "    <tr>\n",
       "      <th>...</th>\n",
       "      <td>...</td>\n",
       "      <td>...</td>\n",
       "      <td>...</td>\n",
       "      <td>...</td>\n",
       "      <td>...</td>\n",
       "    </tr>\n",
       "    <tr>\n",
       "      <th>89311</th>\n",
       "      <td>zlcLnXGgAabl</td>\n",
       "      <td>1</td>\n",
       "      <td>wallet</td>\n",
       "      <td>1</td>\n",
       "      <td>128.00</td>\n",
       "    </tr>\n",
       "    <tr>\n",
       "      <th>89312</th>\n",
       "      <td>IlTAoIkILwrq</td>\n",
       "      <td>1</td>\n",
       "      <td>wallet</td>\n",
       "      <td>1</td>\n",
       "      <td>106.86</td>\n",
       "    </tr>\n",
       "    <tr>\n",
       "      <th>89313</th>\n",
       "      <td>uA6oXfftGVmT</td>\n",
       "      <td>1</td>\n",
       "      <td>credit_card</td>\n",
       "      <td>1</td>\n",
       "      <td>376.39</td>\n",
       "    </tr>\n",
       "    <tr>\n",
       "      <th>89314</th>\n",
       "      <td>v3QtU6xlGDJp</td>\n",
       "      <td>1</td>\n",
       "      <td>voucher</td>\n",
       "      <td>1</td>\n",
       "      <td>48.05</td>\n",
       "    </tr>\n",
       "    <tr>\n",
       "      <th>89315</th>\n",
       "      <td>Xo1fqyXOC6CR</td>\n",
       "      <td>1</td>\n",
       "      <td>credit_card</td>\n",
       "      <td>10</td>\n",
       "      <td>211.93</td>\n",
       "    </tr>\n",
       "  </tbody>\n",
       "</table>\n",
       "<p>89316 rows × 5 columns</p>\n",
       "</div>"
      ],
      "text/plain": [
       "           order_id  payment_sequential payment_type  payment_installments  \\\n",
       "0      Axfy13Hk4PIk                   1  credit_card                     1   \n",
       "1      v6px92oS8cLG                   1  credit_card                     8   \n",
       "2      Ulpf9skrhjfm                   1  credit_card                     4   \n",
       "3      bwJVWupf2keN                   1  credit_card                     2   \n",
       "4      Dd0QnrMk9Cj5                   1  credit_card                     1   \n",
       "...             ...                 ...          ...                   ...   \n",
       "89311  zlcLnXGgAabl                   1       wallet                     1   \n",
       "89312  IlTAoIkILwrq                   1       wallet                     1   \n",
       "89313  uA6oXfftGVmT                   1  credit_card                     1   \n",
       "89314  v3QtU6xlGDJp                   1      voucher                     1   \n",
       "89315  Xo1fqyXOC6CR                   1  credit_card                    10   \n",
       "\n",
       "       payment_value  \n",
       "0             259.14  \n",
       "1             382.39  \n",
       "2             249.25  \n",
       "3              27.79  \n",
       "4              76.15  \n",
       "...              ...  \n",
       "89311         128.00  \n",
       "89312         106.86  \n",
       "89313         376.39  \n",
       "89314          48.05  \n",
       "89315         211.93  \n",
       "\n",
       "[89316 rows x 5 columns]"
      ]
     },
     "execution_count": 4,
     "metadata": {},
     "output_type": "execute_result"
    }
   ],
   "source": [
    "payments = pd.read_csv(\"base_data/df_Payments.csv\")\n",
    "payments"
   ]
  },
  {
   "cell_type": "code",
   "execution_count": 5,
   "id": "a794515b",
   "metadata": {},
   "outputs": [
    {
     "data": {
      "application/vnd.microsoft.datawrangler.viewer.v0+json": {
       "columns": [
        {
         "name": "index",
         "rawType": "int64",
         "type": "integer"
        },
        {
         "name": "order_id",
         "rawType": "object",
         "type": "string"
        },
        {
         "name": "product_id",
         "rawType": "object",
         "type": "string"
        },
        {
         "name": "seller_id",
         "rawType": "object",
         "type": "string"
        },
        {
         "name": "price",
         "rawType": "float64",
         "type": "float"
        },
        {
         "name": "shipping_charges",
         "rawType": "float64",
         "type": "float"
        }
       ],
       "conversionMethod": "pd.DataFrame",
       "ref": "30ccb889-1dba-4c7a-82b7-40121d0bb224",
       "rows": [
        [
         "0",
         "Axfy13Hk4PIk",
         "90K0C1fIyQUf",
         "ZWM05J9LcBSF",
         "223.51",
         "84.65"
        ],
        [
         "1",
         "v6px92oS8cLG",
         "qejhpMGGVcsl",
         "IjlpYfhUbRQs",
         "170.8",
         "23.79"
        ],
        [
         "2",
         "Ulpf9skrhjfm",
         "qUS5d2pEAyxJ",
         "77p2EYxcM9MD",
         "64.4",
         "17.38"
        ],
        [
         "3",
         "bwJVWupf2keN",
         "639iGvMyv0De",
         "jWzS0ayv9TGf",
         "264.5",
         "30.72"
        ],
        [
         "4",
         "Dd0QnrMk9Cj5",
         "1lycYGcsic2F",
         "l1pYW6GBnPMr",
         "779.9",
         "30.66"
        ],
        [
         "5",
         "VjTVGzqe8U6R",
         "TpFZIk33uyGn",
         "XePbD5Ocm6Yk",
         "263.9",
         "40.26"
        ],
        [
         "6",
         "xNba906m4TM1",
         "Y0T4Ca4BXK8U",
         "ftbUjJ6Gsazg",
         "966.9",
         "98.76"
        ],
        [
         "7",
         "VEDSMTavbQwk",
         "IUykT5z5LcPW",
         "RKad98cTxhSb",
         "1534.9",
         "66.9"
        ],
        [
         "8",
         "DzNM8wrcMGFH",
         "0UHKKyYmxWfq",
         "K0qPVGdA91KO",
         "779.0",
         "34.86"
        ],
        [
         "9",
         "NpJz7zF9U1ae",
         "MJ82dNJNiV7U",
         "2a07LobkzHUx",
         "95.03",
         "60.35"
        ],
        [
         "10",
         "mHyhzcUeLGj2",
         "wdV7yJzaz3Su",
         "coi9xkdo66JI",
         "135.91",
         "48.71"
        ],
        [
         "11",
         "StM5K4TLyrt5",
         "V3ksL8RRt2uO",
         "cijw7pZK3THP",
         "37.89",
         "72.67"
        ],
        [
         "12",
         "Q97dFuo1kaq9",
         "vndXhZ66Bwpl",
         "1DpugyRBC5sk",
         "28.82",
         "16.92"
        ],
        [
         "13",
         "07j6mlMhSVtx",
         "2RxPIb6Sjlm1",
         "V74ci3dl1Npa",
         "222.98",
         "31.89"
        ],
        [
         "14",
         "kxa1InBj9gwP",
         "DXG0TFaZjGHO",
         "V8Stg8HdXCTe",
         "36.89",
         "59.0"
        ],
        [
         "15",
         "P5R6jr1qZdh4",
         "YCMS6jUWbEbe",
         "2IxTbqKqgUdA",
         "139.98",
         "14.91"
        ],
        [
         "16",
         "HqV5f8K2UYoA",
         "CBuRjOln99hg",
         "Wk0JznmZOo6h",
         "83.36",
         "6.87"
        ],
        [
         "17",
         "j5rwgECNf14O",
         "tfgKHMdnTKpJ",
         "RsUgQvBvc24M",
         "185.6",
         "21.82"
        ],
        [
         "18",
         "43It0OEHVyJe",
         "l0Q038BC2u3G",
         "5Tuxay3bG3t7",
         "403.9",
         "31.0"
        ],
        [
         "19",
         "ddXx4T93MeaI",
         "V84ooqHQgeH2",
         "STj3c88kfxpu",
         "167.0",
         "20.9"
        ],
        [
         "20",
         "NXDsEGbl1pUC",
         "E9OiMOkPkNam",
         "coi9xkdo66JI",
         "318.33",
         "27.57"
        ],
        [
         "21",
         "MhDudBaAab78",
         "aYw1jx6U0ZzQ",
         "VnAPb1lEZYQ6",
         "3.49",
         "30.66"
        ],
        [
         "22",
         "XupzjrovQeez",
         "kuUbPNBMgk7o",
         "tYbtiPwsAhmw",
         "109.82",
         "50.83"
        ],
        [
         "23",
         "YTztQOHlvuBg",
         "SESkOgF0nWnh",
         "YVBAT3QqF9Qj",
         "89.1",
         "34.6"
        ],
        [
         "24",
         "xfXLgLbCo5BC",
         "06Zem5ml9euJ",
         "l1pYW6GBnPMr",
         "68.0",
         "20.9"
        ],
        [
         "25",
         "gVMP1bPDg69L",
         "ro08JPncYzLh",
         "r7VxefoTVHbb",
         "509.99",
         "21.76"
        ],
        [
         "26",
         "9G9EHbafs7NW",
         "lkPBqpnGNyKe",
         "O04i82YS0uAJ",
         "165.0",
         "9.45"
        ],
        [
         "27",
         "INolFarYfmEO",
         "saFIRNuu8V6H",
         "qeM9i4J3ypy2",
         "100.0",
         "6.79"
        ],
        [
         "28",
         "LV0vJIDricq1",
         "uicu7Mpz6xlZ",
         "V3iKL8r9W9NR",
         "127.77",
         "38.66"
        ],
        [
         "29",
         "VtQvdStc00Xd",
         "uCnShK796Rpb",
         "OkFthMYQJf3H",
         "692.0",
         "11.36"
        ],
        [
         "30",
         "tOTdnjpI8Udp",
         "tRV6VjdwdLAm",
         "fBHtndjqwueV",
         "295.0",
         "110.14"
        ],
        [
         "31",
         "ebR5efLCCpiq",
         "Hwaj6cncrjwO",
         "9fFFM6RBxCkT",
         "186.98",
         "17.44"
        ],
        [
         "32",
         "YOKYMSjKRCMN",
         "YgnBaIterOVh",
         "FRAkUwkY4tZy",
         "113.49",
         "50.82"
        ],
        [
         "33",
         "57XZHymoJ10l",
         "SLTlrWtcYt1m",
         "r7VxefoTVHbb",
         "692.0",
         "2.75"
        ],
        [
         "34",
         "yUz40ih0jYGt",
         "yZJweQSasMAW",
         "yfNN6zuwypOw",
         "17.6",
         "68.69"
        ],
        [
         "35",
         "IeZYtitws7WU",
         "kgF2KLJ8Ao3M",
         "3Q4DoxWsVAXa",
         "37.84",
         "56.27"
        ],
        [
         "36",
         "ZPkh9QhjG7SK",
         "8kUYWjdaVCxf",
         "oI8R7WsNWWBc",
         "50.21",
         "161.82"
        ],
        [
         "37",
         "KJL5uJuZzKxr",
         "QzAC1fDWMbmk",
         "ShJbjTW0ZGor",
         "26.68",
         "29.56"
        ],
        [
         "38",
         "SelY2hgVvruM",
         "R2u3pJSgF7Gr",
         "OnC6iPAbNc8Z",
         "59.88",
         "37.93"
        ],
        [
         "39",
         "0QqNX4xLriht",
         "lSVmLWTOmgtw",
         "rFT13UJuGo0Q",
         "28.69",
         "57.11"
        ],
        [
         "40",
         "HNXQI2lmI4AR",
         "bDhxHlkU0GeF",
         "sdO4rR2udeZV",
         "676.97",
         "39.12"
        ],
        [
         "41",
         "C21fWds5zL0W",
         "MeFPAUcWfyAo",
         "5Ja2lH0N2OZt",
         "68.99",
         "27.8"
        ],
        [
         "42",
         "00NEIdaOTIgn",
         "Mh5csf65CB6I",
         "UOGIrJtSldvd",
         "223.87",
         "31.01"
        ],
        [
         "43",
         "XprtHqpLEddw",
         "hfEa3c65LTA2",
         "0Mzbc3aACMOQ",
         "55.83",
         "3.45"
        ],
        [
         "44",
         "ph9ImXx6aMjl",
         "Pb29t2XBfP6Q",
         "2a07LobkzHUx",
         "176.97",
         "35.87"
        ],
        [
         "45",
         "x0fzGpICAZ0w",
         "th6S1t44GAij",
         "B025lNndXwWx",
         "231.27",
         "82.44"
        ],
        [
         "46",
         "YUX432Je58GK",
         "fUSMr8Wo77AI",
         "l1pYW6GBnPMr",
         "820.05",
         "133.37"
        ],
        [
         "47",
         "C3u0OwYQ8nuP",
         "qI5i1mUxo5tX",
         "EGpv4plsYpt1",
         "3.5",
         "2.46"
        ],
        [
         "48",
         "UaZKqhLFwRZP",
         "AQRgJU930yvK",
         "TAkMUTMwlNUw",
         "26.86",
         "140.4"
        ],
        [
         "49",
         "QOaNjVewOOTX",
         "VCOwCoc0C3aj",
         "BUqNP64b1AeL",
         "111.27",
         "49.55"
        ]
       ],
       "shape": {
        "columns": 5,
        "rows": 89316
       }
      },
      "text/html": [
       "<div>\n",
       "<style scoped>\n",
       "    .dataframe tbody tr th:only-of-type {\n",
       "        vertical-align: middle;\n",
       "    }\n",
       "\n",
       "    .dataframe tbody tr th {\n",
       "        vertical-align: top;\n",
       "    }\n",
       "\n",
       "    .dataframe thead th {\n",
       "        text-align: right;\n",
       "    }\n",
       "</style>\n",
       "<table border=\"1\" class=\"dataframe\">\n",
       "  <thead>\n",
       "    <tr style=\"text-align: right;\">\n",
       "      <th></th>\n",
       "      <th>order_id</th>\n",
       "      <th>product_id</th>\n",
       "      <th>seller_id</th>\n",
       "      <th>price</th>\n",
       "      <th>shipping_charges</th>\n",
       "    </tr>\n",
       "  </thead>\n",
       "  <tbody>\n",
       "    <tr>\n",
       "      <th>0</th>\n",
       "      <td>Axfy13Hk4PIk</td>\n",
       "      <td>90K0C1fIyQUf</td>\n",
       "      <td>ZWM05J9LcBSF</td>\n",
       "      <td>223.51</td>\n",
       "      <td>84.65</td>\n",
       "    </tr>\n",
       "    <tr>\n",
       "      <th>1</th>\n",
       "      <td>v6px92oS8cLG</td>\n",
       "      <td>qejhpMGGVcsl</td>\n",
       "      <td>IjlpYfhUbRQs</td>\n",
       "      <td>170.80</td>\n",
       "      <td>23.79</td>\n",
       "    </tr>\n",
       "    <tr>\n",
       "      <th>2</th>\n",
       "      <td>Ulpf9skrhjfm</td>\n",
       "      <td>qUS5d2pEAyxJ</td>\n",
       "      <td>77p2EYxcM9MD</td>\n",
       "      <td>64.40</td>\n",
       "      <td>17.38</td>\n",
       "    </tr>\n",
       "    <tr>\n",
       "      <th>3</th>\n",
       "      <td>bwJVWupf2keN</td>\n",
       "      <td>639iGvMyv0De</td>\n",
       "      <td>jWzS0ayv9TGf</td>\n",
       "      <td>264.50</td>\n",
       "      <td>30.72</td>\n",
       "    </tr>\n",
       "    <tr>\n",
       "      <th>4</th>\n",
       "      <td>Dd0QnrMk9Cj5</td>\n",
       "      <td>1lycYGcsic2F</td>\n",
       "      <td>l1pYW6GBnPMr</td>\n",
       "      <td>779.90</td>\n",
       "      <td>30.66</td>\n",
       "    </tr>\n",
       "    <tr>\n",
       "      <th>...</th>\n",
       "      <td>...</td>\n",
       "      <td>...</td>\n",
       "      <td>...</td>\n",
       "      <td>...</td>\n",
       "      <td>...</td>\n",
       "    </tr>\n",
       "    <tr>\n",
       "      <th>89311</th>\n",
       "      <td>zlcLnXGgAabl</td>\n",
       "      <td>W8vikEizUggJ</td>\n",
       "      <td>2QjevWskirjm</td>\n",
       "      <td>31.99</td>\n",
       "      <td>188.65</td>\n",
       "    </tr>\n",
       "    <tr>\n",
       "      <th>89312</th>\n",
       "      <td>IlTAoIkILwrq</td>\n",
       "      <td>KXSbyJWtMMwZ</td>\n",
       "      <td>BFS9XJPapWv0</td>\n",
       "      <td>282.00</td>\n",
       "      <td>1.64</td>\n",
       "    </tr>\n",
       "    <tr>\n",
       "      <th>89313</th>\n",
       "      <td>uA6oXfftGVmT</td>\n",
       "      <td>EG4wDSpFyTth</td>\n",
       "      <td>TuPm19CMKvrM</td>\n",
       "      <td>58.10</td>\n",
       "      <td>4.09</td>\n",
       "    </tr>\n",
       "    <tr>\n",
       "      <th>89314</th>\n",
       "      <td>v3QtU6xlGDJp</td>\n",
       "      <td>ZWyg4uNWPHjJ</td>\n",
       "      <td>yGbPyLPc8PmT</td>\n",
       "      <td>2899.00</td>\n",
       "      <td>113.01</td>\n",
       "    </tr>\n",
       "    <tr>\n",
       "      <th>89315</th>\n",
       "      <td>Xo1fqyXOC6CR</td>\n",
       "      <td>5pbzE0rDy61l</td>\n",
       "      <td>mkWN70fui2ro</td>\n",
       "      <td>37.88</td>\n",
       "      <td>70.06</td>\n",
       "    </tr>\n",
       "  </tbody>\n",
       "</table>\n",
       "<p>89316 rows × 5 columns</p>\n",
       "</div>"
      ],
      "text/plain": [
       "           order_id    product_id     seller_id    price  shipping_charges\n",
       "0      Axfy13Hk4PIk  90K0C1fIyQUf  ZWM05J9LcBSF   223.51             84.65\n",
       "1      v6px92oS8cLG  qejhpMGGVcsl  IjlpYfhUbRQs   170.80             23.79\n",
       "2      Ulpf9skrhjfm  qUS5d2pEAyxJ  77p2EYxcM9MD    64.40             17.38\n",
       "3      bwJVWupf2keN  639iGvMyv0De  jWzS0ayv9TGf   264.50             30.72\n",
       "4      Dd0QnrMk9Cj5  1lycYGcsic2F  l1pYW6GBnPMr   779.90             30.66\n",
       "...             ...           ...           ...      ...               ...\n",
       "89311  zlcLnXGgAabl  W8vikEizUggJ  2QjevWskirjm    31.99            188.65\n",
       "89312  IlTAoIkILwrq  KXSbyJWtMMwZ  BFS9XJPapWv0   282.00              1.64\n",
       "89313  uA6oXfftGVmT  EG4wDSpFyTth  TuPm19CMKvrM    58.10              4.09\n",
       "89314  v3QtU6xlGDJp  ZWyg4uNWPHjJ  yGbPyLPc8PmT  2899.00            113.01\n",
       "89315  Xo1fqyXOC6CR  5pbzE0rDy61l  mkWN70fui2ro    37.88             70.06\n",
       "\n",
       "[89316 rows x 5 columns]"
      ]
     },
     "execution_count": 5,
     "metadata": {},
     "output_type": "execute_result"
    }
   ],
   "source": [
    "orderItems = pd.read_csv(\"base_data/df_OrderItems.csv\")\n",
    "orderItems"
   ]
  },
  {
   "cell_type": "code",
   "execution_count": 6,
   "id": "03bb7408",
   "metadata": {},
   "outputs": [
    {
     "data": {
      "application/vnd.microsoft.datawrangler.viewer.v0+json": {
       "columns": [
        {
         "name": "index",
         "rawType": "int64",
         "type": "integer"
        },
        {
         "name": "product_id",
         "rawType": "object",
         "type": "string"
        },
        {
         "name": "product_category_name",
         "rawType": "object",
         "type": "unknown"
        },
        {
         "name": "product_weight_g",
         "rawType": "float64",
         "type": "float"
        },
        {
         "name": "product_length_cm",
         "rawType": "float64",
         "type": "float"
        },
        {
         "name": "product_height_cm",
         "rawType": "float64",
         "type": "float"
        },
        {
         "name": "product_width_cm",
         "rawType": "float64",
         "type": "float"
        }
       ],
       "conversionMethod": "pd.DataFrame",
       "ref": "55225da2-9ed3-4137-986e-0637b3c82426",
       "rows": [
        [
         "0",
         "90K0C1fIyQUf",
         "toys",
         "491.0",
         "19.0",
         "12.0",
         "16.0"
        ],
        [
         "1",
         "qejhpMGGVcsl",
         "watches_gifts",
         "440.0",
         "18.0",
         "14.0",
         "17.0"
        ],
        [
         "2",
         "qUS5d2pEAyxJ",
         "costruction_tools_garden",
         "2200.0",
         "16.0",
         "16.0",
         "16.0"
        ],
        [
         "3",
         "639iGvMyv0De",
         "toys",
         "1450.0",
         "68.0",
         "3.0",
         "48.0"
        ],
        [
         "4",
         "1lycYGcsic2F",
         "toys",
         "300.0",
         "17.0",
         "4.0",
         "12.0"
        ],
        [
         "5",
         "TpFZIk33uyGn",
         "toys",
         "2800.0",
         "16.0",
         "31.0",
         "39.0"
        ],
        [
         "6",
         "Y0T4Ca4BXK8U",
         "bed_bath_table",
         "3975.0",
         "46.0",
         "12.0",
         "43.0"
        ],
        [
         "7",
         "IUykT5z5LcPW",
         "toys",
         "250.0",
         "45.0",
         "15.0",
         "35.0"
        ],
        [
         "8",
         "0UHKKyYmxWfq",
         "toys",
         "1200.0",
         "30.0",
         "23.0",
         "30.0"
        ],
        [
         "9",
         "MJ82dNJNiV7U",
         "toys",
         "1500.0",
         "30.0",
         "5.0",
         "20.0"
        ],
        [
         "10",
         "wdV7yJzaz3Su",
         "toys",
         "4338.0",
         "17.0",
         "12.0",
         "14.0"
        ],
        [
         "11",
         "V3ksL8RRt2uO",
         "toys",
         "350.0",
         "21.0",
         "22.0",
         "22.0"
        ],
        [
         "12",
         "vndXhZ66Bwpl",
         "toys",
         "500.0",
         "16.0",
         "12.0",
         "22.0"
        ],
        [
         "13",
         "2RxPIb6Sjlm1",
         "toys",
         "300.0",
         "38.0",
         "19.0",
         "22.0"
        ],
        [
         "14",
         "DXG0TFaZjGHO",
         "toys",
         "200.0",
         "16.0",
         "7.0",
         "11.0"
        ],
        [
         "15",
         "YCMS6jUWbEbe",
         "toys",
         "4000.0",
         "45.0",
         "20.0",
         "100.0"
        ],
        [
         "16",
         "CBuRjOln99hg",
         "auto",
         "350.0",
         "20.0",
         "15.0",
         "15.0"
        ],
        [
         "17",
         "tfgKHMdnTKpJ",
         "toys",
         "425.0",
         "17.0",
         "11.0",
         "14.0"
        ],
        [
         "18",
         "l0Q038BC2u3G",
         "health_beauty",
         "4200.0",
         "30.0",
         "10.0",
         "20.0"
        ],
        [
         "19",
         "V84ooqHQgeH2",
         "toys",
         "200.0",
         "20.0",
         "5.0",
         "15.0"
        ],
        [
         "20",
         "E9OiMOkPkNam",
         "toys",
         "335.0",
         "17.0",
         "11.0",
         "16.0"
        ],
        [
         "21",
         "aYw1jx6U0ZzQ",
         "toys",
         "300.0",
         "27.0",
         "25.0",
         "27.0"
        ],
        [
         "22",
         "kuUbPNBMgk7o",
         "toys",
         "2150.0",
         "30.0",
         "19.0",
         "25.0"
        ],
        [
         "23",
         "SESkOgF0nWnh",
         "cool_stuff",
         "1600.0",
         "42.0",
         "25.0",
         "15.0"
        ],
        [
         "24",
         "06Zem5ml9euJ",
         "toys",
         "175.0",
         "17.0",
         "6.0",
         "13.0"
        ],
        [
         "25",
         "ro08JPncYzLh",
         "garden_tools",
         "1650.0",
         "30.0",
         "22.0",
         "30.0"
        ],
        [
         "26",
         "lkPBqpnGNyKe",
         "toys",
         "650.0",
         "36.0",
         "15.0",
         "25.0"
        ],
        [
         "27",
         "saFIRNuu8V6H",
         "toys",
         "1500.0",
         "20.0",
         "30.0",
         "30.0"
        ],
        [
         "28",
         "uicu7Mpz6xlZ",
         "toys",
         "950.0",
         "100.0",
         "5.0",
         "20.0"
        ],
        [
         "29",
         "uCnShK796Rpb",
         "toys",
         "1700.0",
         "28.0",
         "14.0",
         "22.0"
        ],
        [
         "30",
         "tRV6VjdwdLAm",
         "toys",
         "1500.0",
         "40.0",
         "30.0",
         "30.0"
        ],
        [
         "31",
         "Hwaj6cncrjwO",
         "toys",
         "1300.0",
         "30.0",
         "30.0",
         "30.0"
        ],
        [
         "32",
         "YgnBaIterOVh",
         "toys",
         "2650.0",
         "16.0",
         "16.0",
         "62.0"
        ],
        [
         "33",
         "SLTlrWtcYt1m",
         "toys",
         "1750.0",
         "37.0",
         "22.0",
         "40.0"
        ],
        [
         "34",
         "yZJweQSasMAW",
         "toys",
         "350.0",
         "19.0",
         "19.0",
         "13.0"
        ],
        [
         "35",
         "kgF2KLJ8Ao3M",
         "toys",
         "107.0",
         "7.0",
         "7.0",
         "10.0"
        ],
        [
         "36",
         "8kUYWjdaVCxf",
         "toys",
         "250.0",
         "41.0",
         "2.0",
         "29.0"
        ],
        [
         "37",
         "QzAC1fDWMbmk",
         "toys",
         "100.0",
         "11.0",
         "11.0",
         "11.0"
        ],
        [
         "38",
         "R2u3pJSgF7Gr",
         "toys",
         "200.0",
         "19.0",
         "9.0",
         "12.0"
        ],
        [
         "39",
         "lSVmLWTOmgtw",
         "toys",
         "400.0",
         "16.0",
         "16.0",
         "22.0"
        ],
        [
         "40",
         "bDhxHlkU0GeF",
         "toys",
         "1100.0",
         "22.0",
         "21.0",
         "16.0"
        ],
        [
         "41",
         "MeFPAUcWfyAo",
         "toys",
         "1500.0",
         "18.0",
         "35.0",
         "48.0"
        ],
        [
         "42",
         "Mh5csf65CB6I",
         "toys",
         "900.0",
         "28.0",
         "29.0",
         "12.0"
        ],
        [
         "43",
         "hfEa3c65LTA2",
         "toys",
         "5950.0",
         "20.0",
         "20.0",
         "20.0"
        ],
        [
         "44",
         "Pb29t2XBfP6Q",
         "furniture_decor",
         "700.0",
         "35.0",
         "4.0",
         "30.0"
        ],
        [
         "45",
         "th6S1t44GAij",
         "toys",
         "1256.0",
         "28.0",
         "26.0",
         "30.0"
        ],
        [
         "46",
         "fUSMr8Wo77AI",
         "toys",
         "70.0",
         "19.0",
         "4.0",
         "15.0"
        ],
        [
         "47",
         "qI5i1mUxo5tX",
         "fashion_shoes",
         "400.0",
         "29.0",
         "7.0",
         "16.0"
        ],
        [
         "48",
         "AQRgJU930yvK",
         "toys",
         "5775.0",
         "104.0",
         "35.0",
         "30.0"
        ],
        [
         "49",
         "VCOwCoc0C3aj",
         "toys",
         "1200.0",
         "30.0",
         "4.0",
         "20.0"
        ]
       ],
       "shape": {
        "columns": 6,
        "rows": 89316
       }
      },
      "text/html": [
       "<div>\n",
       "<style scoped>\n",
       "    .dataframe tbody tr th:only-of-type {\n",
       "        vertical-align: middle;\n",
       "    }\n",
       "\n",
       "    .dataframe tbody tr th {\n",
       "        vertical-align: top;\n",
       "    }\n",
       "\n",
       "    .dataframe thead th {\n",
       "        text-align: right;\n",
       "    }\n",
       "</style>\n",
       "<table border=\"1\" class=\"dataframe\">\n",
       "  <thead>\n",
       "    <tr style=\"text-align: right;\">\n",
       "      <th></th>\n",
       "      <th>product_id</th>\n",
       "      <th>product_category_name</th>\n",
       "      <th>product_weight_g</th>\n",
       "      <th>product_length_cm</th>\n",
       "      <th>product_height_cm</th>\n",
       "      <th>product_width_cm</th>\n",
       "    </tr>\n",
       "  </thead>\n",
       "  <tbody>\n",
       "    <tr>\n",
       "      <th>0</th>\n",
       "      <td>90K0C1fIyQUf</td>\n",
       "      <td>toys</td>\n",
       "      <td>491.0</td>\n",
       "      <td>19.0</td>\n",
       "      <td>12.0</td>\n",
       "      <td>16.0</td>\n",
       "    </tr>\n",
       "    <tr>\n",
       "      <th>1</th>\n",
       "      <td>qejhpMGGVcsl</td>\n",
       "      <td>watches_gifts</td>\n",
       "      <td>440.0</td>\n",
       "      <td>18.0</td>\n",
       "      <td>14.0</td>\n",
       "      <td>17.0</td>\n",
       "    </tr>\n",
       "    <tr>\n",
       "      <th>2</th>\n",
       "      <td>qUS5d2pEAyxJ</td>\n",
       "      <td>costruction_tools_garden</td>\n",
       "      <td>2200.0</td>\n",
       "      <td>16.0</td>\n",
       "      <td>16.0</td>\n",
       "      <td>16.0</td>\n",
       "    </tr>\n",
       "    <tr>\n",
       "      <th>3</th>\n",
       "      <td>639iGvMyv0De</td>\n",
       "      <td>toys</td>\n",
       "      <td>1450.0</td>\n",
       "      <td>68.0</td>\n",
       "      <td>3.0</td>\n",
       "      <td>48.0</td>\n",
       "    </tr>\n",
       "    <tr>\n",
       "      <th>4</th>\n",
       "      <td>1lycYGcsic2F</td>\n",
       "      <td>toys</td>\n",
       "      <td>300.0</td>\n",
       "      <td>17.0</td>\n",
       "      <td>4.0</td>\n",
       "      <td>12.0</td>\n",
       "    </tr>\n",
       "    <tr>\n",
       "      <th>...</th>\n",
       "      <td>...</td>\n",
       "      <td>...</td>\n",
       "      <td>...</td>\n",
       "      <td>...</td>\n",
       "      <td>...</td>\n",
       "      <td>...</td>\n",
       "    </tr>\n",
       "    <tr>\n",
       "      <th>89311</th>\n",
       "      <td>W8vikEizUggJ</td>\n",
       "      <td>toys</td>\n",
       "      <td>700.0</td>\n",
       "      <td>21.0</td>\n",
       "      <td>14.0</td>\n",
       "      <td>14.0</td>\n",
       "    </tr>\n",
       "    <tr>\n",
       "      <th>89312</th>\n",
       "      <td>KXSbyJWtMMwZ</td>\n",
       "      <td>toys</td>\n",
       "      <td>600.0</td>\n",
       "      <td>16.0</td>\n",
       "      <td>16.0</td>\n",
       "      <td>16.0</td>\n",
       "    </tr>\n",
       "    <tr>\n",
       "      <th>89313</th>\n",
       "      <td>EG4wDSpFyTth</td>\n",
       "      <td>health_beauty</td>\n",
       "      <td>250.0</td>\n",
       "      <td>22.0</td>\n",
       "      <td>10.0</td>\n",
       "      <td>18.0</td>\n",
       "    </tr>\n",
       "    <tr>\n",
       "      <th>89314</th>\n",
       "      <td>ZWyg4uNWPHjJ</td>\n",
       "      <td>toys</td>\n",
       "      <td>250.0</td>\n",
       "      <td>16.0</td>\n",
       "      <td>2.0</td>\n",
       "      <td>11.0</td>\n",
       "    </tr>\n",
       "    <tr>\n",
       "      <th>89315</th>\n",
       "      <td>5pbzE0rDy61l</td>\n",
       "      <td>toys</td>\n",
       "      <td>1750.0</td>\n",
       "      <td>32.0</td>\n",
       "      <td>18.0</td>\n",
       "      <td>24.0</td>\n",
       "    </tr>\n",
       "  </tbody>\n",
       "</table>\n",
       "<p>89316 rows × 6 columns</p>\n",
       "</div>"
      ],
      "text/plain": [
       "         product_id     product_category_name  product_weight_g  \\\n",
       "0      90K0C1fIyQUf                      toys             491.0   \n",
       "1      qejhpMGGVcsl             watches_gifts             440.0   \n",
       "2      qUS5d2pEAyxJ  costruction_tools_garden            2200.0   \n",
       "3      639iGvMyv0De                      toys            1450.0   \n",
       "4      1lycYGcsic2F                      toys             300.0   \n",
       "...             ...                       ...               ...   \n",
       "89311  W8vikEizUggJ                      toys             700.0   \n",
       "89312  KXSbyJWtMMwZ                      toys             600.0   \n",
       "89313  EG4wDSpFyTth             health_beauty             250.0   \n",
       "89314  ZWyg4uNWPHjJ                      toys             250.0   \n",
       "89315  5pbzE0rDy61l                      toys            1750.0   \n",
       "\n",
       "       product_length_cm  product_height_cm  product_width_cm  \n",
       "0                   19.0               12.0              16.0  \n",
       "1                   18.0               14.0              17.0  \n",
       "2                   16.0               16.0              16.0  \n",
       "3                   68.0                3.0              48.0  \n",
       "4                   17.0                4.0              12.0  \n",
       "...                  ...                ...               ...  \n",
       "89311               21.0               14.0              14.0  \n",
       "89312               16.0               16.0              16.0  \n",
       "89313               22.0               10.0              18.0  \n",
       "89314               16.0                2.0              11.0  \n",
       "89315               32.0               18.0              24.0  \n",
       "\n",
       "[89316 rows x 6 columns]"
      ]
     },
     "execution_count": 6,
     "metadata": {},
     "output_type": "execute_result"
    }
   ],
   "source": [
    "products = pd.read_csv(\"base_data/df_Products.csv\")\n",
    "products"
   ]
  },
  {
   "cell_type": "code",
   "execution_count": 7,
   "id": "450d1b14",
   "metadata": {},
   "outputs": [
    {
     "name": "stdout",
     "output_type": "stream",
     "text": [
      "<class 'pandas.core.frame.DataFrame'>\n",
      "RangeIndex: 89316 entries, 0 to 89315\n",
      "Data columns (total 4 columns):\n",
      " #   Column                    Non-Null Count  Dtype \n",
      "---  ------                    --------------  ----- \n",
      " 0   customer_id               89316 non-null  object\n",
      " 1   customer_zip_code_prefix  89316 non-null  int64 \n",
      " 2   customer_city             89316 non-null  object\n",
      " 3   customer_state            89316 non-null  object\n",
      "dtypes: int64(1), object(3)\n",
      "memory usage: 2.7+ MB\n"
     ]
    }
   ],
   "source": [
    "customers.info()"
   ]
  },
  {
   "cell_type": "code",
   "execution_count": 8,
   "id": "9259e642",
   "metadata": {},
   "outputs": [
    {
     "name": "stdout",
     "output_type": "stream",
     "text": [
      "<class 'pandas.core.frame.DataFrame'>\n",
      "RangeIndex: 89316 entries, 0 to 89315\n",
      "Data columns (total 7 columns):\n",
      " #   Column                         Non-Null Count  Dtype \n",
      "---  ------                         --------------  ----- \n",
      " 0   order_id                       89316 non-null  object\n",
      " 1   customer_id                    89316 non-null  object\n",
      " 2   order_status                   89316 non-null  object\n",
      " 3   order_purchase_timestamp       89316 non-null  object\n",
      " 4   order_approved_at              89307 non-null  object\n",
      " 5   order_delivered_timestamp      87427 non-null  object\n",
      " 6   order_estimated_delivery_date  89316 non-null  object\n",
      "dtypes: object(7)\n",
      "memory usage: 4.8+ MB\n"
     ]
    }
   ],
   "source": [
    "orders.info()"
   ]
  },
  {
   "cell_type": "code",
   "execution_count": 9,
   "id": "d45a421b",
   "metadata": {},
   "outputs": [
    {
     "name": "stdout",
     "output_type": "stream",
     "text": [
      "<class 'pandas.core.frame.DataFrame'>\n",
      "RangeIndex: 89316 entries, 0 to 89315\n",
      "Data columns (total 6 columns):\n",
      " #   Column                 Non-Null Count  Dtype  \n",
      "---  ------                 --------------  -----  \n",
      " 0   product_id             89316 non-null  object \n",
      " 1   product_category_name  89008 non-null  object \n",
      " 2   product_weight_g       89301 non-null  float64\n",
      " 3   product_length_cm      89301 non-null  float64\n",
      " 4   product_height_cm      89301 non-null  float64\n",
      " 5   product_width_cm       89301 non-null  float64\n",
      "dtypes: float64(4), object(2)\n",
      "memory usage: 4.1+ MB\n"
     ]
    }
   ],
   "source": [
    "products.info()"
   ]
  },
  {
   "cell_type": "code",
   "execution_count": 10,
   "id": "a8bb8caa",
   "metadata": {},
   "outputs": [
    {
     "name": "stdout",
     "output_type": "stream",
     "text": [
      "<class 'pandas.core.frame.DataFrame'>\n",
      "RangeIndex: 89316 entries, 0 to 89315\n",
      "Data columns (total 5 columns):\n",
      " #   Column                Non-Null Count  Dtype  \n",
      "---  ------                --------------  -----  \n",
      " 0   order_id              89316 non-null  object \n",
      " 1   payment_sequential    89316 non-null  int64  \n",
      " 2   payment_type          89316 non-null  object \n",
      " 3   payment_installments  89316 non-null  int64  \n",
      " 4   payment_value         89316 non-null  float64\n",
      "dtypes: float64(1), int64(2), object(2)\n",
      "memory usage: 3.4+ MB\n"
     ]
    }
   ],
   "source": [
    "payments.info()"
   ]
  },
  {
   "cell_type": "code",
   "execution_count": 11,
   "id": "99981c01",
   "metadata": {},
   "outputs": [
    {
     "name": "stdout",
     "output_type": "stream",
     "text": [
      "<class 'pandas.core.frame.DataFrame'>\n",
      "RangeIndex: 89316 entries, 0 to 89315\n",
      "Data columns (total 5 columns):\n",
      " #   Column            Non-Null Count  Dtype  \n",
      "---  ------            --------------  -----  \n",
      " 0   order_id          89316 non-null  object \n",
      " 1   product_id        89316 non-null  object \n",
      " 2   seller_id         89316 non-null  object \n",
      " 3   price             89316 non-null  float64\n",
      " 4   shipping_charges  89316 non-null  float64\n",
      "dtypes: float64(2), object(3)\n",
      "memory usage: 3.4+ MB\n"
     ]
    }
   ],
   "source": [
    "orderItems.info()"
   ]
  },
  {
   "cell_type": "code",
   "execution_count": 12,
   "id": "c938a122",
   "metadata": {},
   "outputs": [],
   "source": [
    "orders['order_purchase_timestamp'] = pd.to_datetime(orders['order_purchase_timestamp'])\n",
    "orders['order_approved_at'] = pd.to_datetime(orders['order_approved_at'])\n",
    "orders['order_delivered_timestamp'] = pd.to_datetime(orders['order_delivered_timestamp'])\n",
    "orders['order_estimated_delivery_date'] = pd.to_datetime(orders['order_estimated_delivery_date'])"
   ]
  },
  {
   "cell_type": "code",
   "execution_count": 13,
   "id": "3f8451fa",
   "metadata": {},
   "outputs": [],
   "source": [
    "payments['payment_value'] = payments['payment_value'].astype(float)\n",
    "orderItems['price'] = orderItems['price'].astype(float)"
   ]
  },
  {
   "cell_type": "code",
   "execution_count": 17,
   "id": "a8ad95e0",
   "metadata": {},
   "outputs": [
    {
     "data": {
      "text/plain": [
       "order_id\n",
       "001gkk6BwKEB    1\n",
       "0029bAIZFMKA    1\n",
       "002Jk8hp9Bhy    1\n",
       "002ohHsWSKrP    1\n",
       "0041NijdAYB0    1\n",
       "               ..\n",
       "zznTUG01XP33    1\n",
       "zzp0E0UK1yAl    1\n",
       "zzq1nZ4dGR6g    1\n",
       "zzqZvKoIAsrw    1\n",
       "zzxE4qACYBT2    1\n",
       "Name: product_id, Length: 89316, dtype: int64"
      ]
     },
     "execution_count": 17,
     "metadata": {},
     "output_type": "execute_result"
    }
   ],
   "source": [
    "orderItems.groupby(\"order_id\")['product_id'].nunique()"
   ]
  },
  {
   "cell_type": "code",
   "execution_count": 19,
   "id": "7ee67aea",
   "metadata": {},
   "outputs": [
    {
     "data": {
      "text/plain": [
       "product_id\n",
       "1    89316\n",
       "Name: count, dtype: int64"
      ]
     },
     "execution_count": 19,
     "metadata": {},
     "output_type": "execute_result"
    }
   ],
   "source": [
    "orderItems.groupby('order_id')['product_id'].nunique().value_counts().head()"
   ]
  },
  {
   "cell_type": "code",
   "execution_count": null,
   "id": "a8ddbf00",
   "metadata": {},
   "outputs": [],
   "source": [
    "orders_full=orders.merge(customers, on='customer_id', how='left')  \n",
    "orders_full=orders_full.merge(payments, on='order_id', how='left') \n",
    "orders_full=orders_full.merge(orderItems, on='order_id', how='left') \n",
    "orders_full=orders_full.merge(products, on='product_id', how='left') "
   ]
  },
  {
   "cell_type": "code",
   "execution_count": 21,
   "id": "f2796375",
   "metadata": {},
   "outputs": [
    {
     "data": {
      "text/plain": [
       "2440170"
      ]
     },
     "execution_count": 21,
     "metadata": {},
     "output_type": "execute_result"
    }
   ],
   "source": [
    "orders_full.duplicated(subset=['order_id', 'customer_id', 'product_id', 'seller_id']).sum()"
   ]
  },
  {
   "cell_type": "code",
   "execution_count": 24,
   "id": "8f281777",
   "metadata": {},
   "outputs": [
    {
     "data": {
      "application/vnd.microsoft.datawrangler.viewer.v0+json": {
       "columns": [
        {
         "name": "index",
         "rawType": "int64",
         "type": "integer"
        },
        {
         "name": "product_id",
         "rawType": "object",
         "type": "string"
        },
        {
         "name": "product_category_name",
         "rawType": "object",
         "type": "unknown"
        },
        {
         "name": "product_weight_g",
         "rawType": "float64",
         "type": "float"
        },
        {
         "name": "product_length_cm",
         "rawType": "float64",
         "type": "float"
        },
        {
         "name": "product_height_cm",
         "rawType": "float64",
         "type": "float"
        },
        {
         "name": "product_width_cm",
         "rawType": "float64",
         "type": "float"
        }
       ],
       "conversionMethod": "pd.DataFrame",
       "ref": "c86bfe99-a1c1-4815-b2c4-d43b8400e6f4",
       "rows": [
        [
         "0",
         "90K0C1fIyQUf",
         "toys",
         "491.0",
         "19.0",
         "12.0",
         "16.0"
        ],
        [
         "1",
         "qejhpMGGVcsl",
         "watches_gifts",
         "440.0",
         "18.0",
         "14.0",
         "17.0"
        ],
        [
         "2",
         "qUS5d2pEAyxJ",
         "costruction_tools_garden",
         "2200.0",
         "16.0",
         "16.0",
         "16.0"
        ],
        [
         "3",
         "639iGvMyv0De",
         "toys",
         "1450.0",
         "68.0",
         "3.0",
         "48.0"
        ],
        [
         "4",
         "1lycYGcsic2F",
         "toys",
         "300.0",
         "17.0",
         "4.0",
         "12.0"
        ],
        [
         "5",
         "TpFZIk33uyGn",
         "toys",
         "2800.0",
         "16.0",
         "31.0",
         "39.0"
        ],
        [
         "6",
         "Y0T4Ca4BXK8U",
         "bed_bath_table",
         "3975.0",
         "46.0",
         "12.0",
         "43.0"
        ],
        [
         "7",
         "IUykT5z5LcPW",
         "toys",
         "250.0",
         "45.0",
         "15.0",
         "35.0"
        ],
        [
         "8",
         "0UHKKyYmxWfq",
         "toys",
         "1200.0",
         "30.0",
         "23.0",
         "30.0"
        ],
        [
         "9",
         "MJ82dNJNiV7U",
         "toys",
         "1500.0",
         "30.0",
         "5.0",
         "20.0"
        ],
        [
         "10",
         "wdV7yJzaz3Su",
         "toys",
         "4338.0",
         "17.0",
         "12.0",
         "14.0"
        ],
        [
         "11",
         "V3ksL8RRt2uO",
         "toys",
         "350.0",
         "21.0",
         "22.0",
         "22.0"
        ],
        [
         "12",
         "vndXhZ66Bwpl",
         "toys",
         "500.0",
         "16.0",
         "12.0",
         "22.0"
        ],
        [
         "13",
         "2RxPIb6Sjlm1",
         "toys",
         "300.0",
         "38.0",
         "19.0",
         "22.0"
        ],
        [
         "14",
         "DXG0TFaZjGHO",
         "toys",
         "200.0",
         "16.0",
         "7.0",
         "11.0"
        ],
        [
         "15",
         "YCMS6jUWbEbe",
         "toys",
         "4000.0",
         "45.0",
         "20.0",
         "100.0"
        ],
        [
         "16",
         "CBuRjOln99hg",
         "auto",
         "350.0",
         "20.0",
         "15.0",
         "15.0"
        ],
        [
         "17",
         "tfgKHMdnTKpJ",
         "toys",
         "425.0",
         "17.0",
         "11.0",
         "14.0"
        ],
        [
         "18",
         "l0Q038BC2u3G",
         "health_beauty",
         "4200.0",
         "30.0",
         "10.0",
         "20.0"
        ],
        [
         "19",
         "V84ooqHQgeH2",
         "toys",
         "200.0",
         "20.0",
         "5.0",
         "15.0"
        ],
        [
         "20",
         "E9OiMOkPkNam",
         "toys",
         "335.0",
         "17.0",
         "11.0",
         "16.0"
        ],
        [
         "21",
         "aYw1jx6U0ZzQ",
         "toys",
         "300.0",
         "27.0",
         "25.0",
         "27.0"
        ],
        [
         "22",
         "kuUbPNBMgk7o",
         "toys",
         "2150.0",
         "30.0",
         "19.0",
         "25.0"
        ],
        [
         "23",
         "SESkOgF0nWnh",
         "cool_stuff",
         "1600.0",
         "42.0",
         "25.0",
         "15.0"
        ],
        [
         "24",
         "06Zem5ml9euJ",
         "toys",
         "175.0",
         "17.0",
         "6.0",
         "13.0"
        ],
        [
         "25",
         "ro08JPncYzLh",
         "garden_tools",
         "1650.0",
         "30.0",
         "22.0",
         "30.0"
        ],
        [
         "26",
         "lkPBqpnGNyKe",
         "toys",
         "650.0",
         "36.0",
         "15.0",
         "25.0"
        ],
        [
         "27",
         "saFIRNuu8V6H",
         "toys",
         "1500.0",
         "20.0",
         "30.0",
         "30.0"
        ],
        [
         "28",
         "uicu7Mpz6xlZ",
         "toys",
         "950.0",
         "100.0",
         "5.0",
         "20.0"
        ],
        [
         "29",
         "uCnShK796Rpb",
         "toys",
         "1700.0",
         "28.0",
         "14.0",
         "22.0"
        ],
        [
         "30",
         "tRV6VjdwdLAm",
         "toys",
         "1500.0",
         "40.0",
         "30.0",
         "30.0"
        ],
        [
         "31",
         "Hwaj6cncrjwO",
         "toys",
         "1300.0",
         "30.0",
         "30.0",
         "30.0"
        ],
        [
         "32",
         "YgnBaIterOVh",
         "toys",
         "2650.0",
         "16.0",
         "16.0",
         "62.0"
        ],
        [
         "33",
         "SLTlrWtcYt1m",
         "toys",
         "1750.0",
         "37.0",
         "22.0",
         "40.0"
        ],
        [
         "34",
         "yZJweQSasMAW",
         "toys",
         "350.0",
         "19.0",
         "19.0",
         "13.0"
        ],
        [
         "35",
         "kgF2KLJ8Ao3M",
         "toys",
         "107.0",
         "7.0",
         "7.0",
         "10.0"
        ],
        [
         "36",
         "8kUYWjdaVCxf",
         "toys",
         "250.0",
         "41.0",
         "2.0",
         "29.0"
        ],
        [
         "37",
         "QzAC1fDWMbmk",
         "toys",
         "100.0",
         "11.0",
         "11.0",
         "11.0"
        ],
        [
         "38",
         "R2u3pJSgF7Gr",
         "toys",
         "200.0",
         "19.0",
         "9.0",
         "12.0"
        ],
        [
         "39",
         "lSVmLWTOmgtw",
         "toys",
         "400.0",
         "16.0",
         "16.0",
         "22.0"
        ],
        [
         "40",
         "bDhxHlkU0GeF",
         "toys",
         "1100.0",
         "22.0",
         "21.0",
         "16.0"
        ],
        [
         "41",
         "MeFPAUcWfyAo",
         "toys",
         "1500.0",
         "18.0",
         "35.0",
         "48.0"
        ],
        [
         "42",
         "Mh5csf65CB6I",
         "toys",
         "900.0",
         "28.0",
         "29.0",
         "12.0"
        ],
        [
         "43",
         "hfEa3c65LTA2",
         "toys",
         "5950.0",
         "20.0",
         "20.0",
         "20.0"
        ],
        [
         "44",
         "Pb29t2XBfP6Q",
         "furniture_decor",
         "700.0",
         "35.0",
         "4.0",
         "30.0"
        ],
        [
         "45",
         "th6S1t44GAij",
         "toys",
         "1256.0",
         "28.0",
         "26.0",
         "30.0"
        ],
        [
         "46",
         "fUSMr8Wo77AI",
         "toys",
         "70.0",
         "19.0",
         "4.0",
         "15.0"
        ],
        [
         "47",
         "qI5i1mUxo5tX",
         "fashion_shoes",
         "400.0",
         "29.0",
         "7.0",
         "16.0"
        ],
        [
         "48",
         "AQRgJU930yvK",
         "toys",
         "5775.0",
         "104.0",
         "35.0",
         "30.0"
        ],
        [
         "49",
         "VCOwCoc0C3aj",
         "toys",
         "1200.0",
         "30.0",
         "4.0",
         "20.0"
        ]
       ],
       "shape": {
        "columns": 6,
        "rows": 27451
       }
      },
      "text/html": [
       "<div>\n",
       "<style scoped>\n",
       "    .dataframe tbody tr th:only-of-type {\n",
       "        vertical-align: middle;\n",
       "    }\n",
       "\n",
       "    .dataframe tbody tr th {\n",
       "        vertical-align: top;\n",
       "    }\n",
       "\n",
       "    .dataframe thead th {\n",
       "        text-align: right;\n",
       "    }\n",
       "</style>\n",
       "<table border=\"1\" class=\"dataframe\">\n",
       "  <thead>\n",
       "    <tr style=\"text-align: right;\">\n",
       "      <th></th>\n",
       "      <th>product_id</th>\n",
       "      <th>product_category_name</th>\n",
       "      <th>product_weight_g</th>\n",
       "      <th>product_length_cm</th>\n",
       "      <th>product_height_cm</th>\n",
       "      <th>product_width_cm</th>\n",
       "    </tr>\n",
       "  </thead>\n",
       "  <tbody>\n",
       "    <tr>\n",
       "      <th>0</th>\n",
       "      <td>90K0C1fIyQUf</td>\n",
       "      <td>toys</td>\n",
       "      <td>491.0</td>\n",
       "      <td>19.0</td>\n",
       "      <td>12.0</td>\n",
       "      <td>16.0</td>\n",
       "    </tr>\n",
       "    <tr>\n",
       "      <th>1</th>\n",
       "      <td>qejhpMGGVcsl</td>\n",
       "      <td>watches_gifts</td>\n",
       "      <td>440.0</td>\n",
       "      <td>18.0</td>\n",
       "      <td>14.0</td>\n",
       "      <td>17.0</td>\n",
       "    </tr>\n",
       "    <tr>\n",
       "      <th>2</th>\n",
       "      <td>qUS5d2pEAyxJ</td>\n",
       "      <td>costruction_tools_garden</td>\n",
       "      <td>2200.0</td>\n",
       "      <td>16.0</td>\n",
       "      <td>16.0</td>\n",
       "      <td>16.0</td>\n",
       "    </tr>\n",
       "    <tr>\n",
       "      <th>3</th>\n",
       "      <td>639iGvMyv0De</td>\n",
       "      <td>toys</td>\n",
       "      <td>1450.0</td>\n",
       "      <td>68.0</td>\n",
       "      <td>3.0</td>\n",
       "      <td>48.0</td>\n",
       "    </tr>\n",
       "    <tr>\n",
       "      <th>4</th>\n",
       "      <td>1lycYGcsic2F</td>\n",
       "      <td>toys</td>\n",
       "      <td>300.0</td>\n",
       "      <td>17.0</td>\n",
       "      <td>4.0</td>\n",
       "      <td>12.0</td>\n",
       "    </tr>\n",
       "    <tr>\n",
       "      <th>...</th>\n",
       "      <td>...</td>\n",
       "      <td>...</td>\n",
       "      <td>...</td>\n",
       "      <td>...</td>\n",
       "      <td>...</td>\n",
       "      <td>...</td>\n",
       "    </tr>\n",
       "    <tr>\n",
       "      <th>89291</th>\n",
       "      <td>USSzekoHkA25</td>\n",
       "      <td>toys</td>\n",
       "      <td>1352.0</td>\n",
       "      <td>37.0</td>\n",
       "      <td>9.0</td>\n",
       "      <td>30.0</td>\n",
       "    </tr>\n",
       "    <tr>\n",
       "      <th>89297</th>\n",
       "      <td>SZRgDV7xa2U8</td>\n",
       "      <td>toys</td>\n",
       "      <td>1360.0</td>\n",
       "      <td>28.0</td>\n",
       "      <td>21.0</td>\n",
       "      <td>24.0</td>\n",
       "    </tr>\n",
       "    <tr>\n",
       "      <th>89303</th>\n",
       "      <td>w2OtdEjwNHBr</td>\n",
       "      <td>toys</td>\n",
       "      <td>833.0</td>\n",
       "      <td>17.0</td>\n",
       "      <td>12.0</td>\n",
       "      <td>16.0</td>\n",
       "    </tr>\n",
       "    <tr>\n",
       "      <th>89311</th>\n",
       "      <td>W8vikEizUggJ</td>\n",
       "      <td>toys</td>\n",
       "      <td>700.0</td>\n",
       "      <td>21.0</td>\n",
       "      <td>14.0</td>\n",
       "      <td>14.0</td>\n",
       "    </tr>\n",
       "    <tr>\n",
       "      <th>89315</th>\n",
       "      <td>5pbzE0rDy61l</td>\n",
       "      <td>toys</td>\n",
       "      <td>1750.0</td>\n",
       "      <td>32.0</td>\n",
       "      <td>18.0</td>\n",
       "      <td>24.0</td>\n",
       "    </tr>\n",
       "  </tbody>\n",
       "</table>\n",
       "<p>27451 rows × 6 columns</p>\n",
       "</div>"
      ],
      "text/plain": [
       "         product_id     product_category_name  product_weight_g  \\\n",
       "0      90K0C1fIyQUf                      toys             491.0   \n",
       "1      qejhpMGGVcsl             watches_gifts             440.0   \n",
       "2      qUS5d2pEAyxJ  costruction_tools_garden            2200.0   \n",
       "3      639iGvMyv0De                      toys            1450.0   \n",
       "4      1lycYGcsic2F                      toys             300.0   \n",
       "...             ...                       ...               ...   \n",
       "89291  USSzekoHkA25                      toys            1352.0   \n",
       "89297  SZRgDV7xa2U8                      toys            1360.0   \n",
       "89303  w2OtdEjwNHBr                      toys             833.0   \n",
       "89311  W8vikEizUggJ                      toys             700.0   \n",
       "89315  5pbzE0rDy61l                      toys            1750.0   \n",
       "\n",
       "       product_length_cm  product_height_cm  product_width_cm  \n",
       "0                   19.0               12.0              16.0  \n",
       "1                   18.0               14.0              17.0  \n",
       "2                   16.0               16.0              16.0  \n",
       "3                   68.0                3.0              48.0  \n",
       "4                   17.0                4.0              12.0  \n",
       "...                  ...                ...               ...  \n",
       "89291               37.0                9.0              30.0  \n",
       "89297               28.0               21.0              24.0  \n",
       "89303               17.0               12.0              16.0  \n",
       "89311               21.0               14.0              14.0  \n",
       "89315               32.0               18.0              24.0  \n",
       "\n",
       "[27451 rows x 6 columns]"
      ]
     },
     "execution_count": 24,
     "metadata": {},
     "output_type": "execute_result"
    }
   ],
   "source": [
    "x = products.drop_duplicates()\n",
    "x"
   ]
  },
  {
   "cell_type": "code",
   "execution_count": null,
   "id": "7e110f57",
   "metadata": {},
   "outputs": [
    {
     "data": {
      "text/plain": [
       "product_id\n",
       "00BIIFInAdcQ    1\n",
       "00FVdl7l7TLz    1\n",
       "00MeCa7ZMo03    1\n",
       "00V9K0LkMBYL    1\n",
       "00ehq6lzh6MX    1\n",
       "               ..\n",
       "zzVsv7FKKs9m    1\n",
       "zzddahYAwwwB    1\n",
       "zzqhFv79Esms    1\n",
       "zztEAImyIjb9    1\n",
       "zztLAWHNx6cP    1\n",
       "Name: product_weight_g, Length: 27451, dtype: int64"
      ]
     },
     "execution_count": 23,
     "metadata": {},
     "output_type": "execute_result"
    }
   ],
   "source": [
    "products.pivot_table(index=\"product_id\",values=)"
   ]
  },
  {
   "cell_type": "code",
   "execution_count": null,
   "id": "1b5a62e5",
   "metadata": {},
   "outputs": [],
   "source": []
  }
 ],
 "metadata": {
  "kernelspec": {
   "display_name": "Python 3",
   "language": "python",
   "name": "python3"
  },
  "language_info": {
   "codemirror_mode": {
    "name": "ipython",
    "version": 3
   },
   "file_extension": ".py",
   "mimetype": "text/x-python",
   "name": "python",
   "nbconvert_exporter": "python",
   "pygments_lexer": "ipython3",
   "version": "3.12.8"
  }
 },
 "nbformat": 4,
 "nbformat_minor": 5
}
